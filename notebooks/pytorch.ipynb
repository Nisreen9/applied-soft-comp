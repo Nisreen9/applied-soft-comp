{
 "cells": [
  {
   "cell_type": "markdown",
   "id": "b539a62a",
   "metadata": {},
   "source": [
    "\n",
    "# [![Open In Colab](https://colab.research.google.com/assets/colab-badge.svg)](https://colab.research.google.com/github/skojaku/applied-soft-comp/blob/main/notebooks/pytorch.ipynb)\n",
    "\n",
    "\n",
    "# Introduction to PyTorch\n",
    "\n",
    "This notebook introduces the fundamentals of PyTorch, focusing on tensor operations and linear algebra concepts. We'll start from the basics and gradually build up to more complex operations."
   ]
  },
  {
   "cell_type": "code",
   "execution_count": 1,
   "id": "031af134",
   "metadata": {},
   "outputs": [],
   "source": [
    "# First, let's import our required libraries\n",
    "import torch\n",
    "import numpy as np\n",
    "import matplotlib.pyplot as plt"
   ]
  },
  {
   "cell_type": "markdown",
   "id": "930dd4a2",
   "metadata": {},
   "source": [
    "## Introduction to PyTorch Tensors\n",
    "\n",
    "### What is a Tensor?\n",
    "\n",
    "![](https://miro.medium.com/v2/resize:fit:880/1*WbLIc4-xIOfHiO2oWzimyA.png)\n",
    "\n",
    "A tensor is simply a container for numbers. It can be:\n",
    "- A single number (scalar) - 0-dimensional tensor\n",
    "- A list of numbers (vector) - 1-dimensional tensor\n",
    "- A table of numbers (matrix) - 2-dimensional tensor\n",
    "- A cube of numbers (and beyond!) - 3+ dimensional tensor\n",
    "\n",
    "Let's create some tensors:"
   ]
  },
  {
   "cell_type": "code",
   "execution_count": 3,
   "id": "adc2e6d5",
   "metadata": {},
   "outputs": [
    {
     "name": "stdout",
     "output_type": "stream",
     "text": [
      "Scalar shape: torch.Size([])\n",
      "Vector shape: torch.Size([5])\n",
      "Matrix shape: torch.Size([3, 3])\n",
      "Cube shape: torch.Size([2, 2, 2])\n"
     ]
    },
    {
     "data": {
      "image/png": "[encoded data removed]",
      "text/plain": [
       "<Figure size 600x600 with 2 Axes>"
      ]
     },
     "metadata": {},
     "output_type": "display_data"
    }
   ],
   "source": [
    "# Creating tensors of different dimensions\n",
    "scalar = torch.tensor(3.14)\n",
    "vector = torch.tensor([1, 2, 3, 4, 5])\n",
    "matrix = torch.tensor([[1, 2, 3],\n",
    "                      [4, 5, 6],\n",
    "                      [7, 8, 9]])\n",
    "cube = torch.tensor([[[1, 2], [3, 4]],\n",
    "                    [[5, 6], [7, 8]]])\n",
    "\n",
    "# Let's print their shapes\n",
    "print(f\"Scalar shape: {scalar.shape}\")\n",
    "print(f\"Vector shape: {vector.shape}\")\n",
    "print(f\"Matrix shape: {matrix.shape}\")\n",
    "print(f\"Cube shape: {cube.shape}\")\n",
    "\n",
    "# Visualize the matrix using matplotlib\n",
    "plt.figure(figsize=(6, 6))\n",
    "plt.imshow(matrix.numpy(), cmap='viridis')\n",
    "plt.colorbar()\n",
    "plt.title('Visualization of our 3x3 Matrix')\n",
    "plt.show()"
   ]
  },
  {
   "cell_type": "markdown",
   "id": "ba796e28",
   "metadata": {},
   "source": [
    "### Creating Tensors\n",
    "PyTorch provides several ways to create tensors:"
   ]
  },
  {
   "cell_type": "code",
   "execution_count": 4,
   "id": "d52d73e4",
   "metadata": {},
   "outputs": [
    {
     "name": "stdout",
     "output_type": "stream",
     "text": [
      "Zeros tensor:\n",
      " tensor([[0., 0., 0., 0.],\n",
      "        [0., 0., 0., 0.],\n",
      "        [0., 0., 0., 0.]])\n",
      "\n",
      "Ones tensor:\n",
      " tensor([[1., 1., 1.],\n",
      "        [1., 1., 1.]])\n",
      "\n",
      "Random tensor:\n",
      " tensor([[0.1568, 0.1792, 0.6185],\n",
      "        [0.5723, 0.8979, 0.1207],\n",
      "        [0.4178, 0.5432, 0.7317]])\n",
      "\n",
      "Range tensor: tensor([0, 1, 2, 3, 4, 5, 6, 7, 8, 9])\n",
      "\n",
      "Linspace tensor: tensor([0.0000, 0.2500, 0.5000, 0.7500, 1.0000])\n"
     ]
    }
   ],
   "source": [
    "# Create tensors with specific values\n",
    "zeros = torch.zeros(3, 4)  # 3x4 tensor of zeros\n",
    "ones = torch.ones(2, 3)    # 2x3 tensor of ones\n",
    "random = torch.rand(3, 3)  # 3x3 tensor of random numbers between 0 and 1\n",
    "\n",
    "# Create tensors with specific ranges\n",
    "range_tensor = torch.arange(0, 10, step=1)  # Creates [0, 1, 2, ..., 9]\n",
    "linspace = torch.linspace(0, 1, steps=5)    # Creates 5 evenly spaced points between 0 and 1\n",
    "\n",
    "print(\"Zeros tensor:\\n\", zeros)\n",
    "print(\"\\nOnes tensor:\\n\", ones)\n",
    "print(\"\\nRandom tensor:\\n\", random)\n",
    "print(\"\\nRange tensor:\", range_tensor)\n",
    "print(\"\\nLinspace tensor:\", linspace)"
   ]
  },
  {
   "cell_type": "markdown",
   "id": "e7e22ae6",
   "metadata": {},
   "source": [
    "### Working with GPU (if available)\n",
    "PyTorch makes it easy to move computations to GPU:"
   ]
  },
  {
   "cell_type": "code",
   "execution_count": 6,
   "id": "299e9060",
   "metadata": {},
   "outputs": [
    {
     "name": "stdout",
     "output_type": "stream",
     "text": [
      "Using device: cpu\n",
      "Tensor on cpu:\n",
      " tensor([[0.8234, 0.0439, 0.2012],\n",
      "        [0.6818, 0.7916, 0.7941],\n",
      "        [0.7189, 0.0458, 0.9823]])\n"
     ]
    }
   ],
   "source": [
    "# Check if GPU is available\n",
    "device = torch.device('cuda' if torch.cuda.is_available() else 'cpu')\n",
    "print(f\"Using device: {device}\")\n",
    "\n",
    "# Create a tensor and move it to the available device\n",
    "tensor_on_device = torch.rand(3, 3).to(device)\n",
    "print(f\"Tensor on {device}:\\n\", tensor_on_device)"
   ]
  },
  {
   "cell_type": "markdown",
   "id": "6317d3a4",
   "metadata": {},
   "source": [
    "### Basic Tensor Operations"
   ]
  },
  {
   "cell_type": "code",
   "execution_count": 7,
   "id": "4213cf4e",
   "metadata": {},
   "outputs": [
    {
     "name": "stdout",
     "output_type": "stream",
     "text": [
      "Addition:\n",
      " tensor([[ 6,  8],\n",
      "        [10, 12]])\n",
      "\n",
      "Element-wise multiplication:\n",
      " tensor([[ 5, 12],\n",
      "        [21, 32]])\n",
      "\n",
      "Matrix multiplication:\n",
      " tensor([[19, 22],\n",
      "        [43, 50]])\n",
      "\n",
      "Matrix multiplication (using @):\n",
      " tensor([[19, 22],\n",
      "        [43, 50]])\n"
     ]
    }
   ],
   "source": [
    "# Create two tensors\n",
    "a = torch.tensor([[1, 2], [3, 4]])\n",
    "b = torch.tensor([[5, 6], [7, 8]])\n",
    "\n",
    "# Addition\n",
    "print(\"Addition:\\n\", a + b)\n",
    "\n",
    "# Multiplication (element-wise)\n",
    "print(\"\\nElement-wise multiplication:\\n\", a * b)\n",
    "\n",
    "# Matrix multiplication\n",
    "print(\"\\nMatrix multiplication:\\n\", torch.matmul(a, b))\n",
    "\n",
    "# or using the @ operator\n",
    "print(\"\\nMatrix multiplication (using @):\\n\", a @ b)"
   ]
  },
  {
   "cell_type": "markdown",
   "id": "c8211567",
   "metadata": {},
   "source": [
    "### Common Tensor Operations and Troubleshooting"
   ]
  },
  {
   "cell_type": "code",
   "execution_count": 9,
   "id": "234fb766",
   "metadata": {},
   "outputs": [
    {
     "name": "stdout",
     "output_type": "stream",
     "text": [
      "An error occurred: Torch not compiled with CUDA enabled\n"
     ]
    }
   ],
   "source": [
    "try:\n",
    "    # Create example tensors\n",
    "    a = torch.tensor([[1, 2], [3, 4]]).to(\"cpu\")\n",
    "    b = torch.tensor([[5, 6], [7, 8]]).to(\"cuda\")\n",
    "\n",
    "    # TROUBLESHOOTING TIP: Shape mismatches\n",
    "    # If you get a RuntimeError about shape mismatch, check tensor shapes:\n",
    "    print(f\"Shape of a: {a.shape}\")\n",
    "    print(f\"Shape of b: {b.shape}\")\n",
    "    # Fix by reshaping: tensor.reshape(new_shape) or tensor.view(new_shape)\n",
    "\n",
    "    # TROUBLESHOOTING TIP: Wrong device\n",
    "    # If you get a \"tensors must be on the same device\" error:\n",
    "    print(f\"Device of a: {a.device}\")\n",
    "    print(f\"Device of b: {b.device}\")\n",
    "    # Fix by moving tensors to same device: tensor.to(device)\n",
    "\n",
    "except RuntimeError as e:\n",
    "    print(f\"Runtime Error occurred: {e}\")\n",
    "    print(\"This may be due to CUDA not being available or tensors being on different devices\")\n",
    "except Exception as e:\n",
    "    print(f\"An error occurred: {e}\")"
   ]
  },
  {
   "cell_type": "markdown",
   "id": "19383f07",
   "metadata": {},
   "source": [
    "### Understanding Broadcasting in Detail\n",
    "Broadcasting follows these rules:\n",
    "1. Arrays must have the same number of dimensions, or\n",
    "2. One array can have fewer dimensions if they match from right to left\n",
    "3. Each dimension must be equal, or one must be 1"
   ]
  },
  {
   "cell_type": "code",
   "execution_count": 10,
   "id": "0a1220d6",
   "metadata": {},
   "outputs": [
    {
     "name": "stdout",
     "output_type": "stream",
     "text": [
      "Error: The size of tensor a (4) must match the size of tensor b (3) at non-singleton dimension 1\n",
      "Fix: Ensure shapes are compatible for broadcasting\n"
     ]
    }
   ],
   "source": [
    "# Examples of valid broadcasting\n",
    "a = torch.ones(3, 4)\n",
    "b = torch.ones(4)  # Will be broadcast to (3, 4)\n",
    "c = a + b  # Works!\n",
    "\n",
    "# TROUBLESHOOTING TIP: Invalid broadcasting\n",
    "try:\n",
    "    d = torch.ones(4, 3)\n",
    "    result = a + d  # Will fail!\n",
    "except RuntimeError as e:\n",
    "    print(f\"Error: {e}\")\n",
    "    print(\"Fix: Ensure shapes are compatible for broadcasting\")"
   ]
  },
  {
   "cell_type": "markdown",
   "id": "4746dafa",
   "metadata": {},
   "source": [
    "### Memory Management Best Practices\n",
    "\n",
    "In-place operations modify tensors directly instead of creating new ones.\n",
    "They are denoted by a trailing underscore (_) in PyTorch.\n",
    "Examples:\n",
    "- add_() instead of add()\n",
    "- mul_() instead of mul()\n",
    "- sub_() instead of sub()\n",
    "\n",
    "These operations are memory efficient since they don't create new tensors, making them valuable for large models and datasets where memory is constrained. However, they can't be used with tensors requiring gradients and may cause issues with shared tensors, so they should be implemented carefully, especially in training loops."
   ]
  },
  {
   "cell_type": "code",
   "execution_count": 11,
   "id": "41866587",
   "metadata": {},
   "outputs": [],
   "source": [
    "# TROUBLESHOOTING TIP: Memory leaks\n",
    "# Use in-place operations when possible to reduce memory usage\n",
    "x = torch.ones(1000, 1000)\n",
    "# Instead of: x = x + 1\n",
    "x.add_(1)  # In-place addition\n",
    "# x+=1\n",
    "# Clear GPU cache if needed\n",
    "if torch.cuda.is_available():\n",
    "    torch.cuda.empty_cache()"
   ]
  },
  {
   "cell_type": "markdown",
   "id": "08a34d58",
   "metadata": {},
   "source": [
    "When working with CUDA tensors, memory isn't automatically released back to the GPU.\n",
    "torch.cuda.empty_cache() forces unused memory to be released back to the GPU.\n",
    "This is useful when:\n",
    "- You get \"out of memory\" errors\n",
    "- You've deleted large tensors but memory usage remains high\n",
    "- Between training runs to ensure a clean GPU state\n",
    "Note: This only frees unused memory - tensors still in use won't be affected"
   ]
  },
  {
   "cell_type": "markdown",
   "id": "39f0c41d",
   "metadata": {},
   "source": [
    "### Understanding Tensor Memory Layout and Contiguity\n",
    "\n",
    "![](https://miro.medium.com/v2/resize:fit:1400/format:webp/1*e92qaBl4Kly5CKzGRNRZIQ.png)\n",
    "\n",
    "When we create a tensor in PyTorch, it arranges the data sequentially in memory, like books lined up on a shelf. This is called a *contiguous tensor*. We can check if a tensor is contiguous using `is_contiguous()`."
   ]
  },
  {
   "cell_type": "code",
   "execution_count": 14,
   "id": "0a07dbac",
   "metadata": {},
   "outputs": [
    {
     "name": "stdout",
     "output_type": "stream",
     "text": [
      "True\n",
      "tensor([ 1,  2,  3,  4,  5,  6,  7,  8,  9, 10, 11, 12])\n",
      "tensor([[ 1,  2,  3],\n",
      "        [ 4,  5,  6],\n",
      "        [ 7,  8,  9],\n",
      "        [10, 11, 12]])\n"
     ]
    }
   ],
   "source": [
    "# Creating a contiguous tensor - data is stored sequentially in memory\n",
    "x = torch.arange(1, 13)  # [1, 2, 3, ..., 12]\n",
    "print(x.is_contiguous())  # True\n",
    "print(x)\n",
    "# We can reshape it while keeping data contiguous\n",
    "y = x.view(4, 3)\n",
    "print(y)  # Shows a 4x3 matrix"
   ]
  },
  {
   "cell_type": "markdown",
   "id": "95a33436",
   "metadata": {},
   "source": [
    "![](https://miro.medium.com/v2/resize:fit:1400/format:webp/1*Xm3ZfWtIn7TUD9lcwhpacg.png)\n",
    "\n",
    "A `view` is like looking at the same data from a different angle; it doesn't create a new copy but provides a new way to access the same data. Think of it as rearranging books on a shelf without actually moving them. When you change data in a view, it changes the original data because they share the same memory."
   ]
  },
  {
   "cell_type": "code",
   "execution_count": 15,
   "id": "34e8c860",
   "metadata": {},
   "outputs": [
    {
     "name": "stdout",
     "output_type": "stream",
     "text": [
      "tensor([ 1,  2,  3,  4,  5,  6,  7,  8,  9, 10, 11, 12])\n",
      "tensor([[ 1,  2,  3],\n",
      "        [ 4,  5,  6],\n",
      "        [ 7,  8,  9],\n",
      "        [10, 11, 12]])\n"
     ]
    }
   ],
   "source": [
    "x = torch.arange(1, 13)  # Original data\n",
    "y = x.view(4, 3)        # Viewed as 4x3 matrix\n",
    "print(x)\n",
    "print(y)"
   ]
  },
  {
   "cell_type": "markdown",
   "id": "597deb47",
   "metadata": {},
   "source": [
    "Changes in view affect original data."
   ]
  },
  {
   "cell_type": "code",
   "execution_count": 16,
   "id": "40a9cd6f",
   "metadata": {
    "lines_to_next_cell": 2
   },
   "outputs": [
    {
     "name": "stdout",
     "output_type": "stream",
     "text": [
      "tensor([100,   2,   3,   4,   5,   6,   7,   8,   9,  10,  11,  12])\n"
     ]
    }
   ],
   "source": [
    "y[0, 0] = 100\n",
    "print(x)  # First element changes in both x and y"
   ]
  },
  {
   "cell_type": "markdown",
   "id": "1f0a41c6",
   "metadata": {},
   "source": [
    "![](https://miro.medium.com/v2/resize:fit:1400/format:webp/1*AnQ2KLhfYmt17ldTKpKvfQ.png)\n",
    "\n",
    "Strides tell us how many steps to jump to move in each dimension of the tensor. `strides` give us directions: how many elements in the tensor to skip to get to the next row or the next column.\n"
   ]
  },
  {
   "cell_type": "code",
   "execution_count": 19,
   "id": "49e726b7",
   "metadata": {},
   "outputs": [
    {
     "name": "stdout",
     "output_type": "stream",
     "text": [
      "tensor([[ 1,  2,  3],\n",
      "        [ 4,  5,  6],\n",
      "        [ 7,  8,  9],\n",
      "        [10, 11, 12]])\n",
      "(3, 1)\n"
     ]
    }
   ],
   "source": [
    "x = torch.arange(1, 13).view(4, 3)\n",
    "print(x)\n",
    "print(x.stride())  # (3, 1)\n",
    "# 3 means: skip 3 elements to move down one row\n",
    "# 1 means: skip 1 element to move right one column"
   ]
  },
  {
   "cell_type": "markdown",
   "id": "cc243a53",
   "metadata": {},
   "source": [
    "![](https://miro.medium.com/v2/resize:fit:1400/format:webp/1*HRWWBxD3H0rkO4r5J64dVg.png)\n",
    "\n",
    "Sometimes operations like transpose() create non-contiguous tensors, where data isn't stored sequentially anymore. While `view()` only works with contiguous data, `reshape()` can work with both types by creating a new copy when necessary.\n"
   ]
  },
  {
   "cell_type": "code",
   "execution_count": 20,
   "id": "d61604be",
   "metadata": {},
   "outputs": [
    {
     "name": "stdout",
     "output_type": "stream",
     "text": [
      "False\n",
      "True\n"
     ]
    }
   ],
   "source": [
    "x = torch.arange(1, 13).view(4, 3)\n",
    "y = x.transpose(0, 1)   # Creates non-contiguous tensor\n",
    "print(y.is_contiguous())  # False\n",
    "\n",
    "z = x.reshape(2, 6)     # reshape works fine with non-contiguous data\n",
    "print(z.is_contiguous())  # True"
   ]
  },
  {
   "cell_type": "markdown",
   "id": "37d6a661",
   "metadata": {},
   "source": [
    "The key takeaway is that understanding how data is organized in memory helps us choose the right operations and optimize our code's performance. Using `view()` is faster but more restrictive, while `reshape()` is more flexible but might use more memory."
   ]
  },
  {
   "cell_type": "markdown",
   "id": "762ad80f",
   "metadata": {},
   "source": [
    "### Understanding Squeeze and Unsqueeze\n",
    "\n",
    "![](https://i.sstatic.net/9AJJA.png)\n",
    "\n",
    "It is often necessary to change the dimensions of a tensor to match the expected shape for a particular operation. For example, a tensor with shape (32, 10) might need to be reshaped to (32, 1, 10) for a specific layer. `unsqueeze()` and `squeeze()` are two operations that can help with this.\n",
    "\n",
    "`unsqueeze()` adds a dimension of size 1 (like turning a 2D sheet into a 3D book with one page). This is useful when you need to match shapes for broadcasting or add batch dimensions."
   ]
  },
  {
   "cell_type": "code",
   "execution_count": 22,
   "id": "bb2f7c8a",
   "metadata": {},
   "outputs": [
    {
     "name": "stdout",
     "output_type": "stream",
     "text": [
      "torch.Size([32, 10]) torch.Size([32, 1, 10])\n"
     ]
    }
   ],
   "source": [
    "sequence = torch.randn(32, 10)  # (batch_size, sequence_length)\n",
    "sequence_expanded = sequence.unsqueeze(1)  # Adds dimension at position 1\n",
    "# Shape changes from (32, 10) to (32, 1, 10)\n",
    "\n",
    "print(sequence.shape, sequence_expanded.shape)"
   ]
  },
  {
   "cell_type": "markdown",
   "id": "566c780a",
   "metadata": {},
   "source": [
    "`squeeze()` removes all dimensions of size 1 (like flattening a book with one page back into a sheet). This helps clean up tensor shapes after operations that add extra dimensions."
   ]
  },
  {
   "cell_type": "code",
   "execution_count": 24,
   "id": "664afe08",
   "metadata": {},
   "outputs": [
    {
     "data": {
      "text/plain": [
       "(torch.Size([3, 4]), torch.Size([1, 1, 3, 1, 1, 4]))"
      ]
     },
     "execution_count": 24,
     "metadata": {},
     "output_type": "execute_result"
    }
   ],
   "source": [
    "nested = torch.randn(1, 1, 3, 1, 1, 4)  # Tensor with many size-1 dimensions\n",
    "squeezed = nested.squeeze()  # Removes all size-1 dimensions\n",
    "# Shape changes from (1, 1, 3, 1, 1, 4) to (3, 4)\n",
    "squeezed.shape, nested.shape"
   ]
  },
  {
   "cell_type": "markdown",
   "id": "57f56e1a",
   "metadata": {},
   "source": [
    "You can specify which dimensions to squeeze or unsqueeze:\n",
    "- Use positive indices to count from the front\n",
    "- Use negative indices to count from the back\n",
    "- Use `dim` parameter to squeeze specific dimensions"
   ]
  },
  {
   "cell_type": "code",
   "execution_count": 25,
   "id": "e7343018",
   "metadata": {},
   "outputs": [],
   "source": [
    "tensor = torch.randn(3, 4)\n",
    "# Both add dimension at the start:\n",
    "front_expanded = tensor.unsqueeze(0)     # (1, 3, 4)\n",
    "back_expanded = tensor.unsqueeze(-3)     # (1, 3, 4)\n",
    "\n",
    "# Squeeze only specific dimensions:\n",
    "partial = torch.randn(1, 3, 1, 4, 1)\n",
    "result = partial.squeeze(dim=0)  # Only removes first dimension\n",
    "# Shape changes from (1, 3, 1, 4, 1) to (3, 1, 4, 1)"
   ]
  },
  {
   "cell_type": "markdown",
   "id": "d05e912a",
   "metadata": {},
   "source": [
    "The key is to understand that these operations help match tensor shapes for various operations in neural networks, especially when dealing with batches, channels, or preparing data for specific layer requirements.\n",
    "\n",
    "### Reduction Operations\n",
    "\n",
    "Reduction operations can collapse all dimensions into a single value, giving you an overall summary of your tensor."
   ]
  },
  {
   "cell_type": "code",
   "execution_count": 27,
   "id": "47eaac3a",
   "metadata": {},
   "outputs": [
    {
     "data": {
      "text/plain": [
       "tensor([[1., 2., 3.],\n",
       "        [4., 5., 6.]])"
      ]
     },
     "execution_count": 27,
     "metadata": {},
     "output_type": "execute_result"
    }
   ],
   "source": [
    "x = torch.tensor([[1, 2, 3], [4, 5, 6]], dtype=torch.float32)  # 2x3 tensor\n",
    "\n",
    "total = x.sum()     # Adds all numbers: 21\n",
    "average = x.mean()  # Averages all numbers: 3.5\n",
    "total, average\n",
    "x"
   ]
  },
  {
   "cell_type": "markdown",
   "id": "e98db6b0",
   "metadata": {},
   "source": [
    "You can reduce specific dimensions while keeping others, which is useful for batch operations or feature aggregation:"
   ]
  },
  {
   "cell_type": "code",
   "execution_count": 29,
   "id": "9e828d0b",
   "metadata": {},
   "outputs": [
    {
     "data": {
      "text/plain": [
       "(tensor([5., 7., 9.]), torch.Size([2, 3]))"
      ]
     },
     "execution_count": 29,
     "metadata": {},
     "output_type": "execute_result"
    }
   ],
   "source": [
    "# Sum along rows (dim=0): combines values vertically\n",
    "row_sum = x.sum(dim=0)  # Result: [5, 7, 9]\n",
    "# Each position adds numbers in that column\n",
    "\n",
    "# Sum along columns (dim=1): combines values horizontally\n",
    "col_sum = x.sum(dim=1)  # Result: [6, 15]\n",
    "# Each position adds numbers in that row\n",
    "\n",
    "row_sum, x.shape"
   ]
  },
  {
   "cell_type": "markdown",
   "id": "7a8155f9",
   "metadata": {},
   "source": [
    "PyTorch provides methods to find maximum and minimum values, optionally returning their positions:"
   ]
  },
  {
   "cell_type": "code",
   "execution_count": 32,
   "id": "521fd98e",
   "metadata": {},
   "outputs": [
    {
     "data": {
      "text/plain": [
       "(tensor([[1., 2., 3.],\n",
       "         [4., 5., 6.]]),\n",
       " tensor([3., 6.]))"
      ]
     },
     "execution_count": 32,
     "metadata": {},
     "output_type": "execute_result"
    }
   ],
   "source": [
    "# Simple max/min across all elements\n",
    "max_val = x.max()  # Returns 6\n",
    "min_val = x.min()  # Returns 1\n",
    "\n",
    "# Getting both values and positions along a dimension\n",
    "max_vals, max_idx = x.max(dim=1)\n",
    "# max_vals: highest number in each row [3, 6]\n",
    "# max_idx: position of highest number [2, 2]\n",
    "x, max_vals"
   ]
  },
  {
   "cell_type": "markdown",
   "id": "08f43547",
   "metadata": {},
   "source": [
    "These operations are fundamental for many tasks:\n",
    "- Computing loss functions (like mean squared error)\n",
    "- Calculating accuracy metrics\n",
    "- Finding the strongest predictions in classification\n",
    "- Pooling operations in neural networks\n",
    "\n",
    "Remember that when using `dim`, think about which dimension you want to \"collapse.\""
   ]
  },
  {
   "cell_type": "markdown",
   "id": "cefd3890",
   "metadata": {},
   "source": [
    "### Indexing and Slicing\n",
    "\n",
    "Just like accessing items in a list, you can pick specific elements from a tensor using indices:"
   ]
  },
  {
   "cell_type": "code",
   "execution_count": 33,
   "id": "afaf0c74",
   "metadata": {},
   "outputs": [],
   "source": [
    "x = torch.tensor([[1, 2, 3, 4],\n",
    "                 [5, 6, 7, 8],\n",
    "                 [9, 10, 11, 12]])\n",
    "\n",
    "first_row = x[0]           # Gets [1, 2, 3, 4]\n",
    "specific_element = x[1,2]  # Gets 7 (row 1, column 2)"
   ]
  },
  {
   "cell_type": "markdown",
   "id": "e5c5c6a7",
   "metadata": {},
   "source": [
    "Slicing lets you select ranges of elements using the `start:end` syntax:\n",
    "Slicing lets you select ranges of elements using the `start:end` syntax:\n",
    "- `:` means \"take everything\"\n",
    "- `0:2` means \"take elements from index 0 up to (but not including) 2\"\n",
    "- `-2:` means \"take the last two elements\""
   ]
  },
  {
   "cell_type": "code",
   "execution_count": 35,
   "id": "224a9e51",
   "metadata": {},
   "outputs": [],
   "source": [
    "two_rows = x[:2]        # Takes first two rows\n",
    "last_columns = x[:,-2:] # Takes last two columns from all rows"
   ]
  },
  {
   "cell_type": "markdown",
   "id": "35351d04",
   "metadata": {},
   "source": [
    "You can select elements that meet certain conditions by creating a mask of True/False values:"
   ]
  },
  {
   "cell_type": "code",
   "execution_count": 36,
   "id": "d0883cc6",
   "metadata": {},
   "outputs": [
    {
     "data": {
      "text/plain": [
       "tensor([ 6,  7,  8,  9, 10, 11, 12])"
      ]
     },
     "execution_count": 36,
     "metadata": {},
     "output_type": "execute_result"
    }
   ],
   "source": [
    "mask = x > 5            # Creates a boolean mask\n",
    "big_numbers = x[mask]   # Selects only elements greater than 5\n",
    "big_numbers\n",
    "# Results in: [6, 7, 8, 9, 10, 11, 12]"
   ]
  },
  {
   "cell_type": "markdown",
   "id": "3fed922a",
   "metadata": {},
   "source": [
    "Using arrays of indices to select multiple elements at once:"
   ]
  },
  {
   "cell_type": "code",
   "execution_count": 37,
   "id": "84bc2663",
   "metadata": {},
   "outputs": [
    {
     "data": {
      "text/plain": [
       "tensor([ 2, 12])"
      ]
     },
     "execution_count": 37,
     "metadata": {},
     "output_type": "execute_result"
    }
   ],
   "source": [
    "rows = torch.tensor([0, 2])      # Select first and last rows\n",
    "cols = torch.tensor([1, 3])      # Select second and last columns\n",
    "selected = x[(rows, cols)] # Gets specific elements\n"
   ]
  },
  {
   "cell_type": "markdown",
   "id": "36220351",
   "metadata": {},
   "source": [
    "These indexing methods are important for:\n",
    "- Selecting specific batches or features in deep learning\n",
    "- Applying operations to parts of your data\n",
    "- Filtering data based on conditions\n",
    "- Efficiently accessing and modifying specific elements\n",
    "\n",
    "Remember: Unlike NumPy, PyTorch indexing returns views when possible, which means modifications to the slice will affect the original tensor.\n",
    "\n",
    "## Autograd Mechanics\n",
    "\n",
    "### Gradient Tracking\n",
    "\n",
    "A key feature of PyTorch is *autograd*, which is a system for automatic differentiation. When we create a tensor with `requires_grad=True`, PyTorch starts tracking all operations performed on it for automatic differentiation. This is essential for training neural networks."
   ]
  },
  {
   "cell_type": "code",
   "execution_count": null,
   "id": "3e0b7e17",
   "metadata": {},
   "outputs": [],
   "source": [
    "x = torch.tensor([1.0, 2.0, 3.0], requires_grad=True)\n",
    "y = x ** 2  # This operation is tracked\n",
    "z = y.sum()\n",
    "z.backward() # This computes the gradient of z with respect to x\n",
    "x.grad"
   ]
  },
  {
   "cell_type": "markdown",
   "id": "a518ca38",
   "metadata": {},
   "source": [
    "By default, PyTorch accumulates gradients across multiple backward passes. This means if you call `backward()` multiple times, the gradients add up instead of being overwritten."
   ]
  },
  {
   "cell_type": "code",
   "execution_count": null,
   "id": "3533e21c",
   "metadata": {},
   "outputs": [],
   "source": [
    "x = torch.tensor([1.0, 2.0, 3.0], requires_grad=True)\n",
    "y = x ** 2  # This operation is tracked\n",
    "\n",
    "for i in range(2):\n",
    "    z = y.sum()\n",
    "    z.backward(retain_graph=True)  # First pass\n",
    "    print(f\"Pass {i+1} gradient:\", x.grad)"
   ]
  },
  {
   "cell_type": "markdown",
   "id": "683f10b6",
   "metadata": {},
   "source": [
    "To reset gradients to zero, use `zero_()`:"
   ]
  },
  {
   "cell_type": "code",
   "execution_count": null,
   "id": "5b4002f5",
   "metadata": {},
   "outputs": [],
   "source": [
    "x.grad.zero_()  # Resets gradients to zero"
   ]
  },
  {
   "cell_type": "markdown",
   "id": "bdb607c5",
   "metadata": {},
   "source": [
    "### Not Tracking Gradients\n",
    "\n",
    "Sometimes we want to perform operations without tracking gradients (like during evaluation). The `torch.no_grad()` context manager temporarily disables gradient tracking:"
   ]
  },
  {
   "cell_type": "code",
   "execution_count": null,
   "id": "cabfde07",
   "metadata": {},
   "outputs": [],
   "source": [
    "with torch.no_grad():\n",
    "    intermediate = x * 2  # No gradients tracked here\n",
    "x.grad"
   ]
  },
  {
   "cell_type": "markdown",
   "id": "dc21b348",
   "metadata": {},
   "source": [
    "This is useful for:\n",
    "- Saving memory during inference\n",
    "- Preventing gradients from flowing through certain parts of your model\n",
    "- Performing operations that don't need gradient tracking\n",
    "\n",
    "Understanding these concepts is crucial for efficient training of neural networks, especially when dealing with memory constraints or implementing custom training loops."
   ]
  },
  {
   "cell_type": "markdown",
   "id": "b6be04ed",
   "metadata": {},
   "source": [
    "### Computation Graph\n",
    "\n",
    "We can take the gradient of a function with respect to multiple variables."
   ]
  },
  {
   "cell_type": "code",
   "execution_count": null,
   "id": "d22d296d",
   "metadata": {},
   "outputs": [],
   "source": [
    "# Creating tensors with gradient tracking\n",
    "x = torch.tensor(2.0, requires_grad=True)\n",
    "y = torch.tensor(3.0, requires_grad=True)\n",
    "\n",
    "# Building a computation graph\n",
    "z = x**2 + y**3\n",
    "\n",
    "# Compute gradients\n",
    "z.backward()\n",
    "\n",
    "print(f\"dz/dx: {x.grad}\")  # Should be 2 * x = 4\n",
    "print(f\"dz/dy: {y.grad}\")  # Should be 3 * y^2 = 27"
   ]
  },
  {
   "cell_type": "markdown",
   "id": "416f3506",
   "metadata": {},
   "source": [
    "Internally, PyTorch constructs so-called a *computation graph* that represents the operations performed on the tensors."
   ]
  },
  {
   "cell_type": "code",
   "execution_count": 32,
   "id": "6247a7e1",
   "metadata": {},
   "outputs": [],
   "source": [
    "# !pip install torchviz"
   ]
  },
  {
   "cell_type": "code",
   "execution_count": 81,
   "id": "0abb49a1",
   "metadata": {},
   "outputs": [],
   "source": [
    "# Visualize the computation graph\n",
    "try:\n",
    "    from torchviz import make_dot\n",
    "    import shutil\n",
    "    if shutil.which('dot') is not None:  # Check if graphviz is installed\n",
    "        make_dot(z, {'x': x, 'y': y, \"z\":z}).render(\"computation_graph\", format=\"png\")\n",
    "    else:\n",
    "        print(\"graphviz not installed - skipping visualization\")\n",
    "except ImportError:\n",
    "    print(\"torchviz not installed - skipping visualization\")"
   ]
  },
  {
   "cell_type": "markdown",
   "id": "87081c2d",
   "metadata": {},
   "source": [
    "### Higher-Order Derivatives\n",
    "\n",
    "PyTorch can compute higher-Order derivatives:"
   ]
  },
  {
   "cell_type": "code",
   "execution_count": null,
   "id": "dd1c3dfc",
   "metadata": {},
   "outputs": [],
   "source": [
    "# Create a tensor\n",
    "x = torch.tensor(3.0, requires_grad=True)\n",
    "\n",
    "# First derivative of x^3\n",
    "y = x**3\n",
    "first_derivative = torch.autograd.grad(y, x, create_graph=True)[0]\n",
    "print(f\"First derivative at x=2: {first_derivative}\")\n",
    "\n",
    "# Second derivative\n",
    "second_derivative = torch.autograd.grad(first_derivative, x)[0]\n",
    "print(f\"Second derivative at x=2: {second_derivative}\")"
   ]
  },
  {
   "cell_type": "markdown",
   "id": "e839459c",
   "metadata": {},
   "source": [
    "### Common Autograd Pitfalls and Solutions"
   ]
  },
  {
   "cell_type": "code",
   "execution_count": null,
   "id": "a5410b8f",
   "metadata": {},
   "outputs": [],
   "source": [
    "# 1. In-place operations with autograd\n",
    "x = torch.tensor([1.0, 2.0], requires_grad=True)\n",
    "y = torch.tensor([3.0, 4.0], requires_grad=True)\n",
    "\n",
    "# This will raise an error\n",
    "try:\n",
    "    x.add_(y)  # In-place addition\n",
    "    # This is essentially the same as x = x + y, creating a loop in the computation graph\n",
    "except RuntimeError as e:\n",
    "    print(\"Error with in-place operation:\", e)\n",
    "\n",
    "# Correct way\n",
    "z = x + y  # Create new tensor instead"
   ]
  },
  {
   "cell_type": "markdown",
   "id": "b6cef1c9",
   "metadata": {},
   "source": [
    "## Example of Linear Regression\n",
    "\n",
    "Let us demonstrate all the concepts we have learned so far by implementing a simple linear regression model. Our goal is to find the parameters of a line (y = wx + b) that best fits our data. We generate synthetic data following this pattern with added noise:"
   ]
  },
  {
   "cell_type": "code",
   "execution_count": 90,
   "id": "0c396a1e",
   "metadata": {},
   "outputs": [],
   "source": [
    "X = torch.linspace(-5, 5, 100).reshape(-1, 1)\n",
    "y = 2 * X + 1 + torch.randn_like(X) * 0.5  # y = 2x + 1 + noise"
   ]
  },
  {
   "cell_type": "markdown",
   "id": "0b2fd53d",
   "metadata": {},
   "source": [
    "We will use gradient descent to find the best parameters for our model, which updates the parameter in the direction of the negative gradient. Namely,\n",
    "\n",
    "$$\n",
    "\\theta_{new} = \\theta_{old} - \\eta \\nabla_{\\theta} L(\\theta)\n",
    "$$\n",
    "\n",
    "where $\\eta$ is the learning rate, and $\\nabla_{\\theta} L(\\theta)$ is the gradient of the loss function with respect to the parameters.\n",
    "\n",
    "We will start with random parameters and iteratively update them to minimize the loss.\n"
   ]
  },
  {
   "cell_type": "code",
   "execution_count": null,
   "id": "2949bddc",
   "metadata": {},
   "outputs": [],
   "source": [
    "# Model parameters with gradient tracking\n",
    "w = torch.randn(1, requires_grad=True)\n",
    "b = torch.randn(1, requires_grad=True)\n",
    "# Training loop showing tensor operations\n",
    "learning_rate = 0.01\n",
    "for epoch in range(100):\n",
    "    y_pred = w * X + b\n",
    "    loss = ((y_pred - y) ** 2).mean()\n",
    "    loss.backward()\n",
    "\n",
    "    with torch.no_grad():\n",
    "        w -= learning_rate * w.grad\n",
    "        b -= learning_rate * b.grad\n",
    "        w.grad.zero_()\n",
    "        b.grad.zero_()"
   ]
  },
  {
   "cell_type": "code",
   "execution_count": null,
   "id": "31b8c376",
   "metadata": {},
   "outputs": [],
   "source": [
    "# Plot the results\n",
    "import matplotlib.pyplot as plt\n",
    "\n",
    "plt.figure(figsize=(10, 6))\n",
    "plt.scatter(X.detach().numpy(), y.detach().numpy(), label='Data')\n",
    "plt.plot(X.detach().numpy(), (w * X + b).detach().numpy(), 'r', label=f'Fitted line: y = {w.item():.2f}x + {b.item():.2f}')\n",
    "plt.xlabel('X')\n",
    "plt.ylabel('y')\n",
    "plt.title('Linear Regression Results')\n",
    "plt.legend()\n",
    "plt.grid(True)\n",
    "plt.show()\n"
   ]
  },
  {
   "cell_type": "markdown",
   "id": "376f0480",
   "metadata": {},
   "source": [
    "This code showcases key PyTorch concepts for efficient tensor operations and gradient handling. Tensor operations are vectorized for speed, while `requires_grad=True` enables automatic differentiation. The `with torch.no_grad()` context prevents unnecessary gradient tracking during updates, in-place operations minimize memory usage, and explicit gradient zeroing ensures correct parameter updates across training iterations.\n",
    "\n",
    "# Neural Network Basics\n",
    "\n",
    "PyTorch offers a high-level interface for building neural networks, which is built on top of the tensor operations we have learned so far. We will learn how to build neural networks using this interface.\n",
    "\n",
    "## Linear Layer\n",
    "\n",
    "A linear layer (also called a fully connected or dense layer) performs the operation: y = Wx + b"
   ]
  },
  {
   "cell_type": "code",
   "execution_count": null,
   "id": "f39372bd",
   "metadata": {},
   "outputs": [],
   "source": [
    "import torch.nn as nn\n",
    "\n",
    "# Create a linear layer\n",
    "linear = nn.Linear(in_features=2, out_features=3)\n",
    "\n",
    "# Input tensor\n",
    "x = torch.tensor([[1.0, 2.0], [3.0, 4.0]])\n",
    "\n",
    "# Forward pass\n",
    "y = linear(x)\n",
    "\n",
    "print(\"Input shape:\", x.shape)\n",
    "print(\"Output shape:\", y.shape)\n",
    "print(\"\\nLayer weights shape:\", linear.weight.shape)\n",
    "print(\"Layer bias shape:\", linear.bias.shape)"
   ]
  },
  {
   "cell_type": "markdown",
   "id": "0d462b24",
   "metadata": {},
   "source": [
    "## Activation Functions\n",
    "\n",
    "Activation functions introduce non-linearity into our networks. Let's visualize common activation functions:"
   ]
  },
  {
   "cell_type": "code",
   "execution_count": null,
   "id": "81e2971d",
   "metadata": {},
   "outputs": [],
   "source": [
    "# Create input values\n",
    "x = torch.linspace(-5, 5, 100)\n",
    "\n",
    "# Common activation functions\n",
    "relu = nn.ReLU()\n",
    "sigmoid = nn.Sigmoid()\n",
    "tanh = nn.Tanh()\n",
    "\n",
    "# Plot activation functions\n",
    "plt.figure(figsize=(15, 5))\n",
    "\n",
    "plt.subplot(1, 3, 1)\n",
    "plt.plot(x.numpy(), relu(x).numpy())\n",
    "plt.title('ReLU')\n",
    "plt.grid(True)\n",
    "\n",
    "plt.subplot(1, 3, 2)\n",
    "plt.plot(x.numpy(), sigmoid(x).numpy())\n",
    "plt.title('Sigmoid')\n",
    "plt.grid(True)\n",
    "\n",
    "plt.subplot(1, 3, 3)\n",
    "plt.plot(x.numpy(), tanh(x).numpy())\n",
    "plt.title('Tanh')\n",
    "plt.grid(True)\n",
    "\n",
    "plt.show()"
   ]
  },
  {
   "cell_type": "markdown",
   "id": "69c3e4ec",
   "metadata": {},
   "source": [
    "## `nn.Module`\n",
    "\n",
    "`nn.Module` is the foundational building block in PyTorch's neural network architecture. It automatically manages parameters, enables modular design, and handles training mechanics. When creating a neural network class that inherits from `nn.Module`, you must initialize the parent class, define layers as attributes, and implement a `forward` method that specifies how data flows through your network.\n",
    "\n",
    "Here's a simple neural network implementation that performs binary classification on points in a 2D space:"
   ]
  },
  {
   "cell_type": "code",
   "execution_count": 41,
   "id": "93b7992e",
   "metadata": {},
   "outputs": [],
   "source": [
    "from torch import nn\n",
    "\n",
    "\n",
    "class SimpleNN(nn.Module):\n",
    "    def __init__(self):\n",
    "        super(SimpleNN, self).__init__()\n",
    "        self.layer1 = nn.Linear(2, 8)    # Input -> Hidden\n",
    "        self.activation1 = nn.ReLU()\n",
    "        self.layer2 = nn.Linear(8, 1)    # Hidden -> Output\n",
    "        self.activation2 = nn.Sigmoid()   # For binary classification\n",
    "\n",
    "    def forward(self, x):\n",
    "        x = self.layer1(x)\n",
    "        x = self.activation1(x)\n",
    "        x = self.layer2(x)\n",
    "        x = self.activation2(x)\n",
    "        return x"
   ]
  },
  {
   "cell_type": "code",
   "execution_count": null,
   "id": "59f95a8d",
   "metadata": {},
   "outputs": [],
   "source": [
    "simple_nn = SimpleNN()\n",
    "simple_nn"
   ]
  },
  {
   "cell_type": "code",
   "execution_count": null,
   "id": "78e6f467",
   "metadata": {},
   "outputs": [],
   "source": [
    "simple_nn(torch.tensor([[1.0, 2.0]]))"
   ]
  },
  {
   "cell_type": "markdown",
   "id": "34ed00ec",
   "metadata": {},
   "source": [
    "The network processes input through two linear layers with activations. The first layer transforms 2D input into 8 features using ReLU activation, while the second layer produces a single output transformed by Sigmoid for binary classification. This structure can learn to classify points based on their position in 2D space.\n",
    "\n",
    "Let us train this neural network by using the following data. We will generate a circular pattern dataset and train the network to classify the points as inside or outside the circle."
   ]
  },
  {
   "cell_type": "code",
   "execution_count": 104,
   "id": "1276e440",
   "metadata": {},
   "outputs": [],
   "source": [
    "# Generate circular pattern dataset\n",
    "X = torch.randn(1000, 2)\n",
    "y = ((X[:, 0]**2 + X[:, 1]**2) < 2).float().reshape(-1, 1)"
   ]
  },
  {
   "cell_type": "markdown",
   "id": "a3a092b8",
   "metadata": {},
   "source": [
    "Using the `SimpleNN` class we defined earlier, we can now train the network."
   ]
  },
  {
   "cell_type": "code",
   "execution_count": null,
   "id": "f060ee72",
   "metadata": {},
   "outputs": [],
   "source": [
    "# Setup training\n",
    "model = SimpleNN()\n",
    "criterion = nn.BCELoss() # We will learn more about loss functions later\n",
    "optimizer = torch.optim.Adam(model.parameters(), lr=0.01) # We will learn more about optimizers later\n",
    "\n",
    "# Training loop\n",
    "for epoch in range(100):\n",
    "    outputs = model(X)\n",
    "    loss = criterion(outputs, y)\n",
    "    optimizer.zero_grad()\n",
    "    loss.backward()\n",
    "    optimizer.step()"
   ]
  },
  {
   "cell_type": "markdown",
   "id": "d6124cac",
   "metadata": {},
   "source": [
    "Let us visualize the decision boundary of the network."
   ]
  },
  {
   "cell_type": "code",
   "execution_count": null,
   "id": "17f677f5",
   "metadata": {},
   "outputs": [],
   "source": [
    "# Create a mesh grid of points\n",
    "x_min, x_max = X[:, 0].min() - 0.5, X[:, 0].max() + 0.5\n",
    "y_min, y_max = X[:, 1].min() - 0.5, X[:, 1].max() + 0.5\n",
    "xx, yy = np.meshgrid(np.linspace(x_min, x_max, 100),\n",
    "                    np.linspace(y_min, y_max, 100))\n",
    "\n",
    "# Convert grid points to PyTorch tensor\n",
    "grid_points = torch.FloatTensor(np.c_[xx.ravel(), yy.ravel()])\n",
    "\n",
    "# Get predictions\n",
    "model.eval()  # Set model to evaluation mode\n",
    "with torch.no_grad():\n",
    "    Z = model(grid_points)\n",
    "    Z = Z.reshape(xx.shape)\n",
    "\n",
    "# Create the plot\n",
    "plt.figure(figsize=(10, 8))\n",
    "\n",
    "# Plot decision boundary\n",
    "plt.contourf(xx, yy, Z.numpy(), alpha=0.4, cmap='RdYlBu')\n",
    "\n",
    "# Plot training points\n",
    "plt.scatter(X[:, 0][y.squeeze() == 1], X[:, 1][y.squeeze() == 1],\n",
    "           c='blue', label='Class 1', alpha=0.7)\n",
    "plt.scatter(X[:, 0][y.squeeze() == 0], X[:, 1][y.squeeze() == 0],\n",
    "           c='red', label='Class 0', alpha=0.7)\n",
    "\n",
    "plt.xlabel('Feature 1')\n",
    "plt.ylabel('Feature 2')\n",
    "plt.title('Neural Network Decision Boundary')\n",
    "plt.legend()\n",
    "plt.show()"
   ]
  },
  {
   "cell_type": "markdown",
   "id": "49464139",
   "metadata": {},
   "source": [
    "## Loss Functions\n",
    "\n",
    "When training a neural network, we need to measure how well the network is performing. We do this by using a loss function. The loss function takes the predicted output of the network and the true output, and returns a single number that represents the error of the network. PyTorch provides many loss functions. Here are some common ones:\n",
    "\n",
    "- `nn.MSELoss`: [Mean Squared Error](https://pytorch.org/docs/stable/generated/torch.nn.MSELoss.html)\n",
    "- `nn.CrossEntropyLoss`: [Cross Entropy](https://pytorch.org/docs/stable/generated/torch.nn.CrossEntropyLoss.html)\n",
    "- `nn.BCELoss`: [Binary Cross Entropy](https://pytorch.org/docs/stable/generated/torch.nn.BCELoss.html)\n",
    "\n",
    "The choice of loss function depends on the type of problem you are trying to solve. For example, if you are doing classification, you will use a loss function that is appropriate for classification. If you are doing regression, you will use a loss function that is appropriate for regression.\n",
    "\n",
    "## Optimizers\n",
    "\n",
    "Optimizers are used to update the parameters of the network. PyTorch provides many optimizers. Here are some common ones:\n",
    "\n",
    "- `torch.optim.SGD`: [Stochastic Gradient Descent](https://pytorch.org/docs/stable/generated/torch.optim.SGD.html)\n",
    "- `torch.optim.Adam`: [Adaptive Moment Estimation](https://pytorch.org/docs/stable/generated/torch.optim.Adam.html)\n",
    "- `torch.optim.AdamW`: [Adam with Weight Decay](https://pytorch.org/docs/stable/generated/torch.optim.AdamW.html)\n",
    "\n",
    "An optimizer takes the parameters of the network and updates them. For example, the Adam optimizer updates the parameters by adding the gradient of the loss function with respect to the parameters."
   ]
  },
  {
   "cell_type": "code",
   "execution_count": 45,
   "id": "fde69d30",
   "metadata": {},
   "outputs": [],
   "source": [
    "model = SimpleNN()\n",
    "optimizer = torch.optim.Adam(model.parameters(), lr=0.01) # lr is the learning rate\n",
    "optimizer.step() # This updates the parameters"
   ]
  },
  {
   "cell_type": "markdown",
   "id": "fb4b09a8",
   "metadata": {},
   "source": [
    "# Data pipeline\n",
    "\n",
    "Data pipeline is the process of loading, preprocessing, and splitting data into training, validation, and test sets.\n",
    "The efficiency of the data pipeline is crucial for the performance of the network.\n",
    "PyTorch provides a high-level interface for creating a data pipeline using the `Dataset` and `DataLoader` classes.\n",
    "\n",
    "## Dataset\n",
    "\n",
    "A `Dataset` is an abstract class that represents a dataset. It is the base class for all datasets in PyTorch. A convenient way to create a dataset is to use the `TensorDataset` class, which is a subclass of `Dataset`."
   ]
  },
  {
   "cell_type": "code",
   "execution_count": 108,
   "id": "27ef17de",
   "metadata": {},
   "outputs": [],
   "source": [
    "from torch.utils.data import TensorDataset\n",
    "\n",
    "# Example usage\n",
    "features = torch.randn(1000, 3)  # 1000 houses with 3 features each\n",
    "prices = torch.randn(1000, 1)    # corresponding prices\n",
    "\n",
    "dataset = TensorDataset(features, prices)"
   ]
  },
  {
   "cell_type": "markdown",
   "id": "3f77a3e8",
   "metadata": {},
   "source": [
    "where `features` and `prices` are PyTorch tensors. The data can be retrieved by"
   ]
  },
  {
   "cell_type": "code",
   "execution_count": null,
   "id": "07ee3887",
   "metadata": {},
   "outputs": [],
   "source": [
    "print(dataset[0])"
   ]
  },
  {
   "cell_type": "markdown",
   "id": "e262c8cb",
   "metadata": {},
   "source": [
    "You can also get the length of the dataset by"
   ]
  },
  {
   "cell_type": "code",
   "execution_count": null,
   "id": "2a588033",
   "metadata": {},
   "outputs": [],
   "source": [
    "print(len(dataset))"
   ]
  },
  {
   "cell_type": "markdown",
   "id": "e91464f5",
   "metadata": {},
   "source": [
    "When working with complex datasets, you might want to create a custom dataset.\n",
    "\n",
    "This can be done by subclassing the `Dataset` class."
   ]
  },
  {
   "cell_type": "code",
   "execution_count": 49,
   "id": "d3cc5a60",
   "metadata": {},
   "outputs": [],
   "source": [
    "from torch.utils.data import Dataset\n",
    "import torch\n",
    "\n",
    "class HousingDataset(Dataset):\n",
    "    def __init__(self, features, prices):\n",
    "        self.features = features\n",
    "        self.prices = prices\n",
    "\n",
    "    def __len__(self):\n",
    "        return len(self.features)\n",
    "\n",
    "    def __getitem__(self, idx):\n",
    "        return self.features[idx], self.prices[idx]\n",
    "\n",
    "dataset = HousingDataset(features, prices)"
   ]
  },
  {
   "cell_type": "markdown",
   "id": "153cbfc3",
   "metadata": {},
   "source": [
    "- The `__init__` function initializes the dataset by storing the input features and prices. Think of this as setting up your data container when you first create it.\n",
    "- The `__len__` function returns the total number of samples in your dataset - PyTorch needs this to know how many samples are available.\n",
    "- The `__getitem__` function is called when you request a specific data point using an index. It returns a tuple of (feature, price) for the house at that index."
   ]
  },
  {
   "cell_type": "markdown",
   "id": "f5815b32",
   "metadata": {},
   "source": [
    "## DataLoader\n",
    "\n",
    "The DataLoader class comes with several important parameters that control how data is loaded during training:"
   ]
  },
  {
   "cell_type": "code",
   "execution_count": null,
   "id": "28284a48",
   "metadata": {},
   "outputs": [],
   "source": [
    "from torch.utils.data import DataLoader\n",
    "\n",
    "# Create data loader with detailed parameters\n",
    "batch_size = 300\n",
    "train_loader = DataLoader(\n",
    "    dataset=dataset,          # your dataset instance\n",
    "    batch_size=batch_size,    # how many samples per batch\n",
    "    shuffle=True,             # randomly shuffle data\n",
    "    drop_last=False,          # keep incomplete final batch\n",
    "    pin_memory=True          # faster data transfer to GPU\n",
    ")\n",
    "\n",
    "# Example of accessing batches\n",
    "for batch_idx, (batch_features, batch_prices) in enumerate(train_loader):\n",
    "    # batch_idx gives you the batch number\n",
    "    # batch_features and batch_prices are your data\n",
    "    print(f\"Batch {batch_idx}: Features shape {batch_features.shape}\")"
   ]
  },
  {
   "cell_type": "markdown",
   "id": "0e3092d6",
   "metadata": {},
   "source": [
    "The DataLoader's parameters serve specific purposes: `batch_size` determines how many samples are processed at once, `shuffle` randomizes data order each epoch to prevent learning order-dependent patterns, `num_workers` enables parallel data loading for better performance, `drop_last` decides whether to keep partial batches at the end, and `pin_memory` optimizes data transfer to GPU if you're using one. When you iterate over the DataLoader, it automatically handles creating these batches and loading them efficiently.\n",
    "\n",
    "## Example of Moon Dataset\n",
    "\n",
    "First, let's create a proper data pipeline using PyTorch's dataset and dataloader classes:"
   ]
  },
  {
   "cell_type": "code",
   "execution_count": 114,
   "id": "f1a22851",
   "metadata": {},
   "outputs": [],
   "source": [
    "import torch\n",
    "from torch.utils.data import Dataset, DataLoader\n",
    "from sklearn.datasets import make_moons\n",
    "import numpy as np\n",
    "\n",
    "# Create a custom dataset\n",
    "class MoonDataset(Dataset):\n",
    "    def __init__(self, n_samples=1000):\n",
    "        # Generate the moon dataset\n",
    "        X, y = make_moons(n_samples=n_samples, noise=0.1, random_state=42)\n",
    "        self.X = torch.FloatTensor(X)\n",
    "        self.y = torch.FloatTensor(y).reshape(-1, 1)\n",
    "\n",
    "    def __len__(self):\n",
    "        return len(self.X)\n",
    "\n",
    "    def __getitem__(self, idx):\n",
    "        return self.X[idx], self.y[idx]\n",
    "\n",
    "# Create train and validation datasets\n",
    "train_dataset = MoonDataset(n_samples=1000)\n",
    "val_dataset = MoonDataset(n_samples=200)\n",
    "\n",
    "# Create data loaders\n",
    "train_loader = DataLoader(train_dataset, batch_size=32, shuffle=True)\n",
    "val_loader = DataLoader(val_dataset, batch_size=32, shuffle=False)"
   ]
  },
  {
   "cell_type": "markdown",
   "id": "54daf0ca",
   "metadata": {},
   "source": [
    "We will now implement a simple neural network to classify the moon dataset."
   ]
  },
  {
   "cell_type": "code",
   "execution_count": 121,
   "id": "f645362e",
   "metadata": {},
   "outputs": [],
   "source": [
    "import torch.nn as nn\n",
    "import torch.optim as optim\n",
    "from tqdm import tqdm\n",
    "import matplotlib.pyplot as plt\n",
    "\n",
    "class BinaryClassifier(nn.Module):\n",
    "    def __init__(self):\n",
    "        super().__init__()\n",
    "        self.lin_1 = nn.Linear(2, 16)\n",
    "        self.relu_1 = nn.ReLU()\n",
    "        self.lin_2 = nn.Linear(16, 16)\n",
    "        self.relu_2 = nn.ReLU()\n",
    "        self.lin_3 = nn.Linear(16, 1)\n",
    "        self.sigmoid = nn.Sigmoid()\n",
    "\n",
    "    def forward(self, x):\n",
    "        x = self.lin_1(x)\n",
    "        x = self.relu_1(x)\n",
    "        x = self.lin_2(x)\n",
    "        x = self.relu_2(x)\n",
    "        x = self.lin_3(x)\n",
    "        x = self.sigmoid(x)\n",
    "        return x\n",
    "\n",
    "model = BinaryClassifier()"
   ]
  },
  {
   "cell_type": "code",
   "execution_count": null,
   "id": "fe2eb87a",
   "metadata": {},
   "outputs": [],
   "source": [
    "\n",
    "def train_model(model, train_loader, val_loader, criterion, optimizer,\n",
    "                n_epochs=100, device='cpu'):\n",
    "    # Training history\n",
    "    train_losses = []\n",
    "    val_losses = []\n",
    "\n",
    "    # Transfer model to device (CPU/GPU)\n",
    "    model = model.to(device)\n",
    "\n",
    "    for epoch in range(n_epochs):\n",
    "        # Training phase\n",
    "        train_loss = 0.0\n",
    "        for X_batch, y_batch in train_loader:\n",
    "            # Move batch to device\n",
    "            X_batch = X_batch.to(device)\n",
    "            y_batch = y_batch.to(device)\n",
    "\n",
    "            # Forward pass\n",
    "            outputs = model(X_batch)\n",
    "            loss = criterion(outputs, y_batch)\n",
    "\n",
    "            # Backward pass and optimization\n",
    "            optimizer.zero_grad()\n",
    "            loss.backward()\n",
    "            optimizer.step()\n",
    "\n",
    "            train_loss += loss.item()\n",
    "\n",
    "        # Validation phase\n",
    "        val_loss = 0.0\n",
    "        with torch.no_grad():  # No need to track gradients\n",
    "            for X_batch, y_batch in val_loader:\n",
    "                X_batch = X_batch.to(device)\n",
    "                y_batch = y_batch.to(device)\n",
    "\n",
    "                outputs = model(X_batch)\n",
    "                loss = criterion(outputs, y_batch)\n",
    "                val_loss += loss.item()\n",
    "\n",
    "        # Record losses\n",
    "        train_losses.append(train_loss / len(train_loader))\n",
    "        val_losses.append(val_loss / len(val_loader))\n",
    "\n",
    "    return train_losses, val_losses\n",
    "\n",
    "# Initialize model, criterion, and optimizer\n",
    "criterion = nn.BCELoss()\n",
    "optimizer = optim.Adam(model.parameters(), lr=0.01)\n",
    "\n",
    "# Set device\n",
    "device = torch.device('cuda' if torch.cuda.is_available() else 'cpu')\n",
    "print(f'Using device: {device}')\n",
    "\n",
    "# Train the model\n",
    "train_losses, val_losses = train_model(\n",
    "    model, train_loader, val_loader, criterion, optimizer,\n",
    "    n_epochs=100, device=device\n",
    ")\n",
    "\n",
    "# Plot training history\n",
    "plt.figure(figsize=(10, 5))\n",
    "plt.plot(train_losses, label='Training Loss')\n",
    "plt.plot(val_losses, label='Validation Loss')\n",
    "plt.xlabel('Epoch')\n",
    "plt.ylabel('Loss')\n",
    "plt.title('Training History')\n",
    "plt.legend()\n",
    "plt.grid(True)\n",
    "plt.show()"
   ]
  },
  {
   "cell_type": "markdown",
   "id": "431455db",
   "metadata": {},
   "source": [
    "Evaluate the model by plotting the decision boundary."
   ]
  },
  {
   "cell_type": "code",
   "execution_count": null,
   "id": "13fc83b5",
   "metadata": {},
   "outputs": [],
   "source": [
    "def plot_decision_boundary(model, X, y):\n",
    "    model.eval()\n",
    "\n",
    "    # Create a mesh grid\n",
    "    x_min, x_max = X[:, 0].min() - 0.5, X[:, 0].max() + 0.5\n",
    "    y_min, y_max = X[:, 1].min() - 0.5, X[:, 1].max() + 0.5\n",
    "    xx, yy = np.meshgrid(np.linspace(x_min, x_max, 100),\n",
    "                        np.linspace(y_min, y_max, 100))\n",
    "\n",
    "    # Make predictions\n",
    "    with torch.no_grad():\n",
    "        Z = model(torch.FloatTensor(np.c_[xx.ravel(), yy.ravel()]))\n",
    "        Z = Z.reshape(xx.shape)\n",
    "\n",
    "    # Plot\n",
    "    plt.figure(figsize=(10, 8))\n",
    "    plt.contourf(xx, yy, Z.numpy(), alpha=0.4)\n",
    "    plt.scatter(X[:, 0], X[:, 1], c=y, cmap='viridis')\n",
    "    plt.title('Decision Boundary')\n",
    "    plt.xlabel('Feature 1')\n",
    "    plt.ylabel('Feature 2')\n",
    "    plt.colorbar()\n",
    "    plt.show()\n",
    "\n",
    "# Visualize the decision boundary\n",
    "X, y = train_dataset.X, train_dataset.y\n",
    "plot_decision_boundary(model, X, y)"
   ]
  },
  {
   "cell_type": "markdown",
   "id": "5f3471d1",
   "metadata": {},
   "source": [
    "# PyTorch Lightning\n",
    "\n",
    "PyTorch Lightning is a high-level library for PyTorch that provides a more user-friendly interface for training and evaluating models. It provides a number of features that make it easier to train and evaluate models, such as automatic mixed precision, gradient accumulation, and early stopping.\n",
    "\n",
    "To use PyTorch Lightning, you need to install it. (Uncomment the following line to install it.)"
   ]
  },
  {
   "cell_type": "code",
   "execution_count": 54,
   "id": "c4b53fda",
   "metadata": {},
   "outputs": [],
   "source": [
    "# !pip install pytorch-lightning"
   ]
  },
  {
   "cell_type": "markdown",
   "id": "ad82de06",
   "metadata": {},
   "source": [
    "Now, let's re-implement the previous example using PyTorch Lightning.\n",
    "With PyTorch Lightning, we will define a model by subclassing the `LightningModule` class, instead of `nn.Module`. This module will contain the model definition (`__init__` and `forward`), the training loop (`training_step`), the validation loop (`validation_step`), and the optimizer (`configure_optimizers`).\n"
   ]
  },
  {
   "cell_type": "code",
   "execution_count": 124,
   "id": "5767be1f",
   "metadata": {},
   "outputs": [],
   "source": [
    "import pytorch_lightning as pl\n",
    "from pytorch_lightning import LightningModule, Trainer\n",
    "\n",
    "class BinaryClassifier(LightningModule):\n",
    "    def __init__(self):\n",
    "        super().__init__()\n",
    "        self.lin_1 = nn.Linear(2, 16)\n",
    "        self.relu_1 = nn.ReLU()\n",
    "        self.lin_2 = nn.Linear(16, 16)\n",
    "        self.relu_2 = nn.ReLU()\n",
    "        self.lin_3 = nn.Linear(16, 1)\n",
    "        self.sigmoid = nn.Sigmoid()\n",
    "\n",
    "    def forward(self, x):\n",
    "        x = self.lin_1(x)\n",
    "        x = self.relu_1(x)\n",
    "        x = self.lin_2(x)\n",
    "        x = self.relu_2(x)\n",
    "        x = self.lin_3(x)\n",
    "        x = self.sigmoid(x)\n",
    "        return x\n",
    "\n",
    "    def training_step(self, batch, batch_idx):\n",
    "        X, y = batch\n",
    "        y_pred = self(X)\n",
    "        loss = nn.BCELoss()(y_pred, y)\n",
    "        self.log('train_loss', loss)\n",
    "        return loss\n",
    "\n",
    "    def validation_step(self, batch, batch_idx):\n",
    "        X, y = batch\n",
    "        y_pred = self(X)\n",
    "        loss = nn.BCELoss()(y_pred, y)\n",
    "        self.log('val_loss', loss)\n",
    "        return loss\n",
    "\n",
    "    def configure_optimizers(self):\n",
    "        return optim.Adam(self.parameters(), lr=0.01)"
   ]
  },
  {
   "cell_type": "markdown",
   "id": "af1494d8",
   "metadata": {},
   "source": [
    "A key feature of PyTorch Lightning is that it provides a `Trainer` class that handles the training loop."
   ]
  },
  {
   "cell_type": "code",
   "execution_count": null,
   "id": "5d072b33",
   "metadata": {},
   "outputs": [],
   "source": [
    "model = BinaryClassifier()\n",
    "trainer = Trainer(max_epochs=50)\n",
    "trainer.fit(model, train_loader, val_loader) # This will automatically handle the training loop"
   ]
  },
  {
   "cell_type": "markdown",
   "id": "932f4be5",
   "metadata": {},
   "source": [
    "Now, let's evaluate the model."
   ]
  },
  {
   "cell_type": "code",
   "execution_count": null,
   "id": "76f2dddd",
   "metadata": {},
   "outputs": [],
   "source": [
    "# Visualize the decision boundary\n",
    "X, y = train_dataset.X, train_dataset.y\n",
    "plot_decision_boundary(model, X, y)"
   ]
  },
  {
   "cell_type": "markdown",
   "id": "38f67b39",
   "metadata": {},
   "source": [
    "A cool feature of PyTorch Lightning is that it provides a `TensorBoard` callback that allows you to visualize the training process.\n",
    "\n",
    "To use this, you need to install the `tensorboard` package. (Uncomment the following line to install it.)"
   ]
  },
  {
   "cell_type": "code",
   "execution_count": 127,
   "id": "bfb83488",
   "metadata": {},
   "outputs": [],
   "source": [
    "# !pip install tensorboard"
   ]
  },
  {
   "cell_type": "code",
   "execution_count": null,
   "id": "f0bc44f7",
   "metadata": {},
   "outputs": [],
   "source": [
    "%load_ext tensorboard\n",
    "%tensorboard  --logdir logs"
   ]
  },
  {
   "cell_type": "markdown",
   "id": "c7912f4c",
   "metadata": {},
   "source": [
    "\n",
    "Then, you can run the following command to start the TensorBoard server.\n",
    "%load_ext tensorboard"
   ]
  },
  {
   "cell_type": "code",
   "execution_count": null,
   "id": "4b84d31f",
   "metadata": {},
   "outputs": [],
   "source": [
    "from pytorch_lightning.loggers import TensorBoardLogger\n",
    "\n",
    "model = BinaryClassifier()\n",
    "logger = TensorBoardLogger(save_dir='logs')\n",
    "trainer = Trainer(logger=logger, max_epochs=100, log_every_n_steps=1)\n",
    "trainer.fit(model, train_loader, val_loader)\n"
   ]
  },
  {
   "cell_type": "markdown",
   "id": "14cd3291",
   "metadata": {},
   "source": [
    "# References\n",
    "- [\\[Pytorch\\] Contiguous vs Non-Contiguous Tensor / View — Understanding view(), reshape(), transpose() | by Kathryn | Analytics Vidhya | Medium](https://medium.com/analytics-vidhya/pytorch-contiguous-vs-non-contiguous-tensor-view-understanding-view-reshape-73e10cdfa0dd)\n",
    "- [PyTorch Lightning](https://lightning.ai/docs/pytorch/stable/index.html)\n",
    "- [TensorBoard](https://www.tensorflow.org/tensorboard)\n",
    "- [PyTorch Documentation](https://pytorch.org/docs/stable/index.html)\n",
    "\n"
   ]
  },
  {
   "cell_type": "markdown",
   "id": "6343c7b4",
   "metadata": {},
   "source": []
  }
 ],
 "metadata": {
  "kernelspec": {
   "display_name": "advnetsci",
   "language": "python",
   "name": "python3"
  },
  "language_info": {
   "codemirror_mode": {
    "name": "ipython",
    "version": 3
   },
   "file_extension": ".py",
   "mimetype": "text/x-python",
   "name": "python",
   "nbconvert_exporter": "python",
   "pygments_lexer": "ipython3",
   "version": "3.11.0"
  }
 },
 "nbformat": 4,
 "nbformat_minor": 5
}
