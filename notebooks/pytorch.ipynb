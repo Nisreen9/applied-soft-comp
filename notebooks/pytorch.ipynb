{
 "cells": [
  {
   "cell_type": "markdown",
   "id": "b539a62a",
   "metadata": {},
   "source": [
    "\n",
    "# [![Open In Colab](https://colab.research.google.com/assets/colab-badge.svg)](https://colab.research.google.com/github/skojaku/applied-soft-comp/blob/main/notebooks/pytorch.ipynb)\n",
    "\n",
    "\n",
    "# Introduction to PyTorch\n",
    "\n",
    "This notebook introduces the fundamentals of PyTorch, focusing on tensor operations and linear algebra concepts. We'll start from the basics and gradually build up to more complex operations."
   ]
  },
  {
   "cell_type": "code",
   "execution_count": 1,
   "id": "031af134",
   "metadata": {},
   "outputs": [],
   "source": [
    "# First, let's import our required libraries\n",
    "import torch\n",
    "import numpy as np\n",
    "import matplotlib.pyplot as plt"
   ]
  },
  {
   "cell_type": "markdown",
   "id": "930dd4a2",
   "metadata": {},
   "source": [
    "## Introduction to PyTorch Tensors\n",
    "\n",
    "### What is a Tensor?\n",
    "\n",
    "![](https://miro.medium.com/v2/resize:fit:880/1*WbLIc4-xIOfHiO2oWzimyA.png)\n",
    "\n",
    "A tensor is simply a container for numbers. It can be:\n",
    "- A single number (scalar) - 0-dimensional tensor\n",
    "- A list of numbers (vector) - 1-dimensional tensor\n",
    "- A table of numbers (matrix) - 2-dimensional tensor\n",
    "- A cube of numbers (and beyond!) - 3+ dimensional tensor\n",
    "\n",
    "Let's create some tensors:"
   ]
  },
  {
   "cell_type": "code",
   "execution_count": 2,
   "id": "adc2e6d5",
   "metadata": {},
   "outputs": [
    {
     "name": "stdout",
     "output_type": "stream",
     "text": [
      "Scalar shape: torch.Size([])\n",
      "Vector shape: torch.Size([5])\n",
      "Matrix shape: torch.Size([3, 3])\n",
      "Cube shape: torch.Size([2, 2, 2])\n"
     ]
    },
    {
     "data": {
      "image/png": "[encoded data removed]",
      "text/plain": [
       "<Figure size 600x600 with 2 Axes>"
      ]
     },
     "metadata": {},
     "output_type": "display_data"
    }
   ],
   "source": [
    "# Creating tensors of different dimensions\n",
    "scalar = torch.tensor(3.14)\n",
    "vector = torch.tensor([1, 2, 3, 4, 5])\n",
    "matrix = torch.tensor([[1, 2, 3],\n",
    "                      [4, 5, 6],\n",
    "                      [7, 8, 9]])\n",
    "cube = torch.tensor([[[1, 2], [3, 4]],\n",
    "                    [[5, 6], [7, 8]]])\n",
    "\n",
    "# Let's print their shapes\n",
    "print(f\"Scalar shape: {scalar.shape}\")\n",
    "print(f\"Vector shape: {vector.shape}\")\n",
    "print(f\"Matrix shape: {matrix.shape}\")\n",
    "print(f\"Cube shape: {cube.shape}\")\n",
    "\n",
    "# Visualize the matrix using matplotlib\n",
    "plt.figure(figsize=(6, 6))\n",
    "plt.imshow(matrix.numpy(), cmap='viridis')\n",
    "plt.colorbar()\n",
    "plt.title('Visualization of our 3x3 Matrix')\n",
    "plt.show()"
   ]
  },
  {
   "cell_type": "markdown",
   "id": "ba796e28",
   "metadata": {},
   "source": [
    "### Creating Tensors\n",
    "PyTorch provides several ways to create tensors:"
   ]
  },
  {
   "cell_type": "code",
   "execution_count": 3,
   "id": "d52d73e4",
   "metadata": {},
   "outputs": [
    {
     "name": "stdout",
     "output_type": "stream",
     "text": [
      "Zeros tensor:\n",
      " tensor([[0., 0., 0., 0.],\n",
      "        [0., 0., 0., 0.],\n",
      "        [0., 0., 0., 0.]])\n",
      "\n",
      "Ones tensor:\n",
      " tensor([[1., 1., 1.],\n",
      "        [1., 1., 1.]])\n",
      "\n",
      "Random tensor:\n",
      " tensor([[0.5809, 0.5800, 0.9652],\n",
      "        [0.5794, 0.4347, 0.5366],\n",
      "        [0.5666, 0.1796, 0.1876]])\n",
      "\n",
      "Range tensor: tensor([0, 1, 2, 3, 4, 5, 6, 7, 8, 9])\n",
      "\n",
      "Linspace tensor: tensor([0.0000, 0.2500, 0.5000, 0.7500, 1.0000])\n"
     ]
    }
   ],
   "source": [
    "# Create tensors with specific values\n",
    "zeros = torch.zeros(3, 4)  # 3x4 tensor of zeros\n",
    "ones = torch.ones(2, 3)    # 2x3 tensor of ones\n",
    "random = torch.rand(3, 3)  # 3x3 tensor of random numbers between 0 and 1\n",
    "\n",
    "# Create tensors with specific ranges\n",
    "range_tensor = torch.arange(0, 10, step=1)  # Creates [0, 1, 2, ..., 9]\n",
    "linspace = torch.linspace(0, 1, steps=5)    # Creates 5 evenly spaced points between 0 and 1\n",
    "\n",
    "print(\"Zeros tensor:\\n\", zeros)\n",
    "print(\"\\nOnes tensor:\\n\", ones)\n",
    "print(\"\\nRandom tensor:\\n\", random)\n",
    "print(\"\\nRange tensor:\", range_tensor)\n",
    "print(\"\\nLinspace tensor:\", linspace)"
   ]
  },
  {
   "cell_type": "markdown",
   "id": "e7e22ae6",
   "metadata": {},
   "source": [
    "### Working with GPU (if available)\n",
    "PyTorch makes it easy to move computations to GPU:"
   ]
  },
  {
   "cell_type": "code",
   "execution_count": 4,
   "id": "299e9060",
   "metadata": {},
   "outputs": [
    {
     "name": "stdout",
     "output_type": "stream",
     "text": [
      "Using device: cpu\n",
      "Tensor on cpu:\n",
      " tensor([[0.1275, 0.1860, 0.8166],\n",
      "        [0.5693, 0.7420, 0.9739],\n",
      "        [0.6081, 0.3560, 0.4932]])\n"
     ]
    }
   ],
   "source": [
    "# Check if GPU is available\n",
    "device = torch.device('cuda' if torch.cuda.is_available() else 'cpu')\n",
    "print(f\"Using device: {device}\")\n",
    "\n",
    "# Create a tensor and move it to the available device\n",
    "tensor_on_device = torch.rand(3, 3).to(device)\n",
    "print(f\"Tensor on {device}:\\n\", tensor_on_device)"
   ]
  },
  {
   "cell_type": "markdown",
   "id": "6317d3a4",
   "metadata": {},
   "source": [
    "### Basic Tensor Operations"
   ]
  },
  {
   "cell_type": "code",
   "execution_count": 5,
   "id": "4213cf4e",
   "metadata": {},
   "outputs": [
    {
     "name": "stdout",
     "output_type": "stream",
     "text": [
      "Addition:\n",
      " tensor([[ 6,  8],\n",
      "        [10, 12]])\n",
      "\n",
      "Element-wise multiplication:\n",
      " tensor([[ 5, 12],\n",
      "        [21, 32]])\n",
      "\n",
      "Matrix multiplication:\n",
      " tensor([[19, 22],\n",
      "        [43, 50]])\n",
      "\n",
      "Matrix multiplication (using @):\n",
      " tensor([[19, 22],\n",
      "        [43, 50]])\n"
     ]
    }
   ],
   "source": [
    "# Create two tensors\n",
    "a = torch.tensor([[1, 2], [3, 4]])\n",
    "b = torch.tensor([[5, 6], [7, 8]])\n",
    "\n",
    "# Addition\n",
    "print(\"Addition:\\n\", a + b)\n",
    "\n",
    "# Multiplication (element-wise)\n",
    "print(\"\\nElement-wise multiplication:\\n\", a * b)\n",
    "\n",
    "# Matrix multiplication\n",
    "print(\"\\nMatrix multiplication:\\n\", torch.matmul(a, b))\n",
    "\n",
    "# or using the @ operator\n",
    "print(\"\\nMatrix multiplication (using @):\\n\", a @ b)"
   ]
  },
  {
   "cell_type": "markdown",
   "id": "c8211567",
   "metadata": {},
   "source": [
    "### Common Tensor Operations and Troubleshooting"
   ]
  },
  {
   "cell_type": "code",
   "execution_count": 6,
   "id": "234fb766",
   "metadata": {},
   "outputs": [
    {
     "name": "stdout",
     "output_type": "stream",
     "text": [
      "An error occurred: Torch not compiled with CUDA enabled\n"
     ]
    }
   ],
   "source": [
    "try:\n",
    "    # Create example tensors\n",
    "    a = torch.tensor([[1, 2], [3, 4]]).to(\"cpu\")\n",
    "    b = torch.tensor([[5, 6], [7, 8]]).to(\"cuda\")\n",
    "\n",
    "    # TROUBLESHOOTING TIP: Shape mismatches\n",
    "    # If you get a RuntimeError about shape mismatch, check tensor shapes:\n",
    "    print(f\"Shape of a: {a.shape}\")\n",
    "    print(f\"Shape of b: {b.shape}\")\n",
    "    # Fix by reshaping: tensor.reshape(new_shape) or tensor.view(new_shape)\n",
    "\n",
    "    # TROUBLESHOOTING TIP: Wrong device\n",
    "    # If you get a \"tensors must be on the same device\" error:\n",
    "    print(f\"Device of a: {a.device}\")\n",
    "    print(f\"Device of b: {b.device}\")\n",
    "    # Fix by moving tensors to same device: tensor.to(device)\n",
    "\n",
    "except RuntimeError as e:\n",
    "    print(f\"Runtime Error occurred: {e}\")\n",
    "    print(\"This may be due to CUDA not being available or tensors being on different devices\")\n",
    "except Exception as e:\n",
    "    print(f\"An error occurred: {e}\")"
   ]
  },
  {
   "cell_type": "markdown",
   "id": "19383f07",
   "metadata": {},
   "source": [
    "### Understanding Broadcasting in Detail\n",
    "Broadcasting follows these rules:\n",
    "1. Arrays must have the same number of dimensions, or\n",
    "2. One array can have fewer dimensions if they match from right to left\n",
    "3. Each dimension must be equal, or one must be 1"
   ]
  },
  {
   "cell_type": "code",
   "execution_count": 7,
   "id": "0a1220d6",
   "metadata": {},
   "outputs": [
    {
     "name": "stdout",
     "output_type": "stream",
     "text": [
      "Error: The size of tensor a (4) must match the size of tensor b (3) at non-singleton dimension 1\n",
      "Fix: Ensure shapes are compatible for broadcasting\n"
     ]
    }
   ],
   "source": [
    "# Examples of valid broadcasting\n",
    "a = torch.ones(3, 4)\n",
    "b = torch.ones(4)  # Will be broadcast to (3, 4)\n",
    "c = a + b  # Works!\n",
    "\n",
    "# TROUBLESHOOTING TIP: Invalid broadcasting\n",
    "try:\n",
    "    d = torch.ones(4, 3)\n",
    "    result = a + d  # Will fail!\n",
    "except RuntimeError as e:\n",
    "    print(f\"Error: {e}\")\n",
    "    print(\"Fix: Ensure shapes are compatible for broadcasting\")"
   ]
  },
  {
   "cell_type": "markdown",
   "id": "4746dafa",
   "metadata": {},
   "source": [
    "### Memory Management Best Practices\n",
    "\n",
    "In-place operations modify tensors directly instead of creating new ones.\n",
    "They are denoted by a trailing underscore (_) in PyTorch.\n",
    "Examples:\n",
    "- add_() instead of add()\n",
    "- mul_() instead of mul()\n",
    "- sub_() instead of sub()\n",
    "\n",
    "These operations are memory efficient since they don't create new tensors, making them valuable for large models and datasets where memory is constrained. However, they can't be used with tensors requiring gradients and may cause issues with shared tensors, so they should be implemented carefully, especially in training loops."
   ]
  },
  {
   "cell_type": "code",
   "execution_count": 8,
   "id": "41866587",
   "metadata": {},
   "outputs": [],
   "source": [
    "# TROUBLESHOOTING TIP: Memory leaks\n",
    "# Use in-place operations when possible to reduce memory usage\n",
    "x = torch.ones(1000, 1000)\n",
    "# Instead of: x = x + 1\n",
    "x.add_(1)  # In-place addition\n",
    "# x+=1\n",
    "# Clear GPU cache if needed\n",
    "if torch.cuda.is_available():\n",
    "    torch.cuda.empty_cache()"
   ]
  },
  {
   "cell_type": "markdown",
   "id": "08a34d58",
   "metadata": {},
   "source": [
    "When working with CUDA tensors, memory isn't automatically released back to the GPU.\n",
    "torch.cuda.empty_cache() forces unused memory to be released back to the GPU.\n",
    "This is useful when:\n",
    "- You get \"out of memory\" errors\n",
    "- You've deleted large tensors but memory usage remains high\n",
    "- Between training runs to ensure a clean GPU state\n",
    "Note: This only frees unused memory - tensors still in use won't be affected"
   ]
  },
  {
   "cell_type": "markdown",
   "id": "39f0c41d",
   "metadata": {},
   "source": [
    "### Understanding Tensor Memory Layout and Contiguity\n",
    "\n",
    "![](https://miro.medium.com/v2/resize:fit:1400/format:webp/1*e92qaBl4Kly5CKzGRNRZIQ.png)\n",
    "\n",
    "When we create a tensor in PyTorch, it arranges the data sequentially in memory, like books lined up on a shelf. This is called a *contiguous tensor*. We can check if a tensor is contiguous using `is_contiguous()`."
   ]
  },
  {
   "cell_type": "code",
   "execution_count": 9,
   "id": "0a07dbac",
   "metadata": {},
   "outputs": [
    {
     "name": "stdout",
     "output_type": "stream",
     "text": [
      "True\n",
      "tensor([ 1,  2,  3,  4,  5,  6,  7,  8,  9, 10, 11, 12])\n",
      "tensor([[ 1,  2,  3],\n",
      "        [ 4,  5,  6],\n",
      "        [ 7,  8,  9],\n",
      "        [10, 11, 12]])\n"
     ]
    }
   ],
   "source": [
    "# Creating a contiguous tensor - data is stored sequentially in memory\n",
    "x = torch.arange(1, 13)  # [1, 2, 3, ..., 12]\n",
    "print(x.is_contiguous())  # True\n",
    "print(x)\n",
    "# We can reshape it while keeping data contiguous\n",
    "y = x.view(4, 3)\n",
    "print(y)  # Shows a 4x3 matrix"
   ]
  },
  {
   "cell_type": "markdown",
   "id": "95a33436",
   "metadata": {},
   "source": [
    "![](https://miro.medium.com/v2/resize:fit:1400/format:webp/1*Xm3ZfWtIn7TUD9lcwhpacg.png)\n",
    "\n",
    "A `view` is like looking at the same data from a different angle; it doesn't create a new copy but provides a new way to access the same data. Think of it as rearranging books on a shelf without actually moving them. When you change data in a view, it changes the original data because they share the same memory."
   ]
  },
  {
   "cell_type": "code",
   "execution_count": 10,
   "id": "34e8c860",
   "metadata": {},
   "outputs": [
    {
     "name": "stdout",
     "output_type": "stream",
     "text": [
      "tensor([ 1,  2,  3,  4,  5,  6,  7,  8,  9, 10, 11, 12])\n",
      "tensor([[ 1,  2,  3],\n",
      "        [ 4,  5,  6],\n",
      "        [ 7,  8,  9],\n",
      "        [10, 11, 12]])\n"
     ]
    }
   ],
   "source": [
    "x = torch.arange(1, 13)  # Original data\n",
    "y = x.view(4, 3)        # Viewed as 4x3 matrix\n",
    "print(x)\n",
    "print(y)"
   ]
  },
  {
   "cell_type": "markdown",
   "id": "597deb47",
   "metadata": {},
   "source": [
    "Changes in view affect original data."
   ]
  },
  {
   "cell_type": "code",
   "execution_count": 11,
   "id": "40a9cd6f",
   "metadata": {
    "lines_to_next_cell": 2
   },
   "outputs": [
    {
     "name": "stdout",
     "output_type": "stream",
     "text": [
      "tensor([100,   2,   3,   4,   5,   6,   7,   8,   9,  10,  11,  12])\n"
     ]
    }
   ],
   "source": [
    "y[0, 0] = 100\n",
    "print(x)  # First element changes in both x and y"
   ]
  },
  {
   "cell_type": "markdown",
   "id": "1f0a41c6",
   "metadata": {},
   "source": [
    "![](https://miro.medium.com/v2/resize:fit:1400/format:webp/1*AnQ2KLhfYmt17ldTKpKvfQ.png)\n",
    "\n",
    "Strides tell us how many steps to jump to move in each dimension of the tensor. `strides` give us directions: how many elements in the tensor to skip to get to the next row or the next column.\n"
   ]
  },
  {
   "cell_type": "code",
   "execution_count": 12,
   "id": "49e726b7",
   "metadata": {},
   "outputs": [
    {
     "name": "stdout",
     "output_type": "stream",
     "text": [
      "tensor([[ 1,  2,  3],\n",
      "        [ 4,  5,  6],\n",
      "        [ 7,  8,  9],\n",
      "        [10, 11, 12]])\n",
      "(3, 1)\n"
     ]
    }
   ],
   "source": [
    "x = torch.arange(1, 13).view(4, 3)\n",
    "print(x)\n",
    "print(x.stride())  # (3, 1)\n",
    "# 3 means: skip 3 elements to move down one row\n",
    "# 1 means: skip 1 element to move right one column"
   ]
  },
  {
   "cell_type": "markdown",
   "id": "cc243a53",
   "metadata": {},
   "source": [
    "![](https://miro.medium.com/v2/resize:fit:1400/format:webp/1*HRWWBxD3H0rkO4r5J64dVg.png)\n",
    "\n",
    "Sometimes operations like transpose() create non-contiguous tensors, where data isn't stored sequentially anymore. While `view()` only works with contiguous data, `reshape()` can work with both types by creating a new copy when necessary.\n"
   ]
  },
  {
   "cell_type": "code",
   "execution_count": 13,
   "id": "d61604be",
   "metadata": {},
   "outputs": [
    {
     "name": "stdout",
     "output_type": "stream",
     "text": [
      "False\n",
      "True\n"
     ]
    }
   ],
   "source": [
    "x = torch.arange(1, 13).view(4, 3)\n",
    "y = x.transpose(0, 1)   # Creates non-contiguous tensor\n",
    "print(y.is_contiguous())  # False\n",
    "\n",
    "z = x.reshape(2, 6)     # reshape works fine with non-contiguous data\n",
    "print(z.is_contiguous())  # True"
   ]
  },
  {
   "cell_type": "markdown",
   "id": "37d6a661",
   "metadata": {},
   "source": [
    "The key takeaway is that understanding how data is organized in memory helps us choose the right operations and optimize our code's performance. Using `view()` is faster but more restrictive, while `reshape()` is more flexible but might use more memory."
   ]
  },
  {
   "cell_type": "markdown",
   "id": "762ad80f",
   "metadata": {},
   "source": [
    "### Understanding Squeeze and Unsqueeze\n",
    "\n",
    "![](https://i.sstatic.net/9AJJA.png)\n",
    "\n",
    "It is often necessary to change the dimensions of a tensor to match the expected shape for a particular operation. For example, a tensor with shape (32, 10) might need to be reshaped to (32, 1, 10) for a specific layer. `unsqueeze()` and `squeeze()` are two operations that can help with this.\n",
    "\n",
    "`unsqueeze()` adds a dimension of size 1 (like turning a 2D sheet into a 3D book with one page). This is useful when you need to match shapes for broadcasting or add batch dimensions."
   ]
  },
  {
   "cell_type": "code",
   "execution_count": 14,
   "id": "bb2f7c8a",
   "metadata": {},
   "outputs": [
    {
     "name": "stdout",
     "output_type": "stream",
     "text": [
      "torch.Size([32, 10]) torch.Size([32, 1, 10])\n"
     ]
    }
   ],
   "source": [
    "sequence = torch.randn(32, 10)  # (batch_size, sequence_length)\n",
    "sequence_expanded = sequence.unsqueeze(1)  # Adds dimension at position 1\n",
    "# Shape changes from (32, 10) to (32, 1, 10)\n",
    "\n",
    "print(sequence.shape, sequence_expanded.shape)"
   ]
  },
  {
   "cell_type": "markdown",
   "id": "566c780a",
   "metadata": {},
   "source": [
    "`squeeze()` removes all dimensions of size 1 (like flattening a book with one page back into a sheet). This helps clean up tensor shapes after operations that add extra dimensions."
   ]
  },
  {
   "cell_type": "code",
   "execution_count": 15,
   "id": "664afe08",
   "metadata": {},
   "outputs": [
    {
     "data": {
      "text/plain": [
       "(torch.Size([3, 4]), torch.Size([1, 1, 3, 1, 1, 4]))"
      ]
     },
     "execution_count": 15,
     "metadata": {},
     "output_type": "execute_result"
    }
   ],
   "source": [
    "nested = torch.randn(1, 1, 3, 1, 1, 4)  # Tensor with many size-1 dimensions\n",
    "squeezed = nested.squeeze()  # Removes all size-1 dimensions\n",
    "# Shape changes from (1, 1, 3, 1, 1, 4) to (3, 4)\n",
    "squeezed.shape, nested.shape"
   ]
  },
  {
   "cell_type": "markdown",
   "id": "57f56e1a",
   "metadata": {},
   "source": [
    "You can specify which dimensions to squeeze or unsqueeze:\n",
    "- Use positive indices to count from the front\n",
    "- Use negative indices to count from the back\n",
    "- Use `dim` parameter to squeeze specific dimensions"
   ]
  },
  {
   "cell_type": "code",
   "execution_count": 16,
   "id": "e7343018",
   "metadata": {},
   "outputs": [],
   "source": [
    "tensor = torch.randn(3, 4)\n",
    "# Both add dimension at the start:\n",
    "front_expanded = tensor.unsqueeze(0)     # (1, 3, 4)\n",
    "back_expanded = tensor.unsqueeze(-3)     # (1, 3, 4)\n",
    "\n",
    "# Squeeze only specific dimensions:\n",
    "partial = torch.randn(1, 3, 1, 4, 1)\n",
    "result = partial.squeeze(dim=0)  # Only removes first dimension\n",
    "# Shape changes from (1, 3, 1, 4, 1) to (3, 1, 4, 1)"
   ]
  },
  {
   "cell_type": "markdown",
   "id": "d05e912a",
   "metadata": {},
   "source": [
    "The key is to understand that these operations help match tensor shapes for various operations in neural networks, especially when dealing with batches, channels, or preparing data for specific layer requirements.\n",
    "\n",
    "### Reduction Operations\n",
    "\n",
    "Reduction operations can collapse all dimensions into a single value, giving you an overall summary of your tensor."
   ]
  },
  {
   "cell_type": "code",
   "execution_count": 17,
   "id": "47eaac3a",
   "metadata": {},
   "outputs": [
    {
     "data": {
      "text/plain": [
       "tensor([[1., 2., 3.],\n",
       "        [4., 5., 6.]])"
      ]
     },
     "execution_count": 17,
     "metadata": {},
     "output_type": "execute_result"
    }
   ],
   "source": [
    "x = torch.tensor([[1, 2, 3], [4, 5, 6]], dtype=torch.float32)  # 2x3 tensor\n",
    "\n",
    "total = x.sum()     # Adds all numbers: 21\n",
    "average = x.mean()  # Averages all numbers: 3.5\n",
    "total, average\n",
    "x"
   ]
  },
  {
   "cell_type": "markdown",
   "id": "e98db6b0",
   "metadata": {},
   "source": [
    "You can reduce specific dimensions while keeping others, which is useful for batch operations or feature aggregation:"
   ]
  },
  {
   "cell_type": "code",
   "execution_count": 18,
   "id": "9e828d0b",
   "metadata": {},
   "outputs": [
    {
     "data": {
      "text/plain": [
       "(tensor([5., 7., 9.]), torch.Size([2, 3]))"
      ]
     },
     "execution_count": 18,
     "metadata": {},
     "output_type": "execute_result"
    }
   ],
   "source": [
    "# Sum along rows (dim=0): combines values vertically\n",
    "row_sum = x.sum(dim=0)  # Result: [5, 7, 9]\n",
    "# Each position adds numbers in that column\n",
    "\n",
    "# Sum along columns (dim=1): combines values horizontally\n",
    "col_sum = x.sum(dim=1)  # Result: [6, 15]\n",
    "# Each position adds numbers in that row\n",
    "\n",
    "row_sum, x.shape"
   ]
  },
  {
   "cell_type": "markdown",
   "id": "7a8155f9",
   "metadata": {},
   "source": [
    "PyTorch provides methods to find maximum and minimum values, optionally returning their positions:"
   ]
  },
  {
   "cell_type": "code",
   "execution_count": 19,
   "id": "521fd98e",
   "metadata": {},
   "outputs": [
    {
     "data": {
      "text/plain": [
       "(tensor([[1., 2., 3.],\n",
       "         [4., 5., 6.]]),\n",
       " tensor([3., 6.]))"
      ]
     },
     "execution_count": 19,
     "metadata": {},
     "output_type": "execute_result"
    }
   ],
   "source": [
    "# Simple max/min across all elements\n",
    "max_val = x.max()  # Returns 6\n",
    "min_val = x.min()  # Returns 1\n",
    "\n",
    "# Getting both values and positions along a dimension\n",
    "max_vals, max_idx = x.max(dim=1)\n",
    "# max_vals: highest number in each row [3, 6]\n",
    "# max_idx: position of highest number [2, 2]\n",
    "x, max_vals"
   ]
  },
  {
   "cell_type": "markdown",
   "id": "08f43547",
   "metadata": {},
   "source": [
    "These operations are fundamental for many tasks:\n",
    "- Computing loss functions (like mean squared error)\n",
    "- Calculating accuracy metrics\n",
    "- Finding the strongest predictions in classification\n",
    "- Pooling operations in neural networks\n",
    "\n",
    "Remember that when using `dim`, think about which dimension you want to \"collapse.\""
   ]
  },
  {
   "cell_type": "markdown",
   "id": "cefd3890",
   "metadata": {},
   "source": [
    "### Indexing and Slicing\n",
    "\n",
    "Just like accessing items in a list, you can pick specific elements from a tensor using indices:"
   ]
  },
  {
   "cell_type": "code",
   "execution_count": 20,
   "id": "afaf0c74",
   "metadata": {},
   "outputs": [],
   "source": [
    "x = torch.tensor([[1, 2, 3, 4],\n",
    "                 [5, 6, 7, 8],\n",
    "                 [9, 10, 11, 12]])\n",
    "\n",
    "first_row = x[0]           # Gets [1, 2, 3, 4]\n",
    "specific_element = x[1,2]  # Gets 7 (row 1, column 2)"
   ]
  },
  {
   "cell_type": "markdown",
   "id": "e5c5c6a7",
   "metadata": {},
   "source": [
    "Slicing lets you select ranges of elements using the `start:end` syntax:\n",
    "Slicing lets you select ranges of elements using the `start:end` syntax:\n",
    "- `:` means \"take everything\"\n",
    "- `0:2` means \"take elements from index 0 up to (but not including) 2\"\n",
    "- `-2:` means \"take the last two elements\""
   ]
  },
  {
   "cell_type": "code",
   "execution_count": 21,
   "id": "224a9e51",
   "metadata": {},
   "outputs": [],
   "source": [
    "two_rows = x[:2]        # Takes first two rows\n",
    "last_columns = x[:,-2:] # Takes last two columns from all rows"
   ]
  },
  {
   "cell_type": "markdown",
   "id": "35351d04",
   "metadata": {},
   "source": [
    "You can select elements that meet certain conditions by creating a mask of True/False values:"
   ]
  },
  {
   "cell_type": "code",
   "execution_count": 22,
   "id": "d0883cc6",
   "metadata": {},
   "outputs": [
    {
     "data": {
      "text/plain": [
       "tensor([ 6,  7,  8,  9, 10, 11, 12])"
      ]
     },
     "execution_count": 22,
     "metadata": {},
     "output_type": "execute_result"
    }
   ],
   "source": [
    "mask = x > 5            # Creates a boolean mask\n",
    "big_numbers = x[mask]   # Selects only elements greater than 5\n",
    "big_numbers\n",
    "# Results in: [6, 7, 8, 9, 10, 11, 12]"
   ]
  },
  {
   "cell_type": "markdown",
   "id": "3fed922a",
   "metadata": {},
   "source": [
    "Using arrays of indices to select multiple elements at once:"
   ]
  },
  {
   "cell_type": "code",
   "execution_count": 23,
   "id": "84bc2663",
   "metadata": {},
   "outputs": [],
   "source": [
    "rows = torch.tensor([0, 2])      # Select first and last rows\n",
    "cols = torch.tensor([1, 3])      # Select second and last columns\n",
    "selected = x[(rows, cols)] # Gets specific elements\n"
   ]
  },
  {
   "cell_type": "markdown",
   "id": "36220351",
   "metadata": {},
   "source": [
    "These indexing methods are important for:\n",
    "- Selecting specific batches or features in deep learning\n",
    "- Applying operations to parts of your data\n",
    "- Filtering data based on conditions\n",
    "- Efficiently accessing and modifying specific elements\n",
    "\n",
    "Remember: Unlike NumPy, PyTorch indexing returns views when possible, which means modifications to the slice will affect the original tensor.\n",
    "\n",
    "## Autograd Mechanics\n",
    "\n",
    "### Gradient Tracking\n",
    "\n",
    "A key feature of PyTorch is *autograd*, which is a system for automatic differentiation. When we create a tensor with `requires_grad=True`, PyTorch starts tracking all operations performed on it for automatic differentiation. This is essential for training neural networks."
   ]
  },
  {
   "cell_type": "code",
   "execution_count": 24,
   "id": "3e0b7e17",
   "metadata": {},
   "outputs": [
    {
     "data": {
      "text/plain": [
       "tensor([2., 4., 6.])"
      ]
     },
     "execution_count": 24,
     "metadata": {},
     "output_type": "execute_result"
    }
   ],
   "source": [
    "x = torch.tensor([1.0, 2.0, 3.0], requires_grad=True)\n",
    "y = x ** 2  # This operation is tracked\n",
    "z = y.sum()\n",
    "z.backward() # This computes the gradient of z with respect to x\n",
    "x.grad"
   ]
  },
  {
   "cell_type": "markdown",
   "id": "a518ca38",
   "metadata": {},
   "source": [
    "By default, PyTorch accumulates gradients across multiple backward passes. This means if you call `backward()` multiple times, the gradients add up instead of being overwritten."
   ]
  },
  {
   "cell_type": "code",
   "execution_count": 25,
   "id": "3533e21c",
   "metadata": {},
   "outputs": [
    {
     "name": "stdout",
     "output_type": "stream",
     "text": [
      "Pass 1 gradient: tensor([2., 4., 6.])\n",
      "Pass 2 gradient: tensor([ 4.,  8., 12.])\n"
     ]
    }
   ],
   "source": [
    "x = torch.tensor([1.0, 2.0, 3.0], requires_grad=True)\n",
    "y = x ** 2  # This operation is tracked\n",
    "\n",
    "for i in range(2):\n",
    "    z = y.sum()\n",
    "    z.backward(retain_graph=True)  # First pass\n",
    "    print(f\"Pass {i+1} gradient:\", x.grad)"
   ]
  },
  {
   "cell_type": "markdown",
   "id": "683f10b6",
   "metadata": {},
   "source": [
    "To reset gradients to zero, use `zero_()`:"
   ]
  },
  {
   "cell_type": "code",
   "execution_count": 26,
   "id": "5b4002f5",
   "metadata": {},
   "outputs": [
    {
     "data": {
      "text/plain": [
       "tensor([0., 0., 0.])"
      ]
     },
     "execution_count": 26,
     "metadata": {},
     "output_type": "execute_result"
    }
   ],
   "source": [
    "x.grad.zero_()  # Resets gradients to zero"
   ]
  },
  {
   "cell_type": "markdown",
   "id": "bdb607c5",
   "metadata": {},
   "source": [
    "### Not Tracking Gradients\n",
    "\n",
    "Sometimes we want to perform operations without tracking gradients (like during evaluation). The `torch.no_grad()` context manager temporarily disables gradient tracking:"
   ]
  },
  {
   "cell_type": "code",
   "execution_count": null,
   "id": "6e83b5ca",
   "metadata": {},
   "outputs": [],
   "source": []
  },
  {
   "cell_type": "code",
   "execution_count": 62,
   "id": "cabfde07",
   "metadata": {},
   "outputs": [],
   "source": [
    "with torch.no_grad():\n",
    "    intermediate = x * 2  # No gradients tracked here\n",
    "x.grad"
   ]
  },
  {
   "cell_type": "markdown",
   "id": "dc21b348",
   "metadata": {},
   "source": [
    "This is useful for:\n",
    "- Saving memory during inference\n",
    "- Preventing gradients from flowing through certain parts of your model\n",
    "- Performing operations that don't need gradient tracking\n",
    "\n",
    "Understanding these concepts is crucial for efficient training of neural networks, especially when dealing with memory constraints or implementing custom training loops."
   ]
  },
  {
   "cell_type": "markdown",
   "id": "b6be04ed",
   "metadata": {},
   "source": [
    "### Computation Graph\n",
    "\n",
    "We can take the gradient of a function with respect to multiple variables."
   ]
  },
  {
   "cell_type": "code",
   "execution_count": 63,
   "id": "d22d296d",
   "metadata": {},
   "outputs": [
    {
     "name": "stdout",
     "output_type": "stream",
     "text": [
      "dz/dx: 4.0\n",
      "dz/dy: 27.0\n"
     ]
    }
   ],
   "source": [
    "# Creating tensors with gradient tracking\n",
    "x = torch.tensor(2.0, requires_grad=True)\n",
    "y = torch.tensor(3.0, requires_grad=True)\n",
    "\n",
    "# Building a computation graph\n",
    "z = x**2 + y**3\n",
    "\n",
    "# Compute gradients\n",
    "z.backward()\n",
    "\n",
    "print(f\"dz/dx: {x.grad}\")  # Should be 2 * x = 4\n",
    "print(f\"dz/dy: {y.grad}\")  # Should be 3 * y^2 = 27"
   ]
  },
  {
   "cell_type": "markdown",
   "id": "416f3506",
   "metadata": {},
   "source": [
    "Internally, PyTorch constructs so-called a *computation graph* that represents the operations performed on the tensors."
   ]
  },
  {
   "cell_type": "code",
   "execution_count": 29,
   "id": "6247a7e1",
   "metadata": {},
   "outputs": [],
   "source": [
    "# !pip install torchviz"
   ]
  },
  {
   "cell_type": "code",
   "execution_count": 64,
   "id": "0abb49a1",
   "metadata": {},
   "outputs": [],
   "source": [
    "# Visualize the computation graph\n",
    "try:\n",
    "    from torchviz import make_dot\n",
    "    import shutil\n",
    "    if shutil.which('dot') is not None:  # Check if graphviz is installed\n",
    "        make_dot(z, {'x': x, 'y': y, \"z\":z}).render(\"computation_graph\", format=\"png\")\n",
    "    else:\n",
    "        print(\"graphviz not installed - skipping visualization\")\n",
    "except ImportError:\n",
    "    print(\"torchviz not installed - skipping visualization\")"
   ]
  },
  {
   "cell_type": "markdown",
   "id": "87081c2d",
   "metadata": {},
   "source": [
    "### Higher-Order Derivatives\n",
    "\n",
    "PyTorch can compute higher-Order derivatives:"
   ]
  },
  {
   "cell_type": "code",
   "execution_count": 65,
   "id": "dd1c3dfc",
   "metadata": {},
   "outputs": [
    {
     "name": "stdout",
     "output_type": "stream",
     "text": [
      "First derivative at x=2: 27.0\n",
      "Second derivative at x=2: 18.0\n"
     ]
    }
   ],
   "source": [
    "# Create a tensor\n",
    "x = torch.tensor(3.0, requires_grad=True)\n",
    "\n",
    "# First derivative of x^3\n",
    "y = x**3\n",
    "first_derivative = torch.autograd.grad(y, x, create_graph=True)[0]\n",
    "print(f\"First derivative at x=2: {first_derivative}\")\n",
    "\n",
    "# Second derivative\n",
    "second_derivative = torch.autograd.grad(first_derivative, x)[0]\n",
    "print(f\"Second derivative at x=2: {second_derivative}\")"
   ]
  },
  {
   "cell_type": "markdown",
   "id": "e839459c",
   "metadata": {},
   "source": [
    "### Common Autograd Pitfalls and Solutions"
   ]
  },
  {
   "cell_type": "code",
   "execution_count": 66,
   "id": "a5410b8f",
   "metadata": {},
   "outputs": [
    {
     "name": "stdout",
     "output_type": "stream",
     "text": [
      "Error with in-place operation: a leaf Variable that requires grad is being used in an in-place operation.\n"
     ]
    }
   ],
   "source": [
    "# 1. In-place operations with autograd\n",
    "x = torch.tensor([1.0, 2.0], requires_grad=True)\n",
    "y = torch.tensor([3.0, 4.0], requires_grad=True)\n",
    "\n",
    "# This will raise an error\n",
    "try:\n",
    "    x.add_(y)  # In-place addition\n",
    "    # This is essentially the same as x = x + y, creating a loop in the computation graph\n",
    "except RuntimeError as e:\n",
    "    print(\"Error with in-place operation:\", e)\n",
    "\n",
    "# Correct way\n",
    "z = x + y  # Create new tensor instead"
   ]
  },
  {
   "cell_type": "markdown",
   "id": "b6cef1c9",
   "metadata": {},
   "source": [
    "## Example of Linear Regression\n",
    "\n",
    "Let us demonstrate all the concepts we have learned so far by implementing a simple linear regression model. Our goal is to find the parameters of a line (y = wx + b) that best fits our data. We generate synthetic data following this pattern with added noise:"
   ]
  },
  {
   "cell_type": "code",
   "execution_count": 69,
   "id": "0c396a1e",
   "metadata": {},
   "outputs": [],
   "source": [
    "X = torch.linspace(-5, 5, 100).reshape(-1, 1)\n",
    "y = 2 * X + 1 + torch.randn_like(X) * 0.5  # y = 2x + 1 + noise"
   ]
  },
  {
   "cell_type": "markdown",
   "id": "0b2fd53d",
   "metadata": {},
   "source": [
    "We will use gradient descent to find the best parameters for our model, which updates the parameter in the direction of the negative gradient. Namely,\n",
    "\n",
    "$$\n",
    "\\theta_{new} = \\theta_{old} - \\eta \\nabla_{\\theta} L(\\theta)\n",
    "$$\n",
    "\n",
    "where $\\eta$ is the learning rate, and $\\nabla_{\\theta} L(\\theta)$ is the gradient of the loss function with respect to the parameters.\n",
    "\n",
    "We will start with random parameters and iteratively update them to minimize the loss.\n"
   ]
  },
  {
   "cell_type": "code",
   "execution_count": 34,
   "id": "2949bddc",
   "metadata": {},
   "outputs": [],
   "source": [
    "# Model parameters with gradient tracking\n",
    "w = torch.randn(1, requires_grad=True)\n",
    "b = torch.randn(1, requires_grad=True)\n",
    "# Training loop showing tensor operations\n",
    "learning_rate = 0.01\n",
    "for epoch in range(100):\n",
    "    y_pred = w * X + b\n",
    "    loss = ((y_pred - y) ** 2).mean()\n",
    "    loss.backward()\n",
    "\n",
    "    with torch.no_grad():\n",
    "        w -= learning_rate * w.grad\n",
    "        b -= learning_rate * b.grad\n",
    "        w.grad.zero_()\n",
    "        b.grad.zero_()"
   ]
  },
  {
   "cell_type": "code",
   "execution_count": 70,
   "id": "31b8c376",
   "metadata": {},
   "outputs": [
    {
     "data": {
      "image/png": "[encoded data removed]",
      "text/plain": [
       "<Figure size 1000x600 with 1 Axes>"
      ]
     },
     "metadata": {},
     "output_type": "display_data"
    }
   ],
   "source": [
    "# Plot the results\n",
    "import matplotlib.pyplot as plt\n",
    "\n",
    "plt.figure(figsize=(10, 6))\n",
    "plt.scatter(X.detach().numpy(), y.detach().numpy(), label='Data')\n",
    "plt.plot(X.detach().numpy(), (w * X + b).detach().numpy(), 'r', label=f'Fitted line: y = {w.item():.2f}x + {b.item():.2f}')\n",
    "plt.xlabel('X')\n",
    "plt.ylabel('y')\n",
    "plt.title('Linear Regression Results')\n",
    "plt.legend()\n",
    "plt.grid(True)\n",
    "plt.show()\n"
   ]
  },
  {
   "cell_type": "markdown",
   "id": "376f0480",
   "metadata": {},
   "source": [
    "This code showcases key PyTorch concepts for efficient tensor operations and gradient handling. Tensor operations are vectorized for speed, while `requires_grad=True` enables automatic differentiation. The `with torch.no_grad()` context prevents unnecessary gradient tracking during updates, in-place operations minimize memory usage, and explicit gradient zeroing ensures correct parameter updates across training iterations.\n",
    "\n",
    "# Neural Network Basics\n",
    "\n",
    "PyTorch offers a high-level interface for building neural networks, which is built on top of the tensor operations we have learned so far. We will learn how to build neural networks using this interface.\n",
    "\n",
    "## Linear Layer\n",
    "\n",
    "A linear layer (also called a fully connected or dense layer) performs the operation: y = Wx + b"
   ]
  },
  {
   "cell_type": "code",
   "execution_count": 71,
   "id": "f39372bd",
   "metadata": {},
   "outputs": [
    {
     "name": "stdout",
     "output_type": "stream",
     "text": [
      "Input shape: torch.Size([2, 2])\n",
      "Output shape: torch.Size([2, 3])\n",
      "\n",
      "Layer weights shape: torch.Size([3, 2])\n",
      "Layer bias shape: torch.Size([3])\n"
     ]
    }
   ],
   "source": [
    "import torch.nn as nn\n",
    "\n",
    "# Create a linear layer\n",
    "linear = nn.Linear(in_features=2, out_features=3)\n",
    "\n",
    "# Input tensor\n",
    "x = torch.tensor([[1.0, 2.0], [3.0, 4.0]])\n",
    "\n",
    "# Forward pass\n",
    "y = linear(x)\n",
    "\n",
    "print(\"Input shape:\", x.shape)\n",
    "print(\"Output shape:\", y.shape)\n",
    "print(\"\\nLayer weights shape:\", linear.weight.shape)\n",
    "print(\"Layer bias shape:\", linear.bias.shape)"
   ]
  },
  {
   "cell_type": "markdown",
   "id": "0d462b24",
   "metadata": {},
   "source": [
    "## Activation Functions\n",
    "\n",
    "Activation functions introduce non-linearity into our networks. Let's visualize common activation functions:"
   ]
  },
  {
   "cell_type": "code",
   "execution_count": 37,
   "id": "81e2971d",
   "metadata": {},
   "outputs": [
    {
     "data": {
      "image/png": "[encoded data removed]",
      "text/plain": [
       "<Figure size 1500x500 with 3 Axes>"
      ]
     },
     "metadata": {},
     "output_type": "display_data"
    }
   ],
   "source": [
    "# Create input values\n",
    "x = torch.linspace(-5, 5, 100)\n",
    "\n",
    "# Common activation functions\n",
    "relu = nn.ReLU()\n",
    "sigmoid = nn.Sigmoid()\n",
    "tanh = nn.Tanh()\n",
    "\n",
    "# Plot activation functions\n",
    "plt.figure(figsize=(15, 5))\n",
    "\n",
    "plt.subplot(1, 3, 1)\n",
    "plt.plot(x.numpy(), relu(x).numpy())\n",
    "plt.title('ReLU')\n",
    "plt.grid(True)\n",
    "\n",
    "plt.subplot(1, 3, 2)\n",
    "plt.plot(x.numpy(), sigmoid(x).numpy())\n",
    "plt.title('Sigmoid')\n",
    "plt.grid(True)\n",
    "\n",
    "plt.subplot(1, 3, 3)\n",
    "plt.plot(x.numpy(), tanh(x).numpy())\n",
    "plt.title('Tanh')\n",
    "plt.grid(True)\n",
    "\n",
    "plt.show()"
   ]
  },
  {
   "cell_type": "markdown",
   "id": "69c3e4ec",
   "metadata": {},
   "source": [
    "## `nn.Module`\n",
    "\n",
    "`nn.Module` is the foundational building block in PyTorch's neural network architecture. It automatically manages parameters, enables modular design, and handles training mechanics. When creating a neural network class that inherits from `nn.Module`, you must initialize the parent class, define layers as attributes, and implement a `forward` method that specifies how data flows through your network.\n",
    "\n",
    "Here's a simple neural network implementation that performs binary classification on points in a 2D space:"
   ]
  },
  {
   "cell_type": "code",
   "execution_count": 72,
   "id": "93b7992e",
   "metadata": {},
   "outputs": [],
   "source": [
    "from torch import nn\n",
    "\n",
    "\n",
    "class SimpleNN(nn.Module):\n",
    "    def __init__(self):\n",
    "        super(SimpleNN, self).__init__()\n",
    "        self.layer1 = nn.Linear(2, 8)    # Input -> Hidden\n",
    "        self.activation1 = nn.ReLU()\n",
    "        self.layer2 = nn.Linear(8, 1)    # Hidden -> Output\n",
    "        self.activation2 = nn.Sigmoid()   # For binary classification\n",
    "\n",
    "    def forward(self, x):\n",
    "        x = self.layer1(x)\n",
    "        x = self.activation1(x)\n",
    "        x = self.layer2(x)\n",
    "        x = self.activation2(x)\n",
    "        return x"
   ]
  },
  {
   "cell_type": "code",
   "execution_count": 73,
   "id": "59f95a8d",
   "metadata": {},
   "outputs": [
    {
     "data": {
      "text/plain": [
       "SimpleNN(\n",
       "  (layer1): Linear(in_features=2, out_features=8, bias=True)\n",
       "  (activation1): ReLU()\n",
       "  (layer2): Linear(in_features=8, out_features=1, bias=True)\n",
       "  (activation2): Sigmoid()\n",
       ")"
      ]
     },
     "execution_count": 73,
     "metadata": {},
     "output_type": "execute_result"
    }
   ],
   "source": [
    "simple_nn = SimpleNN()\n",
    "simple_nn"
   ]
  },
  {
   "cell_type": "code",
   "execution_count": 75,
   "id": "78e6f467",
   "metadata": {},
   "outputs": [
    {
     "data": {
      "text/plain": [
       "tensor([[0.6329]], grad_fn=<SigmoidBackward0>)"
      ]
     },
     "execution_count": 75,
     "metadata": {},
     "output_type": "execute_result"
    }
   ],
   "source": [
    "simple_nn(torch.tensor([[1.0, 2.0]]))"
   ]
  },
  {
   "cell_type": "markdown",
   "id": "34ed00ec",
   "metadata": {},
   "source": [
    "The network processes input through two linear layers with activations. The first layer transforms 2D input into 8 features using ReLU activation, while the second layer produces a single output transformed by Sigmoid for binary classification. This structure can learn to classify points based on their position in 2D space.\n",
    "\n",
    "Let us train this neural network by using the following data. We will generate a circular pattern dataset and train the network to classify the points as inside or outside the circle."
   ]
  },
  {
   "cell_type": "code",
   "execution_count": 76,
   "id": "1276e440",
   "metadata": {},
   "outputs": [],
   "source": [
    "# Generate circular pattern dataset\n",
    "X = torch.randn(1000, 2)\n",
    "y = ((X[:, 0]**2 + X[:, 1]**2) < 2).float().reshape(-1, 1)"
   ]
  },
  {
   "cell_type": "markdown",
   "id": "a3a092b8",
   "metadata": {},
   "source": [
    "Using the `SimpleNN` class we defined earlier, we can now train the network."
   ]
  },
  {
   "cell_type": "code",
   "execution_count": 77,
   "id": "f060ee72",
   "metadata": {},
   "outputs": [],
   "source": [
    "# Setup training\n",
    "model = SimpleNN()\n",
    "criterion = nn.BCELoss() # We will learn more about loss functions later\n",
    "optimizer = torch.optim.Adam(model.parameters(), lr=0.01) # We will learn more about optimizers later\n",
    "\n",
    "# Training loop\n",
    "for epoch in range(100):\n",
    "    outputs = model(X)\n",
    "    loss = criterion(outputs, y)\n",
    "    optimizer.zero_grad()\n",
    "    loss.backward()\n",
    "    optimizer.step()"
   ]
  },
  {
   "cell_type": "markdown",
   "id": "d6124cac",
   "metadata": {},
   "source": [
    "Let us visualize the decision boundary of the network."
   ]
  },
  {
   "cell_type": "code",
   "execution_count": 78,
   "id": "17f677f5",
   "metadata": {},
   "outputs": [
    {
     "data": {
      "image/png": "[encoded data removed]",
      "text/plain": [
       "<Figure size 1000x800 with 1 Axes>"
      ]
     },
     "metadata": {},
     "output_type": "display_data"
    }
   ],
   "source": [
    "# Create a mesh grid of points\n",
    "x_min, x_max = X[:, 0].min() - 0.5, X[:, 0].max() + 0.5\n",
    "y_min, y_max = X[:, 1].min() - 0.5, X[:, 1].max() + 0.5\n",
    "xx, yy = np.meshgrid(np.linspace(x_min, x_max, 100),\n",
    "                    np.linspace(y_min, y_max, 100))\n",
    "\n",
    "# Convert grid points to PyTorch tensor\n",
    "grid_points = torch.FloatTensor(np.c_[xx.ravel(), yy.ravel()])\n",
    "\n",
    "# Get predictions\n",
    "model.eval()  # Set model to evaluation mode\n",
    "with torch.no_grad():\n",
    "    Z = model(grid_points)\n",
    "    Z = Z.reshape(xx.shape)\n",
    "\n",
    "# Create the plot\n",
    "plt.figure(figsize=(10, 8))\n",
    "\n",
    "# Plot decision boundary\n",
    "plt.contourf(xx, yy, Z.numpy(), alpha=0.4, cmap='RdYlBu')\n",
    "\n",
    "# Plot training points\n",
    "plt.scatter(X[:, 0][y.squeeze() == 1], X[:, 1][y.squeeze() == 1],\n",
    "           c='blue', label='Class 1', alpha=0.7)\n",
    "plt.scatter(X[:, 0][y.squeeze() == 0], X[:, 1][y.squeeze() == 0],\n",
    "           c='red', label='Class 0', alpha=0.7)\n",
    "\n",
    "plt.xlabel('Feature 1')\n",
    "plt.ylabel('Feature 2')\n",
    "plt.title('Neural Network Decision Boundary')\n",
    "plt.legend()\n",
    "plt.show()"
   ]
  },
  {
   "cell_type": "markdown",
   "id": "49464139",
   "metadata": {},
   "source": [
    "## Loss Functions\n",
    "\n",
    "When training a neural network, we need to measure how well the network is performing. We do this by using a loss function. The loss function takes the predicted output of the network and the true output, and returns a single number that represents the error of the network. PyTorch provides many loss functions. Here are some common ones:\n",
    "\n",
    "- `nn.MSELoss`: [Mean Squared Error](https://pytorch.org/docs/stable/generated/torch.nn.MSELoss.html)\n",
    "- `nn.CrossEntropyLoss`: [Cross Entropy](https://pytorch.org/docs/stable/generated/torch.nn.CrossEntropyLoss.html)\n",
    "- `nn.BCELoss`: [Binary Cross Entropy](https://pytorch.org/docs/stable/generated/torch.nn.BCELoss.html)\n",
    "\n",
    "The choice of loss function depends on the type of problem you are trying to solve. For example, if you are doing classification, you will use a loss function that is appropriate for classification. If you are doing regression, you will use a loss function that is appropriate for regression.\n",
    "\n",
    "## Optimizers\n",
    "\n",
    "Optimizers are used to update the parameters of the network. PyTorch provides many optimizers. Here are some common ones:\n",
    "\n",
    "- `torch.optim.SGD`: [Stochastic Gradient Descent](https://pytorch.org/docs/stable/generated/torch.optim.SGD.html)\n",
    "- `torch.optim.Adam`: [Adaptive Moment Estimation](https://pytorch.org/docs/stable/generated/torch.optim.Adam.html)\n",
    "- `torch.optim.AdamW`: [Adam with Weight Decay](https://pytorch.org/docs/stable/generated/torch.optim.AdamW.html)\n",
    "\n",
    "An optimizer takes the parameters of the network and updates them. For example, the Adam optimizer updates the parameters by adding the gradient of the loss function with respect to the parameters."
   ]
  },
  {
   "cell_type": "code",
   "execution_count": 44,
   "id": "fde69d30",
   "metadata": {},
   "outputs": [],
   "source": [
    "model = SimpleNN()\n",
    "optimizer = torch.optim.Adam(model.parameters(), lr=0.01) # lr is the learning rate\n",
    "optimizer.step() # This updates the parameters"
   ]
  },
  {
   "cell_type": "markdown",
   "id": "fb4b09a8",
   "metadata": {},
   "source": [
    "# Data pipeline\n",
    "\n",
    "Data pipeline is the process of loading, preprocessing, and splitting data into training, validation, and test sets.\n",
    "The efficiency of the data pipeline is crucial for the performance of the network.\n",
    "PyTorch provides a high-level interface for creating a data pipeline using the `Dataset` and `DataLoader` classes.\n",
    "\n",
    "## Dataset\n",
    "\n",
    "A `Dataset` is an abstract class that represents a dataset. It is the base class for all datasets in PyTorch. A convenient way to create a dataset is to use the `TensorDataset` class, which is a subclass of `Dataset`."
   ]
  },
  {
   "cell_type": "code",
   "execution_count": 45,
   "id": "27ef17de",
   "metadata": {},
   "outputs": [],
   "source": [
    "from torch.utils.data import TensorDataset\n",
    "\n",
    "# Example usage\n",
    "features = torch.randn(1000, 3)  # 1000 houses with 3 features each\n",
    "prices = torch.randn(1000, 1)    # corresponding prices\n",
    "\n",
    "dataset = TensorDataset(features, prices)"
   ]
  },
  {
   "cell_type": "markdown",
   "id": "3f77a3e8",
   "metadata": {},
   "source": [
    "where `features` and `prices` are PyTorch tensors. The data can be retrieved by"
   ]
  },
  {
   "cell_type": "code",
   "execution_count": 81,
   "id": "07ee3887",
   "metadata": {},
   "outputs": [
    {
     "name": "stdout",
     "output_type": "stream",
     "text": [
      "(tensor([[1.4044e+00, 2.3094e-01, 2.4417e-01],\n",
      "        [4.1379e-01, 6.4808e-04, 1.1189e+00]]), tensor([[1.1753],\n",
      "        [0.0189]]))\n"
     ]
    }
   ],
   "source": [
    "print(dataset[1:3])"
   ]
  },
  {
   "cell_type": "markdown",
   "id": "e262c8cb",
   "metadata": {},
   "source": [
    "You can also get the length of the dataset by"
   ]
  },
  {
   "cell_type": "code",
   "execution_count": 83,
   "id": "2a588033",
   "metadata": {},
   "outputs": [
    {
     "name": "stdout",
     "output_type": "stream",
     "text": [
      "1000\n"
     ]
    }
   ],
   "source": [
    "print(len(dataset))"
   ]
  },
  {
   "cell_type": "markdown",
   "id": "e91464f5",
   "metadata": {},
   "source": [
    "When working with complex datasets, you might want to create a custom dataset.\n",
    "\n",
    "This can be done by subclassing the `Dataset` class."
   ]
  },
  {
   "cell_type": "code",
   "execution_count": 84,
   "id": "d3cc5a60",
   "metadata": {},
   "outputs": [],
   "source": [
    "from torch.utils.data import Dataset\n",
    "import torch\n",
    "\n",
    "class HousingDataset(Dataset):\n",
    "    def __init__(self, features, prices):\n",
    "        self.features = features\n",
    "        self.prices = prices\n",
    "\n",
    "    def __len__(self):\n",
    "        return len(self.features)\n",
    "\n",
    "    def __getitem__(self, idx):\n",
    "        return self.features[idx], self.prices[idx]\n",
    "\n",
    "dataset = HousingDataset(features, prices)"
   ]
  },
  {
   "cell_type": "markdown",
   "id": "153cbfc3",
   "metadata": {},
   "source": [
    "- The `__init__` function initializes the dataset by storing the input features and prices. Think of this as setting up your data container when you first create it.\n",
    "- The `__len__` function returns the total number of samples in your dataset - PyTorch needs this to know how many samples are available.\n",
    "- The `__getitem__` function is called when you request a specific data point using an index. It returns a tuple of (feature, price) for the house at that index."
   ]
  },
  {
   "cell_type": "markdown",
   "id": "f5815b32",
   "metadata": {},
   "source": [
    "## DataLoader\n",
    "\n",
    "The DataLoader class comes with several important parameters that control how data is loaded during training:"
   ]
  },
  {
   "cell_type": "code",
   "execution_count": 86,
   "id": "28284a48",
   "metadata": {},
   "outputs": [
    {
     "name": "stdout",
     "output_type": "stream",
     "text": [
      "Batch 0: Features shape torch.Size([300, 3])\n",
      "Batch 1: Features shape torch.Size([300, 3])\n",
      "Batch 2: Features shape torch.Size([300, 3])\n"
     ]
    }
   ],
   "source": [
    "from torch.utils.data import DataLoader\n",
    "\n",
    "# Create data loader with detailed parameters\n",
    "batch_size = 300\n",
    "train_loader = DataLoader(\n",
    "    dataset=dataset,          # your dataset instance\n",
    "    batch_size=batch_size,    # how many samples per batch\n",
    "    shuffle=True,             # randomly shuffle data\n",
    "    drop_last=True,          # keep incomplete final batch\n",
    "    pin_memory=True          # faster data transfer to GPU\n",
    ")\n",
    "\n",
    "# Example of accessing batches\n",
    "for batch_idx, (batch_features, batch_prices) in enumerate(train_loader):\n",
    "    # batch_idx gives you the batch number\n",
    "    # batch_features and batch_prices are your data\n",
    "    print(f\"Batch {batch_idx}: Features shape {batch_features.shape}\")"
   ]
  },
  {
   "cell_type": "markdown",
   "id": "0e3092d6",
   "metadata": {},
   "source": [
    "The DataLoader's parameters serve specific purposes: `batch_size` determines how many samples are processed at once, `shuffle` randomizes data order each epoch to prevent learning order-dependent patterns, `num_workers` enables parallel data loading for better performance, `drop_last` decides whether to keep partial batches at the end, and `pin_memory` optimizes data transfer to GPU if you're using one. When you iterate over the DataLoader, it automatically handles creating these batches and loading them efficiently.\n",
    "\n",
    "## Example of Moon Dataset\n",
    "\n",
    "First, let's create a proper data pipeline using PyTorch's dataset and dataloader classes:"
   ]
  },
  {
   "cell_type": "code",
   "execution_count": 87,
   "id": "f1a22851",
   "metadata": {},
   "outputs": [],
   "source": [
    "import torch\n",
    "from torch.utils.data import Dataset, DataLoader\n",
    "from sklearn.datasets import make_moons\n",
    "import numpy as np\n",
    "\n",
    "# Create a custom dataset\n",
    "class MoonDataset(Dataset):\n",
    "    def __init__(self, n_samples=1000):\n",
    "        # Generate the moon dataset\n",
    "        X, y = make_moons(n_samples=n_samples, noise=0.1, random_state=42)\n",
    "        self.X = torch.FloatTensor(X)\n",
    "        self.y = torch.FloatTensor(y).reshape(-1, 1)\n",
    "\n",
    "    def __len__(self):\n",
    "        return len(self.X)\n",
    "\n",
    "    def __getitem__(self, idx):\n",
    "        return self.X[idx], self.y[idx]\n",
    "\n",
    "# Create train and validation datasets\n",
    "train_dataset = MoonDataset(n_samples=1000)\n",
    "val_dataset = MoonDataset(n_samples=200)\n",
    "\n",
    "# Create data loaders\n",
    "train_loader = DataLoader(train_dataset, batch_size=32, shuffle=True)\n",
    "val_loader = DataLoader(val_dataset, batch_size=32, shuffle=False)"
   ]
  },
  {
   "cell_type": "markdown",
   "id": "54daf0ca",
   "metadata": {},
   "source": [
    "We will now implement a simple neural network to classify the moon dataset."
   ]
  },
  {
   "cell_type": "code",
   "execution_count": 88,
   "id": "f645362e",
   "metadata": {},
   "outputs": [],
   "source": [
    "import torch.nn as nn\n",
    "import torch.optim as optim\n",
    "from tqdm import tqdm\n",
    "import matplotlib.pyplot as plt\n",
    "\n",
    "class BinaryClassifier(nn.Module):\n",
    "    def __init__(self):\n",
    "        super().__init__()\n",
    "        self.lin_1 = nn.Linear(2, 16)\n",
    "        self.relu_1 = nn.ReLU()\n",
    "        self.lin_2 = nn.Linear(16, 16)\n",
    "        self.relu_2 = nn.ReLU()\n",
    "        self.lin_3 = nn.Linear(16, 1)\n",
    "        self.sigmoid = nn.Sigmoid()\n",
    "\n",
    "    def forward(self, x):\n",
    "        x = self.lin_1(x)\n",
    "        x = self.relu_1(x)\n",
    "        x = self.lin_2(x)\n",
    "        x = self.relu_2(x)\n",
    "        x = self.lin_3(x)\n",
    "        x = self.sigmoid(x)\n",
    "        return x\n",
    "\n",
    "model = BinaryClassifier()"
   ]
  },
  {
   "cell_type": "code",
   "execution_count": 89,
   "id": "fe2eb87a",
   "metadata": {},
   "outputs": [
    {
     "name": "stdout",
     "output_type": "stream",
     "text": [
      "Using device: cpu\n"
     ]
    },
    {
     "data": {
      "image/png": "[encoded data removed]",
      "text/plain": [
       "<Figure size 1000x500 with 1 Axes>"
      ]
     },
     "metadata": {},
     "output_type": "display_data"
    }
   ],
   "source": [
    "\n",
    "def train_model(model, train_loader, val_loader, criterion, optimizer,\n",
    "                n_epochs=100, device='cpu'):\n",
    "    # Training history\n",
    "    train_losses = []\n",
    "    val_losses = []\n",
    "\n",
    "    # Transfer model to device (CPU/GPU)\n",
    "    model = model.to(device)\n",
    "\n",
    "    for epoch in range(n_epochs):\n",
    "        # Training phase\n",
    "        train_loss = 0.0\n",
    "        for X_batch, y_batch in train_loader:\n",
    "            # Move batch to device\n",
    "            X_batch = X_batch.to(device)\n",
    "            y_batch = y_batch.to(device)\n",
    "\n",
    "            # Forward pass\n",
    "            outputs = model(X_batch)\n",
    "            loss = criterion(outputs, y_batch)\n",
    "\n",
    "            # Backward pass and optimization\n",
    "            optimizer.zero_grad()\n",
    "            loss.backward()\n",
    "            optimizer.step()\n",
    "\n",
    "            train_loss += loss.item()\n",
    "\n",
    "        # Validation phase\n",
    "        val_loss = 0.0\n",
    "        with torch.no_grad():  # No need to track gradients\n",
    "            for X_batch, y_batch in val_loader:\n",
    "                X_batch = X_batch.to(device)\n",
    "                y_batch = y_batch.to(device)\n",
    "\n",
    "                outputs = model(X_batch)\n",
    "                loss = criterion(outputs, y_batch)\n",
    "                val_loss += loss.item()\n",
    "\n",
    "        # Record losses\n",
    "        train_losses.append(train_loss / len(train_loader))\n",
    "        val_losses.append(val_loss / len(val_loader))\n",
    "\n",
    "    return train_losses, val_losses\n",
    "\n",
    "# Initialize model, criterion, and optimizer\n",
    "criterion = nn.BCELoss()\n",
    "optimizer = optim.Adam(model.parameters(), lr=0.01)\n",
    "\n",
    "# Set device\n",
    "device = torch.device('cuda' if torch.cuda.is_available() else 'cpu')\n",
    "print(f'Using device: {device}')\n",
    "\n",
    "# Train the model\n",
    "train_losses, val_losses = train_model(\n",
    "    model, train_loader, val_loader, criterion, optimizer,\n",
    "    n_epochs=100, device=device\n",
    ")\n",
    "\n",
    "# Plot training history\n",
    "plt.figure(figsize=(10, 5))\n",
    "plt.plot(train_losses, label='Training Loss')\n",
    "plt.plot(val_losses, label='Validation Loss')\n",
    "plt.xlabel('Epoch')\n",
    "plt.ylabel('Loss')\n",
    "plt.title('Training History')\n",
    "plt.legend()\n",
    "plt.grid(True)\n",
    "plt.show()"
   ]
  },
  {
   "cell_type": "markdown",
   "id": "431455db",
   "metadata": {},
   "source": [
    "Evaluate the model by plotting the decision boundary."
   ]
  },
  {
   "cell_type": "code",
   "execution_count": 90,
   "id": "13fc83b5",
   "metadata": {},
   "outputs": [
    {
     "data": {
      "image/png": "[encoded data removed]",
      "text/plain": [
       "<Figure size 1000x800 with 2 Axes>"
      ]
     },
     "metadata": {},
     "output_type": "display_data"
    }
   ],
   "source": [
    "def plot_decision_boundary(model, X, y):\n",
    "    model.eval()\n",
    "\n",
    "    # Create a mesh grid\n",
    "    x_min, x_max = X[:, 0].min() - 0.5, X[:, 0].max() + 0.5\n",
    "    y_min, y_max = X[:, 1].min() - 0.5, X[:, 1].max() + 0.5\n",
    "    xx, yy = np.meshgrid(np.linspace(x_min, x_max, 100),\n",
    "                        np.linspace(y_min, y_max, 100))\n",
    "\n",
    "    # Make predictions\n",
    "    with torch.no_grad():\n",
    "        Z = model(torch.FloatTensor(np.c_[xx.ravel(), yy.ravel()]))\n",
    "        Z = Z.reshape(xx.shape)\n",
    "\n",
    "    # Plot\n",
    "    plt.figure(figsize=(10, 8))\n",
    "    plt.contourf(xx, yy, Z.numpy(), alpha=0.4)\n",
    "    plt.scatter(X[:, 0], X[:, 1], c=y, cmap='viridis')\n",
    "    plt.title('Decision Boundary')\n",
    "    plt.xlabel('Feature 1')\n",
    "    plt.ylabel('Feature 2')\n",
    "    plt.colorbar()\n",
    "    plt.show()\n",
    "\n",
    "# Visualize the decision boundary\n",
    "X, y = train_dataset.X, train_dataset.y\n",
    "plot_decision_boundary(model, X, y)"
   ]
  },
  {
   "cell_type": "markdown",
   "id": "5f3471d1",
   "metadata": {},
   "source": [
    "# PyTorch Lightning\n",
    "\n",
    "PyTorch Lightning is a high-level library for PyTorch that provides a more user-friendly interface for training and evaluating models. It provides a number of features that make it easier to train and evaluate models, such as automatic mixed precision, gradient accumulation, and early stopping.\n",
    "\n",
    "To use PyTorch Lightning, you need to install it. (Uncomment the following line to install it.)"
   ]
  },
  {
   "cell_type": "code",
   "execution_count": 54,
   "id": "c4b53fda",
   "metadata": {},
   "outputs": [],
   "source": [
    "# !pip install pytorch-lightning"
   ]
  },
  {
   "cell_type": "markdown",
   "id": "ad82de06",
   "metadata": {},
   "source": [
    "Now, let's re-implement the previous example using PyTorch Lightning.\n",
    "With PyTorch Lightning, we will define a model by subclassing the `LightningModule` class, instead of `nn.Module`. This module will contain the model definition (`__init__` and `forward`), the training loop (`training_step`), the validation loop (`validation_step`), and the optimizer (`configure_optimizers`).\n"
   ]
  },
  {
   "cell_type": "code",
   "execution_count": 91,
   "id": "5767be1f",
   "metadata": {},
   "outputs": [],
   "source": [
    "import pytorch_lightning as pl\n",
    "from pytorch_lightning import LightningModule, Trainer\n",
    "\n",
    "class BinaryClassifier(LightningModule):\n",
    "    def __init__(self):\n",
    "        super().__init__()\n",
    "        self.lin_1 = nn.Linear(2, 16)\n",
    "        self.relu_1 = nn.ReLU()\n",
    "        self.lin_2 = nn.Linear(16, 16)\n",
    "        self.relu_2 = nn.ReLU()\n",
    "        self.lin_3 = nn.Linear(16, 1)\n",
    "        self.sigmoid = nn.Sigmoid()\n",
    "\n",
    "    def forward(self, x):\n",
    "        x = self.lin_1(x)\n",
    "        x = self.relu_1(x)\n",
    "        x = self.lin_2(x)\n",
    "        x = self.relu_2(x)\n",
    "        x = self.lin_3(x)\n",
    "        x = self.sigmoid(x)\n",
    "        return x\n",
    "\n",
    "    def training_step(self, batch, batch_idx):\n",
    "        X, y = batch\n",
    "        y_pred = self(X)\n",
    "        loss = nn.BCELoss()(y_pred, y)\n",
    "        self.log('train_loss', loss)\n",
    "        return loss\n",
    "\n",
    "    def validation_step(self, batch, batch_idx):\n",
    "        X, y = batch\n",
    "        y_pred = self(X)\n",
    "        loss = nn.BCELoss()(y_pred, y)\n",
    "        self.log('val_loss', loss)\n",
    "        return loss\n",
    "\n",
    "    def configure_optimizers(self):\n",
    "        return optim.Adam(self.parameters(), lr=0.01)"
   ]
  },
  {
   "cell_type": "markdown",
   "id": "af1494d8",
   "metadata": {},
   "source": [
    "A key feature of PyTorch Lightning is that it provides a `Trainer` class that handles the training loop."
   ]
  },
  {
   "cell_type": "code",
   "execution_count": 92,
   "id": "5d072b33",
   "metadata": {},
   "outputs": [
    {
     "name": "stderr",
     "output_type": "stream",
     "text": [
      "GPU available: True (mps), used: True\n",
      "TPU available: False, using: 0 TPU cores\n",
      "HPU available: False, using: 0 HPUs\n",
      "\n",
      "  | Name    | Type    | Params | Mode \n",
      "--------------------------------------------\n",
      "0 | lin_1   | Linear  | 48     | train\n",
      "1 | relu_1  | ReLU    | 0      | train\n",
      "2 | lin_2   | Linear  | 272    | train\n",
      "3 | relu_2  | ReLU    | 0      | train\n",
      "4 | lin_3   | Linear  | 17     | train\n",
      "5 | sigmoid | Sigmoid | 0      | train\n",
      "--------------------------------------------\n",
      "337       Trainable params\n",
      "0         Non-trainable params\n",
      "337       Total params\n",
      "0.001     Total estimated model params size (MB)\n",
      "6         Modules in train mode\n",
      "0         Modules in eval mode\n"
     ]
    },
    {
     "data": {
      "application/vnd.jupyter.widget-view+json": {
       "model_id": "a874b63d35714ba3b52eea12357dd892",
       "version_major": 2,
       "version_minor": 0
      },
      "text/plain": [
       "Sanity Checking: |          | 0/? [00:00<?, ?it/s]"
      ]
     },
     "metadata": {},
     "output_type": "display_data"
    },
    {
     "name": "stderr",
     "output_type": "stream",
     "text": [
      "/Users/skojaku-admin/miniforge3/envs/advnetsci/lib/python3.11/site-packages/pytorch_lightning/trainer/connectors/data_connector.py:425: The 'val_dataloader' does not have many workers which may be a bottleneck. Consider increasing the value of the `num_workers` argument` to `num_workers=9` in the `DataLoader` to improve performance.\n",
      "/Users/skojaku-admin/miniforge3/envs/advnetsci/lib/python3.11/site-packages/pytorch_lightning/trainer/connectors/data_connector.py:425: The 'train_dataloader' does not have many workers which may be a bottleneck. Consider increasing the value of the `num_workers` argument` to `num_workers=9` in the `DataLoader` to improve performance.\n",
      "/Users/skojaku-admin/miniforge3/envs/advnetsci/lib/python3.11/site-packages/pytorch_lightning/loops/fit_loop.py:310: The number of training batches (32) is smaller than the logging interval Trainer(log_every_n_steps=50). Set a lower value for log_every_n_steps if you want to see logs for the training epoch.\n"
     ]
    },
    {
     "data": {
      "application/vnd.jupyter.widget-view+json": {
       "model_id": "a3f02a1370a046f2a68e8347e00ba6c4",
       "version_major": 2,
       "version_minor": 0
      },
      "text/plain": [
       "Training: |          | 0/? [00:00<?, ?it/s]"
      ]
     },
     "metadata": {},
     "output_type": "display_data"
    },
    {
     "data": {
      "application/vnd.jupyter.widget-view+json": {
       "model_id": "c50c51d886c0411d88086bd7cb559c02",
       "version_major": 2,
       "version_minor": 0
      },
      "text/plain": [
       "Validation: |          | 0/? [00:00<?, ?it/s]"
      ]
     },
     "metadata": {},
     "output_type": "display_data"
    },
    {
     "data": {
      "application/vnd.jupyter.widget-view+json": {
       "model_id": "9385f0321afb43339e62ab30e3b6f9c1",
       "version_major": 2,
       "version_minor": 0
      },
      "text/plain": [
       "Validation: |          | 0/? [00:00<?, ?it/s]"
      ]
     },
     "metadata": {},
     "output_type": "display_data"
    },
    {
     "data": {
      "application/vnd.jupyter.widget-view+json": {
       "model_id": "221b91e76e5247df8c2151e34e32b4c4",
       "version_major": 2,
       "version_minor": 0
      },
      "text/plain": [
       "Validation: |          | 0/? [00:00<?, ?it/s]"
      ]
     },
     "metadata": {},
     "output_type": "display_data"
    },
    {
     "data": {
      "application/vnd.jupyter.widget-view+json": {
       "model_id": "ed11d8c9ba88485782e1a6592055bdb8",
       "version_major": 2,
       "version_minor": 0
      },
      "text/plain": [
       "Validation: |          | 0/? [00:00<?, ?it/s]"
      ]
     },
     "metadata": {},
     "output_type": "display_data"
    },
    {
     "data": {
      "application/vnd.jupyter.widget-view+json": {
       "model_id": "672bd8bcd1754423a8e804231d364871",
       "version_major": 2,
       "version_minor": 0
      },
      "text/plain": [
       "Validation: |          | 0/? [00:00<?, ?it/s]"
      ]
     },
     "metadata": {},
     "output_type": "display_data"
    },
    {
     "data": {
      "application/vnd.jupyter.widget-view+json": {
       "model_id": "e8617abf61174c7697c634cb6d057342",
       "version_major": 2,
       "version_minor": 0
      },
      "text/plain": [
       "Validation: |          | 0/? [00:00<?, ?it/s]"
      ]
     },
     "metadata": {},
     "output_type": "display_data"
    },
    {
     "data": {
      "application/vnd.jupyter.widget-view+json": {
       "model_id": "a6c500726d744f03be24a61b9ce48ad8",
       "version_major": 2,
       "version_minor": 0
      },
      "text/plain": [
       "Validation: |          | 0/? [00:00<?, ?it/s]"
      ]
     },
     "metadata": {},
     "output_type": "display_data"
    },
    {
     "data": {
      "application/vnd.jupyter.widget-view+json": {
       "model_id": "363584796dd0499c8f1ee2cabf1400ba",
       "version_major": 2,
       "version_minor": 0
      },
      "text/plain": [
       "Validation: |          | 0/? [00:00<?, ?it/s]"
      ]
     },
     "metadata": {},
     "output_type": "display_data"
    },
    {
     "data": {
      "application/vnd.jupyter.widget-view+json": {
       "model_id": "0fc8baf9731747d08a2b9814de8cf13c",
       "version_major": 2,
       "version_minor": 0
      },
      "text/plain": [
       "Validation: |          | 0/? [00:00<?, ?it/s]"
      ]
     },
     "metadata": {},
     "output_type": "display_data"
    },
    {
     "data": {
      "application/vnd.jupyter.widget-view+json": {
       "model_id": "230627fb6124427e9cd8d7336246c6e5",
       "version_major": 2,
       "version_minor": 0
      },
      "text/plain": [
       "Validation: |          | 0/? [00:00<?, ?it/s]"
      ]
     },
     "metadata": {},
     "output_type": "display_data"
    },
    {
     "data": {
      "application/vnd.jupyter.widget-view+json": {
       "model_id": "6c45ad52513a4d36a4ac2640532a994c",
       "version_major": 2,
       "version_minor": 0
      },
      "text/plain": [
       "Validation: |          | 0/? [00:00<?, ?it/s]"
      ]
     },
     "metadata": {},
     "output_type": "display_data"
    },
    {
     "data": {
      "application/vnd.jupyter.widget-view+json": {
       "model_id": "adf8acc0a2154362a0cc23f7d2e5ca28",
       "version_major": 2,
       "version_minor": 0
      },
      "text/plain": [
       "Validation: |          | 0/? [00:00<?, ?it/s]"
      ]
     },
     "metadata": {},
     "output_type": "display_data"
    },
    {
     "data": {
      "application/vnd.jupyter.widget-view+json": {
       "model_id": "e8690fb69dc848d6a9b93b29f25fab28",
       "version_major": 2,
       "version_minor": 0
      },
      "text/plain": [
       "Validation: |          | 0/? [00:00<?, ?it/s]"
      ]
     },
     "metadata": {},
     "output_type": "display_data"
    },
    {
     "data": {
      "application/vnd.jupyter.widget-view+json": {
       "model_id": "cc4cdb0dabe746b0ae7e03bca615faaf",
       "version_major": 2,
       "version_minor": 0
      },
      "text/plain": [
       "Validation: |          | 0/? [00:00<?, ?it/s]"
      ]
     },
     "metadata": {},
     "output_type": "display_data"
    },
    {
     "data": {
      "application/vnd.jupyter.widget-view+json": {
       "model_id": "7e6a1ce87ca7486f9a255834d258f93f",
       "version_major": 2,
       "version_minor": 0
      },
      "text/plain": [
       "Validation: |          | 0/? [00:00<?, ?it/s]"
      ]
     },
     "metadata": {},
     "output_type": "display_data"
    },
    {
     "data": {
      "application/vnd.jupyter.widget-view+json": {
       "model_id": "75e0b34903fe483e8efddb24ea5408ff",
       "version_major": 2,
       "version_minor": 0
      },
      "text/plain": [
       "Validation: |          | 0/? [00:00<?, ?it/s]"
      ]
     },
     "metadata": {},
     "output_type": "display_data"
    },
    {
     "data": {
      "application/vnd.jupyter.widget-view+json": {
       "model_id": "e54e69f63d7448a08c8eaee34d9d036c",
       "version_major": 2,
       "version_minor": 0
      },
      "text/plain": [
       "Validation: |          | 0/? [00:00<?, ?it/s]"
      ]
     },
     "metadata": {},
     "output_type": "display_data"
    },
    {
     "data": {
      "application/vnd.jupyter.widget-view+json": {
       "model_id": "bd0e0a164fed45c489972de78a34c442",
       "version_major": 2,
       "version_minor": 0
      },
      "text/plain": [
       "Validation: |          | 0/? [00:00<?, ?it/s]"
      ]
     },
     "metadata": {},
     "output_type": "display_data"
    },
    {
     "data": {
      "application/vnd.jupyter.widget-view+json": {
       "model_id": "471ace6038924332aa38502d2ab3622b",
       "version_major": 2,
       "version_minor": 0
      },
      "text/plain": [
       "Validation: |          | 0/? [00:00<?, ?it/s]"
      ]
     },
     "metadata": {},
     "output_type": "display_data"
    },
    {
     "data": {
      "application/vnd.jupyter.widget-view+json": {
       "model_id": "bfa74a3aacd243889aa871a7e1d18987",
       "version_major": 2,
       "version_minor": 0
      },
      "text/plain": [
       "Validation: |          | 0/? [00:00<?, ?it/s]"
      ]
     },
     "metadata": {},
     "output_type": "display_data"
    },
    {
     "data": {
      "application/vnd.jupyter.widget-view+json": {
       "model_id": "651793619cc146adb223c2648724376e",
       "version_major": 2,
       "version_minor": 0
      },
      "text/plain": [
       "Validation: |          | 0/? [00:00<?, ?it/s]"
      ]
     },
     "metadata": {},
     "output_type": "display_data"
    },
    {
     "data": {
      "application/vnd.jupyter.widget-view+json": {
       "model_id": "b9c086d3709140039f5206171fdd195a",
       "version_major": 2,
       "version_minor": 0
      },
      "text/plain": [
       "Validation: |          | 0/? [00:00<?, ?it/s]"
      ]
     },
     "metadata": {},
     "output_type": "display_data"
    },
    {
     "data": {
      "application/vnd.jupyter.widget-view+json": {
       "model_id": "a78e22e7c7914189b457235d6e229cb3",
       "version_major": 2,
       "version_minor": 0
      },
      "text/plain": [
       "Validation: |          | 0/? [00:00<?, ?it/s]"
      ]
     },
     "metadata": {},
     "output_type": "display_data"
    },
    {
     "data": {
      "application/vnd.jupyter.widget-view+json": {
       "model_id": "6181f94169ab4dd5a56d8f137c1f4e9a",
       "version_major": 2,
       "version_minor": 0
      },
      "text/plain": [
       "Validation: |          | 0/? [00:00<?, ?it/s]"
      ]
     },
     "metadata": {},
     "output_type": "display_data"
    },
    {
     "data": {
      "application/vnd.jupyter.widget-view+json": {
       "model_id": "c2684e0ce6cb499d82aad7d6ebcc4887",
       "version_major": 2,
       "version_minor": 0
      },
      "text/plain": [
       "Validation: |          | 0/? [00:00<?, ?it/s]"
      ]
     },
     "metadata": {},
     "output_type": "display_data"
    },
    {
     "data": {
      "application/vnd.jupyter.widget-view+json": {
       "model_id": "2c10559461554963a32b4876fbe45b6f",
       "version_major": 2,
       "version_minor": 0
      },
      "text/plain": [
       "Validation: |          | 0/? [00:00<?, ?it/s]"
      ]
     },
     "metadata": {},
     "output_type": "display_data"
    },
    {
     "data": {
      "application/vnd.jupyter.widget-view+json": {
       "model_id": "5835e10b43654738a1d3fcf09820b0f4",
       "version_major": 2,
       "version_minor": 0
      },
      "text/plain": [
       "Validation: |          | 0/? [00:00<?, ?it/s]"
      ]
     },
     "metadata": {},
     "output_type": "display_data"
    },
    {
     "data": {
      "application/vnd.jupyter.widget-view+json": {
       "model_id": "a1c1ba6877694b4f86f5032cc2320b15",
       "version_major": 2,
       "version_minor": 0
      },
      "text/plain": [
       "Validation: |          | 0/? [00:00<?, ?it/s]"
      ]
     },
     "metadata": {},
     "output_type": "display_data"
    },
    {
     "data": {
      "application/vnd.jupyter.widget-view+json": {
       "model_id": "525d70a71aea44628511c745482bbe40",
       "version_major": 2,
       "version_minor": 0
      },
      "text/plain": [
       "Validation: |          | 0/? [00:00<?, ?it/s]"
      ]
     },
     "metadata": {},
     "output_type": "display_data"
    },
    {
     "data": {
      "application/vnd.jupyter.widget-view+json": {
       "model_id": "4e5d6544017647c88689aad726fb8cab",
       "version_major": 2,
       "version_minor": 0
      },
      "text/plain": [
       "Validation: |          | 0/? [00:00<?, ?it/s]"
      ]
     },
     "metadata": {},
     "output_type": "display_data"
    },
    {
     "data": {
      "application/vnd.jupyter.widget-view+json": {
       "model_id": "fb5e3385f8a0471488ec2d46f0fd779b",
       "version_major": 2,
       "version_minor": 0
      },
      "text/plain": [
       "Validation: |          | 0/? [00:00<?, ?it/s]"
      ]
     },
     "metadata": {},
     "output_type": "display_data"
    },
    {
     "data": {
      "application/vnd.jupyter.widget-view+json": {
       "model_id": "b1c33c7960d84839bd7734b9bd008642",
       "version_major": 2,
       "version_minor": 0
      },
      "text/plain": [
       "Validation: |          | 0/? [00:00<?, ?it/s]"
      ]
     },
     "metadata": {},
     "output_type": "display_data"
    },
    {
     "data": {
      "application/vnd.jupyter.widget-view+json": {
       "model_id": "e1ec89983e684c8db9f830cc8e2a6a57",
       "version_major": 2,
       "version_minor": 0
      },
      "text/plain": [
       "Validation: |          | 0/? [00:00<?, ?it/s]"
      ]
     },
     "metadata": {},
     "output_type": "display_data"
    },
    {
     "data": {
      "application/vnd.jupyter.widget-view+json": {
       "model_id": "cfe91451fb5247e592738e678f3bf841",
       "version_major": 2,
       "version_minor": 0
      },
      "text/plain": [
       "Validation: |          | 0/? [00:00<?, ?it/s]"
      ]
     },
     "metadata": {},
     "output_type": "display_data"
    },
    {
     "data": {
      "application/vnd.jupyter.widget-view+json": {
       "model_id": "931a5773e8b44efa838afb3443cb2152",
       "version_major": 2,
       "version_minor": 0
      },
      "text/plain": [
       "Validation: |          | 0/? [00:00<?, ?it/s]"
      ]
     },
     "metadata": {},
     "output_type": "display_data"
    },
    {
     "data": {
      "application/vnd.jupyter.widget-view+json": {
       "model_id": "9003aa9d1f0c4cfb967fdae69d35a103",
       "version_major": 2,
       "version_minor": 0
      },
      "text/plain": [
       "Validation: |          | 0/? [00:00<?, ?it/s]"
      ]
     },
     "metadata": {},
     "output_type": "display_data"
    },
    {
     "data": {
      "application/vnd.jupyter.widget-view+json": {
       "model_id": "a2ed5bf7fab24f9b976718e30a7dc010",
       "version_major": 2,
       "version_minor": 0
      },
      "text/plain": [
       "Validation: |          | 0/? [00:00<?, ?it/s]"
      ]
     },
     "metadata": {},
     "output_type": "display_data"
    },
    {
     "data": {
      "application/vnd.jupyter.widget-view+json": {
       "model_id": "349a8f9dcb5c4ec891891d09f92f2402",
       "version_major": 2,
       "version_minor": 0
      },
      "text/plain": [
       "Validation: |          | 0/? [00:00<?, ?it/s]"
      ]
     },
     "metadata": {},
     "output_type": "display_data"
    },
    {
     "data": {
      "application/vnd.jupyter.widget-view+json": {
       "model_id": "6d6953ac3e194a96b83e933762b07163",
       "version_major": 2,
       "version_minor": 0
      },
      "text/plain": [
       "Validation: |          | 0/? [00:00<?, ?it/s]"
      ]
     },
     "metadata": {},
     "output_type": "display_data"
    },
    {
     "data": {
      "application/vnd.jupyter.widget-view+json": {
       "model_id": "c2cf843f7bf24b6d8cb0227000683f1a",
       "version_major": 2,
       "version_minor": 0
      },
      "text/plain": [
       "Validation: |          | 0/? [00:00<?, ?it/s]"
      ]
     },
     "metadata": {},
     "output_type": "display_data"
    },
    {
     "data": {
      "application/vnd.jupyter.widget-view+json": {
       "model_id": "97b934e4a7f344848f9c257884eadb1b",
       "version_major": 2,
       "version_minor": 0
      },
      "text/plain": [
       "Validation: |          | 0/? [00:00<?, ?it/s]"
      ]
     },
     "metadata": {},
     "output_type": "display_data"
    },
    {
     "data": {
      "application/vnd.jupyter.widget-view+json": {
       "model_id": "ff22373cac814591a547ec37bed05f62",
       "version_major": 2,
       "version_minor": 0
      },
      "text/plain": [
       "Validation: |          | 0/? [00:00<?, ?it/s]"
      ]
     },
     "metadata": {},
     "output_type": "display_data"
    },
    {
     "data": {
      "application/vnd.jupyter.widget-view+json": {
       "model_id": "c68e6206cacf4910920936ab3a12d59d",
       "version_major": 2,
       "version_minor": 0
      },
      "text/plain": [
       "Validation: |          | 0/? [00:00<?, ?it/s]"
      ]
     },
     "metadata": {},
     "output_type": "display_data"
    },
    {
     "data": {
      "application/vnd.jupyter.widget-view+json": {
       "model_id": "27c46d7a39b54d77a55999633433cff0",
       "version_major": 2,
       "version_minor": 0
      },
      "text/plain": [
       "Validation: |          | 0/? [00:00<?, ?it/s]"
      ]
     },
     "metadata": {},
     "output_type": "display_data"
    },
    {
     "data": {
      "application/vnd.jupyter.widget-view+json": {
       "model_id": "403f644d4c2449f1b080a63a9f884330",
       "version_major": 2,
       "version_minor": 0
      },
      "text/plain": [
       "Validation: |          | 0/? [00:00<?, ?it/s]"
      ]
     },
     "metadata": {},
     "output_type": "display_data"
    },
    {
     "data": {
      "application/vnd.jupyter.widget-view+json": {
       "model_id": "e8388d0342784e12b048c6138f980cd7",
       "version_major": 2,
       "version_minor": 0
      },
      "text/plain": [
       "Validation: |          | 0/? [00:00<?, ?it/s]"
      ]
     },
     "metadata": {},
     "output_type": "display_data"
    },
    {
     "data": {
      "application/vnd.jupyter.widget-view+json": {
       "model_id": "5fdb192ef6334a0ba5c4ff3ae175c698",
       "version_major": 2,
       "version_minor": 0
      },
      "text/plain": [
       "Validation: |          | 0/? [00:00<?, ?it/s]"
      ]
     },
     "metadata": {},
     "output_type": "display_data"
    },
    {
     "data": {
      "application/vnd.jupyter.widget-view+json": {
       "model_id": "aa8ee941801b415da2fded58786be142",
       "version_major": 2,
       "version_minor": 0
      },
      "text/plain": [
       "Validation: |          | 0/? [00:00<?, ?it/s]"
      ]
     },
     "metadata": {},
     "output_type": "display_data"
    },
    {
     "data": {
      "application/vnd.jupyter.widget-view+json": {
       "model_id": "94dc5465a00b4785be80aaf4eb3051d5",
       "version_major": 2,
       "version_minor": 0
      },
      "text/plain": [
       "Validation: |          | 0/? [00:00<?, ?it/s]"
      ]
     },
     "metadata": {},
     "output_type": "display_data"
    },
    {
     "data": {
      "application/vnd.jupyter.widget-view+json": {
       "model_id": "e385c4f2e914442081a44d51ac45f405",
       "version_major": 2,
       "version_minor": 0
      },
      "text/plain": [
       "Validation: |          | 0/? [00:00<?, ?it/s]"
      ]
     },
     "metadata": {},
     "output_type": "display_data"
    },
    {
     "name": "stderr",
     "output_type": "stream",
     "text": [
      "`Trainer.fit` stopped: `max_epochs=50` reached.\n"
     ]
    }
   ],
   "source": [
    "model = BinaryClassifier()\n",
    "trainer = Trainer(max_epochs=50)\n",
    "trainer.fit(model, train_loader, val_loader) # This will automatically handle the training loop"
   ]
  },
  {
   "cell_type": "markdown",
   "id": "932f4be5",
   "metadata": {},
   "source": [
    "Now, let's evaluate the model."
   ]
  },
  {
   "cell_type": "code",
   "execution_count": 93,
   "id": "76f2dddd",
   "metadata": {},
   "outputs": [
    {
     "data": {
      "image/png": "[encoded data removed]",
      "text/plain": [
       "<Figure size 1000x800 with 2 Axes>"
      ]
     },
     "metadata": {},
     "output_type": "display_data"
    }
   ],
   "source": [
    "# Visualize the decision boundary\n",
    "X, y = train_dataset.X, train_dataset.y\n",
    "plot_decision_boundary(model, X, y)"
   ]
  },
  {
   "cell_type": "markdown",
   "id": "38f67b39",
   "metadata": {},
   "source": [
    "A cool feature of PyTorch Lightning is that it provides a `TensorBoard` callback that allows you to visualize the training process.\n",
    "\n",
    "To use this, you need to install the `tensorboard` package. (Uncomment the following line to install it.)"
   ]
  },
  {
   "cell_type": "code",
   "execution_count": 58,
   "id": "bfb83488",
   "metadata": {},
   "outputs": [],
   "source": [
    "# !pip install tensorboard"
   ]
  },
  {
   "cell_type": "code",
   "execution_count": 94,
   "id": "f0bc44f7",
   "metadata": {},
   "outputs": [
    {
     "name": "stdout",
     "output_type": "stream",
     "text": [
      "The tensorboard extension is already loaded. To reload it, use:\n",
      "  %reload_ext tensorboard\n"
     ]
    },
    {
     "data": {
      "text/plain": [
       "Reusing TensorBoard on port 6006 (pid 75158), started 2 days, 3:51:53 ago. (Use '!kill 75158' to kill it.)"
      ]
     },
     "metadata": {},
     "output_type": "display_data"
    },
    {
     "data": {
      "text/html": [
       "\n",
       "      <iframe id=\"tensorboard-frame-c6109cdf599da891\" width=\"100%\" height=\"800\" frameborder=\"0\">\n",
       "      </iframe>\n",
       "      <script>\n",
       "        (function() {\n",
       "          const frame = document.getElementById(\"tensorboard-frame-c6109cdf599da891\");\n",
       "          const url = new URL(\"http://localhost\");\n",
       "          const port = 6006;\n",
       "          if (port) {\n",
       "            url.port = port;\n",
       "          }\n",
       "          frame.src = url;\n",
       "        })();\n",
       "      </script>\n",
       "    "
      ],
      "text/plain": [
       "<IPython.core.display.HTML object>"
      ]
     },
     "metadata": {},
     "output_type": "display_data"
    }
   ],
   "source": [
    "%load_ext tensorboard\n",
    "%tensorboard  --logdir logs"
   ]
  },
  {
   "cell_type": "markdown",
   "id": "c7912f4c",
   "metadata": {},
   "source": [
    "\n",
    "Then, you can run the following command to start the TensorBoard server.\n",
    "%load_ext tensorboard"
   ]
  },
  {
   "cell_type": "code",
   "execution_count": 95,
   "id": "4b84d31f",
   "metadata": {},
   "outputs": [
    {
     "name": "stderr",
     "output_type": "stream",
     "text": [
      "GPU available: True (mps), used: True\n",
      "TPU available: False, using: 0 TPU cores\n",
      "HPU available: False, using: 0 HPUs\n",
      "\n",
      "  | Name    | Type    | Params | Mode \n",
      "--------------------------------------------\n",
      "0 | lin_1   | Linear  | 48     | train\n",
      "1 | relu_1  | ReLU    | 0      | train\n",
      "2 | lin_2   | Linear  | 272    | train\n",
      "3 | relu_2  | ReLU    | 0      | train\n",
      "4 | lin_3   | Linear  | 17     | train\n",
      "5 | sigmoid | Sigmoid | 0      | train\n",
      "--------------------------------------------\n",
      "337       Trainable params\n",
      "0         Non-trainable params\n",
      "337       Total params\n",
      "0.001     Total estimated model params size (MB)\n",
      "6         Modules in train mode\n",
      "0         Modules in eval mode\n"
     ]
    },
    {
     "data": {
      "application/vnd.jupyter.widget-view+json": {
       "model_id": "d5da84fe3cd84b93b054dbfc902eb83d",
       "version_major": 2,
       "version_minor": 0
      },
      "text/plain": [
       "Sanity Checking: |          | 0/? [00:00<?, ?it/s]"
      ]
     },
     "metadata": {},
     "output_type": "display_data"
    },
    {
     "data": {
      "application/vnd.jupyter.widget-view+json": {
       "model_id": "946985748c744de9ac67f9b60f826bb1",
       "version_major": 2,
       "version_minor": 0
      },
      "text/plain": [
       "Training: |          | 0/? [00:00<?, ?it/s]"
      ]
     },
     "metadata": {},
     "output_type": "display_data"
    },
    {
     "data": {
      "application/vnd.jupyter.widget-view+json": {
       "model_id": "da04529e324d4ac8b0149e3fd810f45a",
       "version_major": 2,
       "version_minor": 0
      },
      "text/plain": [
       "Validation: |          | 0/? [00:00<?, ?it/s]"
      ]
     },
     "metadata": {},
     "output_type": "display_data"
    },
    {
     "data": {
      "application/vnd.jupyter.widget-view+json": {
       "model_id": "bcc1f0236fb541efb14baf019273bfb4",
       "version_major": 2,
       "version_minor": 0
      },
      "text/plain": [
       "Validation: |          | 0/? [00:00<?, ?it/s]"
      ]
     },
     "metadata": {},
     "output_type": "display_data"
    },
    {
     "data": {
      "application/vnd.jupyter.widget-view+json": {
       "model_id": "a2d8b3464cb0478aa2c34d9f9269e35a",
       "version_major": 2,
       "version_minor": 0
      },
      "text/plain": [
       "Validation: |          | 0/? [00:00<?, ?it/s]"
      ]
     },
     "metadata": {},
     "output_type": "display_data"
    },
    {
     "data": {
      "application/vnd.jupyter.widget-view+json": {
       "model_id": "7ab5e7bc8f4a4d4f893eaec62032d770",
       "version_major": 2,
       "version_minor": 0
      },
      "text/plain": [
       "Validation: |          | 0/? [00:00<?, ?it/s]"
      ]
     },
     "metadata": {},
     "output_type": "display_data"
    },
    {
     "data": {
      "application/vnd.jupyter.widget-view+json": {
       "model_id": "3e965060f5dc42caa47da60a32e619b2",
       "version_major": 2,
       "version_minor": 0
      },
      "text/plain": [
       "Validation: |          | 0/? [00:00<?, ?it/s]"
      ]
     },
     "metadata": {},
     "output_type": "display_data"
    },
    {
     "data": {
      "application/vnd.jupyter.widget-view+json": {
       "model_id": "99268dc80a24480c8db89562283e4af8",
       "version_major": 2,
       "version_minor": 0
      },
      "text/plain": [
       "Validation: |          | 0/? [00:00<?, ?it/s]"
      ]
     },
     "metadata": {},
     "output_type": "display_data"
    },
    {
     "data": {
      "application/vnd.jupyter.widget-view+json": {
       "model_id": "3e5064ceed2e40388b87fed9b4fd2b47",
       "version_major": 2,
       "version_minor": 0
      },
      "text/plain": [
       "Validation: |          | 0/? [00:00<?, ?it/s]"
      ]
     },
     "metadata": {},
     "output_type": "display_data"
    },
    {
     "data": {
      "application/vnd.jupyter.widget-view+json": {
       "model_id": "c168d3f5c8f64098afb510397b8d91d1",
       "version_major": 2,
       "version_minor": 0
      },
      "text/plain": [
       "Validation: |          | 0/? [00:00<?, ?it/s]"
      ]
     },
     "metadata": {},
     "output_type": "display_data"
    },
    {
     "data": {
      "application/vnd.jupyter.widget-view+json": {
       "model_id": "700abdfac20e4a7d8735bcf48530dae9",
       "version_major": 2,
       "version_minor": 0
      },
      "text/plain": [
       "Validation: |          | 0/? [00:00<?, ?it/s]"
      ]
     },
     "metadata": {},
     "output_type": "display_data"
    },
    {
     "data": {
      "application/vnd.jupyter.widget-view+json": {
       "model_id": "f1c748df716b43ce929b125099e0e2cf",
       "version_major": 2,
       "version_minor": 0
      },
      "text/plain": [
       "Validation: |          | 0/? [00:00<?, ?it/s]"
      ]
     },
     "metadata": {},
     "output_type": "display_data"
    },
    {
     "data": {
      "application/vnd.jupyter.widget-view+json": {
       "model_id": "028aedda10bf4b6a86b734dd036a1f31",
       "version_major": 2,
       "version_minor": 0
      },
      "text/plain": [
       "Validation: |          | 0/? [00:00<?, ?it/s]"
      ]
     },
     "metadata": {},
     "output_type": "display_data"
    },
    {
     "data": {
      "application/vnd.jupyter.widget-view+json": {
       "model_id": "c492bd1aa1114c84872149a0aa59e425",
       "version_major": 2,
       "version_minor": 0
      },
      "text/plain": [
       "Validation: |          | 0/? [00:00<?, ?it/s]"
      ]
     },
     "metadata": {},
     "output_type": "display_data"
    },
    {
     "data": {
      "application/vnd.jupyter.widget-view+json": {
       "model_id": "63931edcda414e1d98fa65e0b4eb991d",
       "version_major": 2,
       "version_minor": 0
      },
      "text/plain": [
       "Validation: |          | 0/? [00:00<?, ?it/s]"
      ]
     },
     "metadata": {},
     "output_type": "display_data"
    },
    {
     "data": {
      "application/vnd.jupyter.widget-view+json": {
       "model_id": "4f26d70434724f41b3fb398baa4fa6e0",
       "version_major": 2,
       "version_minor": 0
      },
      "text/plain": [
       "Validation: |          | 0/? [00:00<?, ?it/s]"
      ]
     },
     "metadata": {},
     "output_type": "display_data"
    },
    {
     "data": {
      "application/vnd.jupyter.widget-view+json": {
       "model_id": "a46e2721d12442709c87894ccdbb527b",
       "version_major": 2,
       "version_minor": 0
      },
      "text/plain": [
       "Validation: |          | 0/? [00:00<?, ?it/s]"
      ]
     },
     "metadata": {},
     "output_type": "display_data"
    },
    {
     "data": {
      "application/vnd.jupyter.widget-view+json": {
       "model_id": "60025e016d964ad4a83cbe0e2fdaead5",
       "version_major": 2,
       "version_minor": 0
      },
      "text/plain": [
       "Validation: |          | 0/? [00:00<?, ?it/s]"
      ]
     },
     "metadata": {},
     "output_type": "display_data"
    },
    {
     "data": {
      "application/vnd.jupyter.widget-view+json": {
       "model_id": "5e918b817c464c9e8b894c3653372400",
       "version_major": 2,
       "version_minor": 0
      },
      "text/plain": [
       "Validation: |          | 0/? [00:00<?, ?it/s]"
      ]
     },
     "metadata": {},
     "output_type": "display_data"
    },
    {
     "data": {
      "application/vnd.jupyter.widget-view+json": {
       "model_id": "ac4a65120e06492297e1c0153878e562",
       "version_major": 2,
       "version_minor": 0
      },
      "text/plain": [
       "Validation: |          | 0/? [00:00<?, ?it/s]"
      ]
     },
     "metadata": {},
     "output_type": "display_data"
    },
    {
     "data": {
      "application/vnd.jupyter.widget-view+json": {
       "model_id": "c53c704fb118402187c8f36f2b0c53ba",
       "version_major": 2,
       "version_minor": 0
      },
      "text/plain": [
       "Validation: |          | 0/? [00:00<?, ?it/s]"
      ]
     },
     "metadata": {},
     "output_type": "display_data"
    },
    {
     "data": {
      "application/vnd.jupyter.widget-view+json": {
       "model_id": "597d60be152a44db9750e865ba601d06",
       "version_major": 2,
       "version_minor": 0
      },
      "text/plain": [
       "Validation: |          | 0/? [00:00<?, ?it/s]"
      ]
     },
     "metadata": {},
     "output_type": "display_data"
    },
    {
     "data": {
      "application/vnd.jupyter.widget-view+json": {
       "model_id": "d12a37b4964147b99f7fd639e9c6a32e",
       "version_major": 2,
       "version_minor": 0
      },
      "text/plain": [
       "Validation: |          | 0/? [00:00<?, ?it/s]"
      ]
     },
     "metadata": {},
     "output_type": "display_data"
    },
    {
     "data": {
      "application/vnd.jupyter.widget-view+json": {
       "model_id": "5633ca0e326c4fd59b8e91837ef43128",
       "version_major": 2,
       "version_minor": 0
      },
      "text/plain": [
       "Validation: |          | 0/? [00:00<?, ?it/s]"
      ]
     },
     "metadata": {},
     "output_type": "display_data"
    },
    {
     "data": {
      "application/vnd.jupyter.widget-view+json": {
       "model_id": "f857b1e45eba4ff7b89038c089a87f84",
       "version_major": 2,
       "version_minor": 0
      },
      "text/plain": [
       "Validation: |          | 0/? [00:00<?, ?it/s]"
      ]
     },
     "metadata": {},
     "output_type": "display_data"
    },
    {
     "data": {
      "application/vnd.jupyter.widget-view+json": {
       "model_id": "e2c4192b3b554f3c84b0b72b79eeec71",
       "version_major": 2,
       "version_minor": 0
      },
      "text/plain": [
       "Validation: |          | 0/? [00:00<?, ?it/s]"
      ]
     },
     "metadata": {},
     "output_type": "display_data"
    },
    {
     "data": {
      "application/vnd.jupyter.widget-view+json": {
       "model_id": "6b96bc7184134f2d9a06c292c31cfe17",
       "version_major": 2,
       "version_minor": 0
      },
      "text/plain": [
       "Validation: |          | 0/? [00:00<?, ?it/s]"
      ]
     },
     "metadata": {},
     "output_type": "display_data"
    },
    {
     "data": {
      "application/vnd.jupyter.widget-view+json": {
       "model_id": "b17b352bd38346f5be62e23e91baf92d",
       "version_major": 2,
       "version_minor": 0
      },
      "text/plain": [
       "Validation: |          | 0/? [00:00<?, ?it/s]"
      ]
     },
     "metadata": {},
     "output_type": "display_data"
    },
    {
     "data": {
      "application/vnd.jupyter.widget-view+json": {
       "model_id": "82c48b191ef547d5b1553ee1c58633dd",
       "version_major": 2,
       "version_minor": 0
      },
      "text/plain": [
       "Validation: |          | 0/? [00:00<?, ?it/s]"
      ]
     },
     "metadata": {},
     "output_type": "display_data"
    },
    {
     "data": {
      "application/vnd.jupyter.widget-view+json": {
       "model_id": "d97a535a62b04458bffa2899eb0d958b",
       "version_major": 2,
       "version_minor": 0
      },
      "text/plain": [
       "Validation: |          | 0/? [00:00<?, ?it/s]"
      ]
     },
     "metadata": {},
     "output_type": "display_data"
    },
    {
     "data": {
      "application/vnd.jupyter.widget-view+json": {
       "model_id": "6d47b583eb4a486b9a654221e2de870f",
       "version_major": 2,
       "version_minor": 0
      },
      "text/plain": [
       "Validation: |          | 0/? [00:00<?, ?it/s]"
      ]
     },
     "metadata": {},
     "output_type": "display_data"
    },
    {
     "data": {
      "application/vnd.jupyter.widget-view+json": {
       "model_id": "aedc90536bd741869dae3f71145701ca",
       "version_major": 2,
       "version_minor": 0
      },
      "text/plain": [
       "Validation: |          | 0/? [00:00<?, ?it/s]"
      ]
     },
     "metadata": {},
     "output_type": "display_data"
    },
    {
     "data": {
      "application/vnd.jupyter.widget-view+json": {
       "model_id": "d97beddd54f647c7befb032724cea6fc",
       "version_major": 2,
       "version_minor": 0
      },
      "text/plain": [
       "Validation: |          | 0/? [00:00<?, ?it/s]"
      ]
     },
     "metadata": {},
     "output_type": "display_data"
    },
    {
     "data": {
      "application/vnd.jupyter.widget-view+json": {
       "model_id": "7c014374bc12445d8b8ab982639cde0a",
       "version_major": 2,
       "version_minor": 0
      },
      "text/plain": [
       "Validation: |          | 0/? [00:00<?, ?it/s]"
      ]
     },
     "metadata": {},
     "output_type": "display_data"
    },
    {
     "data": {
      "application/vnd.jupyter.widget-view+json": {
       "model_id": "4d908c86f2884997833ac697a76e4431",
       "version_major": 2,
       "version_minor": 0
      },
      "text/plain": [
       "Validation: |          | 0/? [00:00<?, ?it/s]"
      ]
     },
     "metadata": {},
     "output_type": "display_data"
    },
    {
     "data": {
      "application/vnd.jupyter.widget-view+json": {
       "model_id": "3b3497e6e3dc47ccaa717720048f14e4",
       "version_major": 2,
       "version_minor": 0
      },
      "text/plain": [
       "Validation: |          | 0/? [00:00<?, ?it/s]"
      ]
     },
     "metadata": {},
     "output_type": "display_data"
    },
    {
     "data": {
      "application/vnd.jupyter.widget-view+json": {
       "model_id": "8a788fd98c6d4f03b495ee9d30bceed1",
       "version_major": 2,
       "version_minor": 0
      },
      "text/plain": [
       "Validation: |          | 0/? [00:00<?, ?it/s]"
      ]
     },
     "metadata": {},
     "output_type": "display_data"
    },
    {
     "data": {
      "application/vnd.jupyter.widget-view+json": {
       "model_id": "d66292ad60e44eba92aa2868c406a278",
       "version_major": 2,
       "version_minor": 0
      },
      "text/plain": [
       "Validation: |          | 0/? [00:00<?, ?it/s]"
      ]
     },
     "metadata": {},
     "output_type": "display_data"
    },
    {
     "data": {
      "application/vnd.jupyter.widget-view+json": {
       "model_id": "ae462b62f44e4864b3c0794da431485d",
       "version_major": 2,
       "version_minor": 0
      },
      "text/plain": [
       "Validation: |          | 0/? [00:00<?, ?it/s]"
      ]
     },
     "metadata": {},
     "output_type": "display_data"
    },
    {
     "data": {
      "application/vnd.jupyter.widget-view+json": {
       "model_id": "66bfedb582a54b15b8eab5cd565ea7ca",
       "version_major": 2,
       "version_minor": 0
      },
      "text/plain": [
       "Validation: |          | 0/? [00:00<?, ?it/s]"
      ]
     },
     "metadata": {},
     "output_type": "display_data"
    },
    {
     "data": {
      "application/vnd.jupyter.widget-view+json": {
       "model_id": "5de45f98dde34f898e2310cd979c80a1",
       "version_major": 2,
       "version_minor": 0
      },
      "text/plain": [
       "Validation: |          | 0/? [00:00<?, ?it/s]"
      ]
     },
     "metadata": {},
     "output_type": "display_data"
    },
    {
     "data": {
      "application/vnd.jupyter.widget-view+json": {
       "model_id": "ba8178f67df54fba99c28e100d201547",
       "version_major": 2,
       "version_minor": 0
      },
      "text/plain": [
       "Validation: |          | 0/? [00:00<?, ?it/s]"
      ]
     },
     "metadata": {},
     "output_type": "display_data"
    },
    {
     "data": {
      "application/vnd.jupyter.widget-view+json": {
       "model_id": "baf48d646004496cb1c7dcd5279797be",
       "version_major": 2,
       "version_minor": 0
      },
      "text/plain": [
       "Validation: |          | 0/? [00:00<?, ?it/s]"
      ]
     },
     "metadata": {},
     "output_type": "display_data"
    },
    {
     "data": {
      "application/vnd.jupyter.widget-view+json": {
       "model_id": "3ed6583cfafe4d168dc67ac070bd27d4",
       "version_major": 2,
       "version_minor": 0
      },
      "text/plain": [
       "Validation: |          | 0/? [00:00<?, ?it/s]"
      ]
     },
     "metadata": {},
     "output_type": "display_data"
    },
    {
     "data": {
      "application/vnd.jupyter.widget-view+json": {
       "model_id": "eb092cd861ba429e839ecfad523c573b",
       "version_major": 2,
       "version_minor": 0
      },
      "text/plain": [
       "Validation: |          | 0/? [00:00<?, ?it/s]"
      ]
     },
     "metadata": {},
     "output_type": "display_data"
    },
    {
     "data": {
      "application/vnd.jupyter.widget-view+json": {
       "model_id": "b6558cfdd1994e8c9990af73b730b327",
       "version_major": 2,
       "version_minor": 0
      },
      "text/plain": [
       "Validation: |          | 0/? [00:00<?, ?it/s]"
      ]
     },
     "metadata": {},
     "output_type": "display_data"
    },
    {
     "data": {
      "application/vnd.jupyter.widget-view+json": {
       "model_id": "462535e5b8e8451e855aef883ef3dedc",
       "version_major": 2,
       "version_minor": 0
      },
      "text/plain": [
       "Validation: |          | 0/? [00:00<?, ?it/s]"
      ]
     },
     "metadata": {},
     "output_type": "display_data"
    },
    {
     "data": {
      "application/vnd.jupyter.widget-view+json": {
       "model_id": "01c9efcfc9a24a3280c785674efcac40",
       "version_major": 2,
       "version_minor": 0
      },
      "text/plain": [
       "Validation: |          | 0/? [00:00<?, ?it/s]"
      ]
     },
     "metadata": {},
     "output_type": "display_data"
    },
    {
     "data": {
      "application/vnd.jupyter.widget-view+json": {
       "model_id": "fa40cf66f0ab46e18138b0a07adaa240",
       "version_major": 2,
       "version_minor": 0
      },
      "text/plain": [
       "Validation: |          | 0/? [00:00<?, ?it/s]"
      ]
     },
     "metadata": {},
     "output_type": "display_data"
    },
    {
     "data": {
      "application/vnd.jupyter.widget-view+json": {
       "model_id": "cff330cb30ec4612b35a5a069a980356",
       "version_major": 2,
       "version_minor": 0
      },
      "text/plain": [
       "Validation: |          | 0/? [00:00<?, ?it/s]"
      ]
     },
     "metadata": {},
     "output_type": "display_data"
    },
    {
     "data": {
      "application/vnd.jupyter.widget-view+json": {
       "model_id": "080a1a114bfd435b8c9fdf1785d7a294",
       "version_major": 2,
       "version_minor": 0
      },
      "text/plain": [
       "Validation: |          | 0/? [00:00<?, ?it/s]"
      ]
     },
     "metadata": {},
     "output_type": "display_data"
    },
    {
     "data": {
      "application/vnd.jupyter.widget-view+json": {
       "model_id": "5161a9fa15794e419c238e5ff04578bc",
       "version_major": 2,
       "version_minor": 0
      },
      "text/plain": [
       "Validation: |          | 0/? [00:00<?, ?it/s]"
      ]
     },
     "metadata": {},
     "output_type": "display_data"
    },
    {
     "data": {
      "application/vnd.jupyter.widget-view+json": {
       "model_id": "8dc42e81bae2436da8f54dde21e88f14",
       "version_major": 2,
       "version_minor": 0
      },
      "text/plain": [
       "Validation: |          | 0/? [00:00<?, ?it/s]"
      ]
     },
     "metadata": {},
     "output_type": "display_data"
    },
    {
     "data": {
      "application/vnd.jupyter.widget-view+json": {
       "model_id": "7eacd62f2fae4d23bae42bc4cf6783f1",
       "version_major": 2,
       "version_minor": 0
      },
      "text/plain": [
       "Validation: |          | 0/? [00:00<?, ?it/s]"
      ]
     },
     "metadata": {},
     "output_type": "display_data"
    },
    {
     "data": {
      "application/vnd.jupyter.widget-view+json": {
       "model_id": "b42edc0669fb47029e38a9d729fb83c1",
       "version_major": 2,
       "version_minor": 0
      },
      "text/plain": [
       "Validation: |          | 0/? [00:00<?, ?it/s]"
      ]
     },
     "metadata": {},
     "output_type": "display_data"
    },
    {
     "data": {
      "application/vnd.jupyter.widget-view+json": {
       "model_id": "5ebcc27883d44fe8b66a35ab47951c08",
       "version_major": 2,
       "version_minor": 0
      },
      "text/plain": [
       "Validation: |          | 0/? [00:00<?, ?it/s]"
      ]
     },
     "metadata": {},
     "output_type": "display_data"
    },
    {
     "data": {
      "application/vnd.jupyter.widget-view+json": {
       "model_id": "43ee4180f85340c99dc1dfb511a6ffd0",
       "version_major": 2,
       "version_minor": 0
      },
      "text/plain": [
       "Validation: |          | 0/? [00:00<?, ?it/s]"
      ]
     },
     "metadata": {},
     "output_type": "display_data"
    },
    {
     "data": {
      "application/vnd.jupyter.widget-view+json": {
       "model_id": "b6dcdc9122b744bea52b4ff1fd9d9d42",
       "version_major": 2,
       "version_minor": 0
      },
      "text/plain": [
       "Validation: |          | 0/? [00:00<?, ?it/s]"
      ]
     },
     "metadata": {},
     "output_type": "display_data"
    },
    {
     "data": {
      "application/vnd.jupyter.widget-view+json": {
       "model_id": "3247ad3956cb49fe8ea0111be518a5ce",
       "version_major": 2,
       "version_minor": 0
      },
      "text/plain": [
       "Validation: |          | 0/? [00:00<?, ?it/s]"
      ]
     },
     "metadata": {},
     "output_type": "display_data"
    },
    {
     "data": {
      "application/vnd.jupyter.widget-view+json": {
       "model_id": "9ae3cfe401a84084bbac79554ea9ec30",
       "version_major": 2,
       "version_minor": 0
      },
      "text/plain": [
       "Validation: |          | 0/? [00:00<?, ?it/s]"
      ]
     },
     "metadata": {},
     "output_type": "display_data"
    },
    {
     "data": {
      "application/vnd.jupyter.widget-view+json": {
       "model_id": "ac71d089989a4f9a9fd397c182deb0d5",
       "version_major": 2,
       "version_minor": 0
      },
      "text/plain": [
       "Validation: |          | 0/? [00:00<?, ?it/s]"
      ]
     },
     "metadata": {},
     "output_type": "display_data"
    },
    {
     "data": {
      "application/vnd.jupyter.widget-view+json": {
       "model_id": "b2aade9beaa64c909f526d57236b9917",
       "version_major": 2,
       "version_minor": 0
      },
      "text/plain": [
       "Validation: |          | 0/? [00:00<?, ?it/s]"
      ]
     },
     "metadata": {},
     "output_type": "display_data"
    },
    {
     "data": {
      "application/vnd.jupyter.widget-view+json": {
       "model_id": "876bbbbb8d41419da4a0d1383d9ec21e",
       "version_major": 2,
       "version_minor": 0
      },
      "text/plain": [
       "Validation: |          | 0/? [00:00<?, ?it/s]"
      ]
     },
     "metadata": {},
     "output_type": "display_data"
    },
    {
     "data": {
      "application/vnd.jupyter.widget-view+json": {
       "model_id": "81e4bc80796c4112923db0aa73366c03",
       "version_major": 2,
       "version_minor": 0
      },
      "text/plain": [
       "Validation: |          | 0/? [00:00<?, ?it/s]"
      ]
     },
     "metadata": {},
     "output_type": "display_data"
    },
    {
     "data": {
      "application/vnd.jupyter.widget-view+json": {
       "model_id": "01a5dd60001641b89a549a6e781a85b9",
       "version_major": 2,
       "version_minor": 0
      },
      "text/plain": [
       "Validation: |          | 0/? [00:00<?, ?it/s]"
      ]
     },
     "metadata": {},
     "output_type": "display_data"
    },
    {
     "data": {
      "application/vnd.jupyter.widget-view+json": {
       "model_id": "f410d50f339541a994b9ef5651831592",
       "version_major": 2,
       "version_minor": 0
      },
      "text/plain": [
       "Validation: |          | 0/? [00:00<?, ?it/s]"
      ]
     },
     "metadata": {},
     "output_type": "display_data"
    },
    {
     "data": {
      "application/vnd.jupyter.widget-view+json": {
       "model_id": "3b281148e5f74dec8aea3b4084aa7ae6",
       "version_major": 2,
       "version_minor": 0
      },
      "text/plain": [
       "Validation: |          | 0/? [00:00<?, ?it/s]"
      ]
     },
     "metadata": {},
     "output_type": "display_data"
    },
    {
     "data": {
      "application/vnd.jupyter.widget-view+json": {
       "model_id": "99f83c06717248b684fa7575c63897e3",
       "version_major": 2,
       "version_minor": 0
      },
      "text/plain": [
       "Validation: |          | 0/? [00:00<?, ?it/s]"
      ]
     },
     "metadata": {},
     "output_type": "display_data"
    },
    {
     "data": {
      "application/vnd.jupyter.widget-view+json": {
       "model_id": "b67cafebaa0f4d109bc4ff7c0d4212ee",
       "version_major": 2,
       "version_minor": 0
      },
      "text/plain": [
       "Validation: |          | 0/? [00:00<?, ?it/s]"
      ]
     },
     "metadata": {},
     "output_type": "display_data"
    },
    {
     "data": {
      "application/vnd.jupyter.widget-view+json": {
       "model_id": "19d0a1c0a5514096ba4b5c219c5e033f",
       "version_major": 2,
       "version_minor": 0
      },
      "text/plain": [
       "Validation: |          | 0/? [00:00<?, ?it/s]"
      ]
     },
     "metadata": {},
     "output_type": "display_data"
    },
    {
     "data": {
      "application/vnd.jupyter.widget-view+json": {
       "model_id": "54a2403648234dae8de03bf42167fbe4",
       "version_major": 2,
       "version_minor": 0
      },
      "text/plain": [
       "Validation: |          | 0/? [00:00<?, ?it/s]"
      ]
     },
     "metadata": {},
     "output_type": "display_data"
    },
    {
     "data": {
      "application/vnd.jupyter.widget-view+json": {
       "model_id": "07fe9f58f4024db0a2e6826e6467e456",
       "version_major": 2,
       "version_minor": 0
      },
      "text/plain": [
       "Validation: |          | 0/? [00:00<?, ?it/s]"
      ]
     },
     "metadata": {},
     "output_type": "display_data"
    },
    {
     "data": {
      "application/vnd.jupyter.widget-view+json": {
       "model_id": "37963069764a4056a4c885eea773567f",
       "version_major": 2,
       "version_minor": 0
      },
      "text/plain": [
       "Validation: |          | 0/? [00:00<?, ?it/s]"
      ]
     },
     "metadata": {},
     "output_type": "display_data"
    },
    {
     "data": {
      "application/vnd.jupyter.widget-view+json": {
       "model_id": "a0f6a4776e9f48dd96098cd8e032ba96",
       "version_major": 2,
       "version_minor": 0
      },
      "text/plain": [
       "Validation: |          | 0/? [00:00<?, ?it/s]"
      ]
     },
     "metadata": {},
     "output_type": "display_data"
    },
    {
     "data": {
      "application/vnd.jupyter.widget-view+json": {
       "model_id": "7a99802fc8d54012b53c46e7b7044a20",
       "version_major": 2,
       "version_minor": 0
      },
      "text/plain": [
       "Validation: |          | 0/? [00:00<?, ?it/s]"
      ]
     },
     "metadata": {},
     "output_type": "display_data"
    },
    {
     "data": {
      "application/vnd.jupyter.widget-view+json": {
       "model_id": "24a1fc62836e4750860a74d33ee8fc5f",
       "version_major": 2,
       "version_minor": 0
      },
      "text/plain": [
       "Validation: |          | 0/? [00:00<?, ?it/s]"
      ]
     },
     "metadata": {},
     "output_type": "display_data"
    },
    {
     "data": {
      "application/vnd.jupyter.widget-view+json": {
       "model_id": "de9f3b9fbfed45a2951332cc0c8fc52e",
       "version_major": 2,
       "version_minor": 0
      },
      "text/plain": [
       "Validation: |          | 0/? [00:00<?, ?it/s]"
      ]
     },
     "metadata": {},
     "output_type": "display_data"
    },
    {
     "data": {
      "application/vnd.jupyter.widget-view+json": {
       "model_id": "7d03531883c144cba838e78ae1515f81",
       "version_major": 2,
       "version_minor": 0
      },
      "text/plain": [
       "Validation: |          | 0/? [00:00<?, ?it/s]"
      ]
     },
     "metadata": {},
     "output_type": "display_data"
    },
    {
     "data": {
      "application/vnd.jupyter.widget-view+json": {
       "model_id": "2695e8c53c1c404fb218923a273bef3a",
       "version_major": 2,
       "version_minor": 0
      },
      "text/plain": [
       "Validation: |          | 0/? [00:00<?, ?it/s]"
      ]
     },
     "metadata": {},
     "output_type": "display_data"
    },
    {
     "data": {
      "application/vnd.jupyter.widget-view+json": {
       "model_id": "fc989916d9ad4ea599f6533b34e3109a",
       "version_major": 2,
       "version_minor": 0
      },
      "text/plain": [
       "Validation: |          | 0/? [00:00<?, ?it/s]"
      ]
     },
     "metadata": {},
     "output_type": "display_data"
    },
    {
     "data": {
      "application/vnd.jupyter.widget-view+json": {
       "model_id": "3c619d62cf8844e3aed810b7dfc0d1cc",
       "version_major": 2,
       "version_minor": 0
      },
      "text/plain": [
       "Validation: |          | 0/? [00:00<?, ?it/s]"
      ]
     },
     "metadata": {},
     "output_type": "display_data"
    },
    {
     "data": {
      "application/vnd.jupyter.widget-view+json": {
       "model_id": "1976523e530b4e3ea5ef04d2638f0754",
       "version_major": 2,
       "version_minor": 0
      },
      "text/plain": [
       "Validation: |          | 0/? [00:00<?, ?it/s]"
      ]
     },
     "metadata": {},
     "output_type": "display_data"
    },
    {
     "data": {
      "application/vnd.jupyter.widget-view+json": {
       "model_id": "47ff07054f764b52a63cef37044210bd",
       "version_major": 2,
       "version_minor": 0
      },
      "text/plain": [
       "Validation: |          | 0/? [00:00<?, ?it/s]"
      ]
     },
     "metadata": {},
     "output_type": "display_data"
    },
    {
     "data": {
      "application/vnd.jupyter.widget-view+json": {
       "model_id": "76476dcc5af84b43beab59050dc63054",
       "version_major": 2,
       "version_minor": 0
      },
      "text/plain": [
       "Validation: |          | 0/? [00:00<?, ?it/s]"
      ]
     },
     "metadata": {},
     "output_type": "display_data"
    },
    {
     "data": {
      "application/vnd.jupyter.widget-view+json": {
       "model_id": "5885fdbd1cbc46b3b4eec52a8ad59a15",
       "version_major": 2,
       "version_minor": 0
      },
      "text/plain": [
       "Validation: |          | 0/? [00:00<?, ?it/s]"
      ]
     },
     "metadata": {},
     "output_type": "display_data"
    },
    {
     "data": {
      "application/vnd.jupyter.widget-view+json": {
       "model_id": "925c1a30f0314d758b88aaa6d355f2f5",
       "version_major": 2,
       "version_minor": 0
      },
      "text/plain": [
       "Validation: |          | 0/? [00:00<?, ?it/s]"
      ]
     },
     "metadata": {},
     "output_type": "display_data"
    },
    {
     "data": {
      "application/vnd.jupyter.widget-view+json": {
       "model_id": "34e008397f864af984761c93529b9b3d",
       "version_major": 2,
       "version_minor": 0
      },
      "text/plain": [
       "Validation: |          | 0/? [00:00<?, ?it/s]"
      ]
     },
     "metadata": {},
     "output_type": "display_data"
    },
    {
     "data": {
      "application/vnd.jupyter.widget-view+json": {
       "model_id": "9836033aa2fb490ebfd1c272817b8fed",
       "version_major": 2,
       "version_minor": 0
      },
      "text/plain": [
       "Validation: |          | 0/? [00:00<?, ?it/s]"
      ]
     },
     "metadata": {},
     "output_type": "display_data"
    },
    {
     "data": {
      "application/vnd.jupyter.widget-view+json": {
       "model_id": "df2e1600e21044f3b02fb920c6421798",
       "version_major": 2,
       "version_minor": 0
      },
      "text/plain": [
       "Validation: |          | 0/? [00:00<?, ?it/s]"
      ]
     },
     "metadata": {},
     "output_type": "display_data"
    },
    {
     "data": {
      "application/vnd.jupyter.widget-view+json": {
       "model_id": "d3ac2780529a43d6b7c86bd2bb10e18f",
       "version_major": 2,
       "version_minor": 0
      },
      "text/plain": [
       "Validation: |          | 0/? [00:00<?, ?it/s]"
      ]
     },
     "metadata": {},
     "output_type": "display_data"
    },
    {
     "data": {
      "application/vnd.jupyter.widget-view+json": {
       "model_id": "50bc75b51db74cc6bc9140bed297daf0",
       "version_major": 2,
       "version_minor": 0
      },
      "text/plain": [
       "Validation: |          | 0/? [00:00<?, ?it/s]"
      ]
     },
     "metadata": {},
     "output_type": "display_data"
    },
    {
     "data": {
      "application/vnd.jupyter.widget-view+json": {
       "model_id": "a71e08ce956347a59f6166bd8ae78624",
       "version_major": 2,
       "version_minor": 0
      },
      "text/plain": [
       "Validation: |          | 0/? [00:00<?, ?it/s]"
      ]
     },
     "metadata": {},
     "output_type": "display_data"
    },
    {
     "data": {
      "application/vnd.jupyter.widget-view+json": {
       "model_id": "02cb426c7ebc4b45a4ed4f6a6eebd6b5",
       "version_major": 2,
       "version_minor": 0
      },
      "text/plain": [
       "Validation: |          | 0/? [00:00<?, ?it/s]"
      ]
     },
     "metadata": {},
     "output_type": "display_data"
    },
    {
     "data": {
      "application/vnd.jupyter.widget-view+json": {
       "model_id": "ca509ead4845452cbba09c9c58b30755",
       "version_major": 2,
       "version_minor": 0
      },
      "text/plain": [
       "Validation: |          | 0/? [00:00<?, ?it/s]"
      ]
     },
     "metadata": {},
     "output_type": "display_data"
    },
    {
     "data": {
      "application/vnd.jupyter.widget-view+json": {
       "model_id": "b0ab02efda054691a9d3306b26d874fc",
       "version_major": 2,
       "version_minor": 0
      },
      "text/plain": [
       "Validation: |          | 0/? [00:00<?, ?it/s]"
      ]
     },
     "metadata": {},
     "output_type": "display_data"
    },
    {
     "data": {
      "application/vnd.jupyter.widget-view+json": {
       "model_id": "108a3bd28c0640298e91be1d56c31b2d",
       "version_major": 2,
       "version_minor": 0
      },
      "text/plain": [
       "Validation: |          | 0/? [00:00<?, ?it/s]"
      ]
     },
     "metadata": {},
     "output_type": "display_data"
    },
    {
     "data": {
      "application/vnd.jupyter.widget-view+json": {
       "model_id": "5d3bd631d3e84f45b48130bf8e65ab22",
       "version_major": 2,
       "version_minor": 0
      },
      "text/plain": [
       "Validation: |          | 0/? [00:00<?, ?it/s]"
      ]
     },
     "metadata": {},
     "output_type": "display_data"
    },
    {
     "data": {
      "application/vnd.jupyter.widget-view+json": {
       "model_id": "0048bf04e51648fab585b50f3378a70c",
       "version_major": 2,
       "version_minor": 0
      },
      "text/plain": [
       "Validation: |          | 0/? [00:00<?, ?it/s]"
      ]
     },
     "metadata": {},
     "output_type": "display_data"
    },
    {
     "data": {
      "application/vnd.jupyter.widget-view+json": {
       "model_id": "f1ba1045101745a785ef20c9324a3937",
       "version_major": 2,
       "version_minor": 0
      },
      "text/plain": [
       "Validation: |          | 0/? [00:00<?, ?it/s]"
      ]
     },
     "metadata": {},
     "output_type": "display_data"
    },
    {
     "data": {
      "application/vnd.jupyter.widget-view+json": {
       "model_id": "e8e2162ee5fc471dacf34a397aae37cf",
       "version_major": 2,
       "version_minor": 0
      },
      "text/plain": [
       "Validation: |          | 0/? [00:00<?, ?it/s]"
      ]
     },
     "metadata": {},
     "output_type": "display_data"
    },
    {
     "data": {
      "application/vnd.jupyter.widget-view+json": {
       "model_id": "a19468d3db89424d9f6620b32fced78d",
       "version_major": 2,
       "version_minor": 0
      },
      "text/plain": [
       "Validation: |          | 0/? [00:00<?, ?it/s]"
      ]
     },
     "metadata": {},
     "output_type": "display_data"
    },
    {
     "data": {
      "application/vnd.jupyter.widget-view+json": {
       "model_id": "30e16c6cf98141cdbfd277347abeede3",
       "version_major": 2,
       "version_minor": 0
      },
      "text/plain": [
       "Validation: |          | 0/? [00:00<?, ?it/s]"
      ]
     },
     "metadata": {},
     "output_type": "display_data"
    },
    {
     "name": "stderr",
     "output_type": "stream",
     "text": [
      "`Trainer.fit` stopped: `max_epochs=100` reached.\n"
     ]
    }
   ],
   "source": [
    "from pytorch_lightning.loggers import TensorBoardLogger\n",
    "\n",
    "model = BinaryClassifier()\n",
    "logger = TensorBoardLogger(save_dir='logs')\n",
    "trainer = Trainer(logger=logger, max_epochs=100, log_every_n_steps=1)\n",
    "trainer.fit(model, train_loader, val_loader)\n"
   ]
  },
  {
   "cell_type": "markdown",
   "id": "14cd3291",
   "metadata": {},
   "source": [
    "# References\n",
    "- [\\[Pytorch\\] Contiguous vs Non-Contiguous Tensor / View — Understanding view(), reshape(), transpose() | by Kathryn | Analytics Vidhya | Medium](https://medium.com/analytics-vidhya/pytorch-contiguous-vs-non-contiguous-tensor-view-understanding-view-reshape-73e10cdfa0dd)\n",
    "- [PyTorch Lightning](https://lightning.ai/docs/pytorch/stable/index.html)\n",
    "- [TensorBoard](https://www.tensorflow.org/tensorboard)\n",
    "- [PyTorch Documentation](https://pytorch.org/docs/stable/index.html)\n",
    "\n"
   ]
  },
  {
   "cell_type": "markdown",
   "id": "6343c7b4",
   "metadata": {},
   "source": []
  }
 ],
 "metadata": {
  "kernelspec": {
   "display_name": "advnetsci",
   "language": "python",
   "name": "python3"
  },
  "language_info": {
   "codemirror_mode": {
    "name": "ipython",
    "version": 3
   },
   "file_extension": ".py",
   "mimetype": "text/x-python",
   "name": "python",
   "nbconvert_exporter": "python",
   "pygments_lexer": "ipython3",
   "version": "3.11.0"
  }
 },
 "nbformat": 4,
 "nbformat_minor": 5
}
